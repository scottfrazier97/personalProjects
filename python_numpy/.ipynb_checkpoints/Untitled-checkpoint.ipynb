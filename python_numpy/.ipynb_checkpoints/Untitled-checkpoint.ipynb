{
 "cells": [
  {
   "cell_type": "markdown",
   "id": "a1e346a5",
   "metadata": {},
   "source": [
    "#NUMPY"
   ]
  },
  {
   "cell_type": "code",
   "execution_count": null,
   "id": "d62c4730",
   "metadata": {},
   "outputs": [],
   "source": [
    "# very fast language due to it being a C++ wrapper\n",
    "# is fast but expressive, & open source\n",
    "\n",
    "# Is the base for almost all scientific python modules,\n",
    "# Including: Scikit-learn, Pandas, Scikit-image, matplotlib"
   ]
  },
  {
   "cell_type": "code",
   "execution_count": 1,
   "id": "0c86e5fd",
   "metadata": {},
   "outputs": [],
   "source": [
    "import numpy as np"
   ]
  },
  {
   "cell_type": "code",
   "execution_count": 2,
   "id": "eb3ae549",
   "metadata": {},
   "outputs": [
    {
     "name": "stdout",
     "output_type": "stream",
     "text": [
      "[[0 1 2]\n",
      " [3 4 5]]\n",
      "-----\n",
      "[[0 3]\n",
      " [1 4]\n",
      " [2 5]]\n",
      "-----\n",
      "[0 1 2 3 4 5]\n"
     ]
    }
   ],
   "source": [
    "a = np.array([[0, 1, 2],     #a11, a12, a13...\n",
    "              [3, 4, 5]])    #a21, a22, a23\n",
    "print(a)\n",
    "print(\"-\" * 5)\n",
    "    #Transposing the data, flipping columns and rows\n",
    "print(a.T)\n",
    "print(\"-\" * 5)\n",
    "    #Taking all of the values in the matrix notation, and flatten them out\n",
    "print(a.flatten())\n",
    "    #data transposed after being flattened: a11, a21, a12, a22"
   ]
  },
  {
   "cell_type": "code",
   "execution_count": 3,
   "id": "4ab7f699",
   "metadata": {},
   "outputs": [
    {
     "data": {
      "text/plain": [
       "array([1., 2., 3., 4., 5., 6., 7., 8., 9.])"
      ]
     },
     "execution_count": 3,
     "metadata": {},
     "output_type": "execute_result"
    }
   ],
   "source": [
    "#concatenating operations\n",
    "a = np.array([1,2], float)\n",
    "b = np.array([3, 4, 5, 6], float)\n",
    "c = np.array([7, 8, 9], float)\n",
    "#Numpy concatenates them by common dimensions, they all have one row\n",
    "np.concatenate((a, b, c))\n",
    "\n",
    "#The way that I tell NumPy to do that is I put a, b, and c inside of a tuple. So a, b, and c. They're just NumPy arrays. I put them in a tuple, which means I put these parentheses around this tuple. And that makes it a single input variable into the function np.concatentate"
   ]
  },
  {
   "cell_type": "code",
   "execution_count": 4,
   "id": "b8f2eb00",
   "metadata": {},
   "outputs": [
    {
     "data": {
      "text/plain": [
       "array([[1., 2.],\n",
       "       [3., 4.],\n",
       "       [5., 6.],\n",
       "       [7., 8.]])"
      ]
     },
     "execution_count": 4,
     "metadata": {},
     "output_type": "execute_result"
    }
   ],
   "source": [
    "a = np.array([[1, 2], [3, 4]], float)\n",
    "b = np.array([[5, 6], [7, 8]], float)\n",
    "np.concatenate((a, b))"
   ]
  },
  {
   "cell_type": "code",
   "execution_count": 6,
   "id": "d7fd99f4",
   "metadata": {},
   "outputs": [
    {
     "name": "stdout",
     "output_type": "stream",
     "text": [
      "[[1. 2.]\n",
      " [3. 4.]\n",
      " [5. 6.]\n",
      " [7. 8.]]\n",
      "[[1. 2. 5. 6.]\n",
      " [3. 4. 7. 8.]]\n"
     ]
    }
   ],
   "source": [
    "#stacking matrices vertically, row concatenation\n",
    "print(np.concatenate((a, b), axis = 0))\n",
    "\n",
    "#stacking matrices horizontally, column concatenation\n",
    "print(np.concatenate((a, b), axis = 1))"
   ]
  },
  {
   "cell_type": "code",
   "execution_count": null,
   "id": "8c8b332d",
   "metadata": {},
   "outputs": [],
   "source": []
  }
 ],
 "metadata": {
  "kernelspec": {
   "display_name": "Python 3",
   "language": "python",
   "name": "python3"
  },
  "language_info": {
   "codemirror_mode": {
    "name": "ipython",
    "version": 3
   },
   "file_extension": ".py",
   "mimetype": "text/x-python",
   "name": "python",
   "nbconvert_exporter": "python",
   "pygments_lexer": "ipython3",
   "version": "3.8.8"
  }
 },
 "nbformat": 4,
 "nbformat_minor": 5
}
