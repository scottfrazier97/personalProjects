{
 "cells": [
  {
   "cell_type": "markdown",
   "id": "bfcb42e4",
   "metadata": {},
   "source": [
    "#NUMPY"
   ]
  },
  {
   "cell_type": "code",
   "execution_count": null,
   "id": "9a0d65e0",
   "metadata": {},
   "outputs": [],
   "source": [
    "# very fast language due to it being a C++ wrapper\n",
    "# is fast but expressive, & open source\n",
    "\n",
    "# Is the base for almost all scientific python modules,\n",
    "# Including: Scikit-learn, Pandas, Scikit-image, matplotlib"
   ]
  },
  {
   "cell_type": "code",
   "execution_count": 1,
   "id": "8b08bf6a",
   "metadata": {},
   "outputs": [],
   "source": [
    "import numpy as np"
   ]
  },
  {
   "cell_type": "code",
   "execution_count": 2,
   "id": "8f429dd7",
   "metadata": {},
   "outputs": [
    {
     "name": "stdout",
     "output_type": "stream",
     "text": [
      "[[0 1 2]\n",
      " [3 4 5]]\n",
      "-----\n",
      "[[0 3]\n",
      " [1 4]\n",
      " [2 5]]\n",
      "-----\n",
      "[0 1 2 3 4 5]\n"
     ]
    }
   ],
   "source": [
    "a = np.array([[0, 1, 2],     #a11, a12, a13...\n",
    "              [3, 4, 5]])    #a21, a22, a23\n",
    "print(a)\n",
    "print(\"-\" * 5)\n",
    "    #Transposing the data, flipping columns and rows\n",
    "print(a.T)\n",
    "print(\"-\" * 5)\n",
    "    #Taking all of the values in the matrix notation, and flatten them out\n",
    "print(a.flatten())\n",
    "    #data transposed after being flattened: a11, a21, a12, a22"
   ]
  },
  {
   "cell_type": "code",
   "execution_count": 3,
   "id": "54e08c0f",
   "metadata": {},
   "outputs": [
    {
     "data": {
      "text/plain": [
       "array([1., 2., 3., 4., 5., 6., 7., 8., 9.])"
      ]
     },
     "execution_count": 3,
     "metadata": {},
     "output_type": "execute_result"
    }
   ],
   "source": [
    "#concatenating operations\n",
    "a = np.array([1,2], float)\n",
    "b = np.array([3, 4, 5, 6], float)\n",
    "c = np.array([7, 8, 9], float)\n",
    "#Numpy concatenates them by common dimensions, they all have one row\n",
    "np.concatenate((a, b, c))\n",
    "\n",
    "#The way that I tell NumPy to do that is I put a, b, and c inside of a tuple. So a, b, and c. They're just NumPy arrays. I put them in a tuple, which means I put these parentheses around this tuple. And that makes it a single input variable into the function np.concatentate"
   ]
  },
  {
   "cell_type": "code",
   "execution_count": 4,
   "id": "af7396bc",
   "metadata": {},
   "outputs": [
    {
     "data": {
      "text/plain": [
       "array([[1., 2.],\n",
       "       [3., 4.],\n",
       "       [5., 6.],\n",
       "       [7., 8.]])"
      ]
     },
     "execution_count": 4,
     "metadata": {},
     "output_type": "execute_result"
    }
   ],
   "source": [
    "a = np.array([[1, 2], [3, 4]], float)\n",
    "b = np.array([[5, 6], [7, 8]], float)\n",
    "np.concatenate((a, b))"
   ]
  },
  {
   "cell_type": "code",
   "execution_count": 6,
   "id": "bd817875",
   "metadata": {},
   "outputs": [
    {
     "name": "stdout",
     "output_type": "stream",
     "text": [
      "[[1. 2.]\n",
      " [3. 4.]\n",
      " [5. 6.]\n",
      " [7. 8.]]\n",
      "[[1. 2. 5. 6.]\n",
      " [3. 4. 7. 8.]]\n"
     ]
    }
   ],
   "source": [
    "#stacking matrices vertically, row concatenation\n",
    "print(np.concatenate((a, b), axis = 0))\n",
    "\n",
    "#stacking matrices horizontally, column concatenation\n",
    "print(np.concatenate((a, b), axis = 1))"
   ]
  },
  {
   "cell_type": "code",
   "execution_count": 8,
   "id": "141e2733",
   "metadata": {},
   "outputs": [
    {
     "name": "stdout",
     "output_type": "stream",
     "text": [
      "[1. 2. 3.]\n",
      "-----\n",
      "[[1.]\n",
      " [2.]\n",
      " [3.]]\n",
      "-----\n",
      "(3, 1)\n"
     ]
    }
   ],
   "source": [
    "a = np.array([1, 2, 3], float)\n",
    "print(a)\n",
    "print(\"-\" * 5)\n",
    "#represent the array as a column vector\n",
    "print(a[:, np.newaxis])\n",
    "print(\"-\" * 5)\n",
    "#show the shape of the matrix, 3 rows, 1 column\n",
    "print(a[:, np.newaxis].shape)"
   ]
  },
  {
   "cell_type": "code",
   "execution_count": 9,
   "id": "a5032e2c",
   "metadata": {},
   "outputs": [
    {
     "name": "stdout",
     "output_type": "stream",
     "text": [
      "[[[5. 6.]\n",
      "  [7. 8.]]]\n",
      "-----\n",
      "(1, 2, 2)\n"
     ]
    }
   ],
   "source": [
    "#multiple dimensions of data within arrays\n",
    "print(b[np.newaxis, :])\n",
    "print(\"-\" * 5)\n",
    "print(b[np.newaxis, :].shape)"
   ]
  },
  {
   "cell_type": "code",
   "execution_count": 12,
   "id": "a1368e40",
   "metadata": {},
   "outputs": [
    {
     "name": "stdout",
     "output_type": "stream",
     "text": [
      "+  [6. 4. 9.]\n",
      "-  [-4.  0. -3.]\n",
      "*  [ 5.  4. 18.]\n",
      "/  [0.2 1.  0.5]\n",
      "%  [1. 0. 3.]\n",
      "**  [  1.   4. 729.]\n",
      "@  27.0\n"
     ]
    }
   ],
   "source": [
    "#using numpy to perform operations on two different vectors\n",
    "#-----\n",
    "#elements must be same size for some operations to work properly\n",
    "a = np.array([1, 2, 3], float)\n",
    "b = np.array([5, 2, 6], float)\n",
    "\n",
    "print(\"+ \", a + b)\n",
    "print(\"- \", a - b)\n",
    "print(\"* \", a * b)\n",
    "print(\"/ \", a / b)\n",
    "print(\"% \", a % b)\n",
    "print(\"** \", a ** b)\n",
    "print(\"@ \", a @ b)"
   ]
  },
  {
   "cell_type": "code",
   "execution_count": 13,
   "id": "5243e1cb",
   "metadata": {},
   "outputs": [
    {
     "name": "stdout",
     "output_type": "stream",
     "text": [
      "[[0. 5.]\n",
      " [2. 7.]\n",
      " [4. 9.]]\n"
     ]
    }
   ],
   "source": [
    "#broadcasting operations is for different sized matrices\n",
    "a = np.array([[1, 2], [3, 4], [5, 6]], float)\n",
    "b = np.array([-1, 3], float)\n",
    "\n",
    "a\n",
    "b\n",
    "\n",
    "print(a + b)"
   ]
  },
  {
   "cell_type": "code",
   "execution_count": 14,
   "id": "df74cc74",
   "metadata": {},
   "outputs": [
    {
     "data": {
      "text/plain": [
       "array([ 0,  1,  2,  3,  4,  5,  6, 22, 23, 55])"
      ]
     },
     "execution_count": 14,
     "metadata": {},
     "output_type": "execute_result"
    }
   ],
   "source": [
    "np.unique([0, 3, 4, 5, 4, 4, 5, 6, 3, 55, 4, 23, 22, 2, 2, 1])"
   ]
  },
  {
   "cell_type": "code",
   "execution_count": 15,
   "id": "ede62d22",
   "metadata": {},
   "outputs": [
    {
     "name": "stdout",
     "output_type": "stream",
     "text": [
      "[1. 5. 2.]\n",
      "[1.0e+00 4.5e+00 1.5e+03]\n"
     ]
    }
   ],
   "source": [
    "#indexing, and slicing\n",
    "a = np.array([[1, 4.5, 1500],\n",
    "             [5, 3.5, 800],\n",
    "             [2, 0.5, 1300]])\n",
    "\n",
    "#grabbing everything in the 0th (1st) column\n",
    "print(a[:, 0])\n",
    "\n",
    "#grabbing everything in the 0th (1st) row\n",
    "print(a[0, :])"
   ]
  },
  {
   "cell_type": "code",
   "execution_count": null,
   "id": "506b2bb3",
   "metadata": {},
   "outputs": [],
   "source": []
  }
 ],
 "metadata": {
  "kernelspec": {
   "display_name": "Python 3",
   "language": "python",
   "name": "python3"
  },
  "language_info": {
   "codemirror_mode": {
    "name": "ipython",
    "version": 3
   },
   "file_extension": ".py",
   "mimetype": "text/x-python",
   "name": "python",
   "nbconvert_exporter": "python",
   "pygments_lexer": "ipython3",
   "version": "3.8.8"
  }
 },
 "nbformat": 4,
 "nbformat_minor": 5
}
