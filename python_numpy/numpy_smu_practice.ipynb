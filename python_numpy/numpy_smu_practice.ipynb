{
 "cells": [
  {
   "cell_type": "markdown",
   "id": "06e61da1",
   "metadata": {},
   "source": [
    "#NUMPY"
   ]
  },
  {
   "cell_type": "code",
   "execution_count": 1,
   "id": "7f664c86",
   "metadata": {},
   "outputs": [],
   "source": [
    "# very fast language due to it being a C++ wrapper\n",
    "# is fast but expressive, & open source\n",
    "\n",
    "# Is the base for almost all scientific python modules,\n",
    "# Including: Scikit-learn, Pandas, Scikit-image, matplotlib"
   ]
  },
  {
   "cell_type": "code",
   "execution_count": 2,
   "id": "7de07083",
   "metadata": {},
   "outputs": [],
   "source": [
    "import numpy as np\n",
    "from matplotlib import pyplot as plt"
   ]
  },
  {
   "cell_type": "code",
   "execution_count": 3,
   "id": "a85a47f9",
   "metadata": {},
   "outputs": [
    {
     "name": "stdout",
     "output_type": "stream",
     "text": [
      "[[0 1 2]\n",
      " [3 4 5]]\n",
      "-----\n",
      "[[0 3]\n",
      " [1 4]\n",
      " [2 5]]\n",
      "-----\n",
      "[0 1 2 3 4 5]\n"
     ]
    }
   ],
   "source": [
    "a = np.array([[0, 1, 2],     #a11, a12, a13...\n",
    "              [3, 4, 5]])    #a21, a22, a23\n",
    "print(a)\n",
    "print(\"-\" * 5)\n",
    "    #Transposing the data, flipping columns and rows\n",
    "print(a.T)\n",
    "print(\"-\" * 5)\n",
    "    #Taking all of the values in the matrix notation, and flatten them out\n",
    "print(a.flatten())\n",
    "    #data transposed after being flattened: a11, a21, a12, a22"
   ]
  },
  {
   "cell_type": "code",
   "execution_count": 4,
   "id": "e915df11",
   "metadata": {},
   "outputs": [
    {
     "data": {
      "text/plain": [
       "array([1., 2., 3., 4., 5., 6., 7., 8., 9.])"
      ]
     },
     "execution_count": 4,
     "metadata": {},
     "output_type": "execute_result"
    }
   ],
   "source": [
    "#concatenating operations\n",
    "a = np.array([1,2], float)\n",
    "b = np.array([3, 4, 5, 6], float)\n",
    "c = np.array([7, 8, 9], float)\n",
    "#Numpy concatenates them by common dimensions, they all have one row\n",
    "np.concatenate((a, b, c))\n",
    "\n",
    "#The way that I tell NumPy to do that is I put a, b, and c inside of a tuple. So a, b, and c. They're just NumPy arrays. I put them in a tuple, which means I put these parentheses around this tuple. And that makes it a single input variable into the function np.concatentate"
   ]
  },
  {
   "cell_type": "code",
   "execution_count": 5,
   "id": "72a2f303",
   "metadata": {},
   "outputs": [
    {
     "data": {
      "text/plain": [
       "array([[1., 2.],\n",
       "       [3., 4.],\n",
       "       [5., 6.],\n",
       "       [7., 8.]])"
      ]
     },
     "execution_count": 5,
     "metadata": {},
     "output_type": "execute_result"
    }
   ],
   "source": [
    "a = np.array([[1, 2], [3, 4]], float)\n",
    "b = np.array([[5, 6], [7, 8]], float)\n",
    "np.concatenate((a, b))"
   ]
  },
  {
   "cell_type": "code",
   "execution_count": 6,
   "id": "8251d8cd",
   "metadata": {},
   "outputs": [
    {
     "name": "stdout",
     "output_type": "stream",
     "text": [
      "[[1. 2.]\n",
      " [3. 4.]\n",
      " [5. 6.]\n",
      " [7. 8.]]\n",
      "[[1. 2. 5. 6.]\n",
      " [3. 4. 7. 8.]]\n"
     ]
    }
   ],
   "source": [
    "#stacking matrices vertically, row concatenation\n",
    "print(np.concatenate((a, b), axis = 0))\n",
    "\n",
    "#stacking matrices horizontally, column concatenation\n",
    "print(np.concatenate((a, b), axis = 1))"
   ]
  },
  {
   "cell_type": "code",
   "execution_count": 7,
   "id": "5a79d1f0",
   "metadata": {},
   "outputs": [
    {
     "name": "stdout",
     "output_type": "stream",
     "text": [
      "[1. 2. 3.]\n",
      "-----\n",
      "[[1.]\n",
      " [2.]\n",
      " [3.]]\n",
      "-----\n",
      "(3, 1)\n"
     ]
    }
   ],
   "source": [
    "a = np.array([1, 2, 3], float)\n",
    "print(a)\n",
    "print(\"-\" * 5)\n",
    "#represent the array as a column vector\n",
    "print(a[:, np.newaxis])\n",
    "print(\"-\" * 5)\n",
    "#show the shape of the matrix, 3 rows, 1 column\n",
    "print(a[:, np.newaxis].shape)"
   ]
  },
  {
   "cell_type": "code",
   "execution_count": 8,
   "id": "29a7e71c",
   "metadata": {},
   "outputs": [
    {
     "name": "stdout",
     "output_type": "stream",
     "text": [
      "[[[5. 6.]\n",
      "  [7. 8.]]]\n",
      "-----\n",
      "(1, 2, 2)\n"
     ]
    }
   ],
   "source": [
    "#multiple dimensions of data within arrays\n",
    "print(b[np.newaxis, :])\n",
    "print(\"-\" * 5)\n",
    "print(b[np.newaxis, :].shape)"
   ]
  },
  {
   "cell_type": "code",
   "execution_count": 9,
   "id": "4014c028",
   "metadata": {},
   "outputs": [
    {
     "name": "stdout",
     "output_type": "stream",
     "text": [
      "+  [6. 4. 9.]\n",
      "-  [-4.  0. -3.]\n",
      "*  [ 5.  4. 18.]\n",
      "/  [0.2 1.  0.5]\n",
      "%  [1. 0. 3.]\n",
      "**  [  1.   4. 729.]\n",
      "@  27.0\n"
     ]
    }
   ],
   "source": [
    "#using numpy to perform operations on two different vectors\n",
    "#-----\n",
    "#elements must be same size for some operations to work properly\n",
    "a = np.array([1, 2, 3], float)\n",
    "b = np.array([5, 2, 6], float)\n",
    "\n",
    "print(\"+ \", a + b)\n",
    "print(\"- \", a - b)\n",
    "print(\"* \", a * b)\n",
    "print(\"/ \", a / b)\n",
    "print(\"% \", a % b)\n",
    "print(\"** \", a ** b)\n",
    "print(\"@ \", a @ b)"
   ]
  },
  {
   "cell_type": "code",
   "execution_count": 10,
   "id": "ca274f0c",
   "metadata": {},
   "outputs": [
    {
     "name": "stdout",
     "output_type": "stream",
     "text": [
      "[[0. 5.]\n",
      " [2. 7.]\n",
      " [4. 9.]]\n"
     ]
    }
   ],
   "source": [
    "#broadcasting operations is for different sized matrices\n",
    "a = np.array([[1, 2], [3, 4], [5, 6]], float)\n",
    "b = np.array([-1, 3], float)\n",
    "\n",
    "a\n",
    "b\n",
    "\n",
    "print(a + b)"
   ]
  },
  {
   "cell_type": "code",
   "execution_count": 11,
   "id": "9d87a5ca",
   "metadata": {},
   "outputs": [
    {
     "data": {
      "text/plain": [
       "array([ 0,  1,  2,  3,  4,  5,  6, 22, 23, 55])"
      ]
     },
     "execution_count": 11,
     "metadata": {},
     "output_type": "execute_result"
    }
   ],
   "source": [
    "np.unique([0, 3, 4, 5, 4, 4, 5, 6, 3, 55, 4, 23, 22, 2, 2, 1])"
   ]
  },
  {
   "cell_type": "code",
   "execution_count": 12,
   "id": "49e9d311",
   "metadata": {},
   "outputs": [
    {
     "name": "stdout",
     "output_type": "stream",
     "text": [
      "[1. 5. 2.]\n",
      "[1.0e+00 4.5e+00 1.5e+03]\n"
     ]
    }
   ],
   "source": [
    "#indexing, and slicing\n",
    "a = np.array([[1, 4.5, 1500],\n",
    "             [5, 3.5, 800],\n",
    "             [2, 0.5, 1300]])\n",
    "\n",
    "#grabbing everything in the 0th (1st) column\n",
    "print(a[:, 0])\n",
    "\n",
    "#grabbing everything in the 0th (1st) row\n",
    "print(a[0, :])"
   ]
  },
  {
   "cell_type": "code",
   "execution_count": 13,
   "id": "f2465243",
   "metadata": {},
   "outputs": [
    {
     "name": "stdout",
     "output_type": "stream",
     "text": [
      "[False  True  True]\n",
      "-----\n",
      "[[5.0e+00 3.5e+00 8.0e+02]\n",
      " [2.0e+00 5.0e-01 1.3e+03]]\n"
     ]
    }
   ],
   "source": [
    "#grabbing all elements within all rows, column 1; checks for T/F\n",
    "print(a[:, 0]>=2)\n",
    "print(\"-\" * 5)\n",
    "\n",
    "#go into our matrix, print rows where >=2 is true\n",
    "print(a[ a[:, 0]>=2])"
   ]
  },
  {
   "cell_type": "code",
   "execution_count": 14,
   "id": "e047c19a",
   "metadata": {},
   "outputs": [
    {
     "name": "stdout",
     "output_type": "stream",
     "text": [
      "1304.5\n",
      "-----\n",
      "[1.0e+00 3.5e+00 1.3e+03]\n",
      "-----\n",
      "1304.5\n",
      "-----\n",
      "[[1.0e+00 0.0e+00 0.0e+00]\n",
      " [0.0e+00 3.5e+00 0.0e+00]\n",
      " [0.0e+00 0.0e+00 1.3e+03]]\n"
     ]
    }
   ],
   "source": [
    "#go into our matrix, and sum all diagonal values\n",
    "print(np.trace(a))\n",
    "print(\"-\" * 5)\n",
    "\n",
    "#goes into our matrix, and creates a new vector with original values\n",
    "print(np.diagonal(a))\n",
    "print(\"-\" * 5)\n",
    "\n",
    "#sum all of the diagonal values\n",
    "v = np.diagonal(a)\n",
    "print(np.sum(v))\n",
    "print(\"-\" * 5)\n",
    "\n",
    "#creates new matrix with original diagonal values, all other values are now 0\n",
    "#Useful when trying to optimize, when we want something concise when we are doing matrix multiplication\n",
    "print(np.diag(v))"
   ]
  },
  {
   "cell_type": "code",
   "execution_count": 15,
   "id": "587b0b49",
   "metadata": {},
   "outputs": [
    {
     "name": "stdout",
     "output_type": "stream",
     "text": [
      "-24650.000000000004\n",
      "-----\n",
      "[[-1.68356998e-01  2.06896552e-01  6.69371197e-02]\n",
      " [ 1.98782961e-01  6.89655172e-02 -2.71805274e-01]\n",
      " [ 1.82555781e-04 -3.44827586e-04  7.70791075e-04]]\n"
     ]
    }
   ],
   "source": [
    "from numpy import linalg as lin\n",
    "print(lin.det(a))\n",
    "print(\"-\" * 5)\n",
    "\n",
    "print(lin.inv(a))"
   ]
  },
  {
   "cell_type": "markdown",
   "id": "cd00dfd8",
   "metadata": {},
   "source": [
    "#NUMPY, BASICS PART 2"
   ]
  },
  {
   "cell_type": "code",
   "execution_count": 16,
   "id": "447e7371",
   "metadata": {},
   "outputs": [
    {
     "name": "stdout",
     "output_type": "stream",
     "text": [
      "[[-1 -2]\n",
      " [ 3  1]\n",
      " [ 4  5]]\n",
      "-----\n",
      "[[0.2 0.8]]\n",
      "-----\n"
     ]
    },
    {
     "data": {
      "text/plain": [
       "array([[-1.8],\n",
       "       [ 1.4],\n",
       "       [ 4.8]])"
      ]
     },
     "execution_count": 16,
     "metadata": {},
     "output_type": "execute_result"
    }
   ],
   "source": [
    "x = np.array([[-1, -2], \n",
    "             [3, 1],\n",
    "             [4, 5]]) # Make a column\n",
    "\n",
    "w = np.array([[0.2, 0.8]])\n",
    "\n",
    "print(x)\n",
    "print(\"-\" * 5)\n",
    "print(w)\n",
    "print(\"-\" * 5)\n",
    "np.dot(x, w.T)"
   ]
  },
  {
   "cell_type": "code",
   "execution_count": 17,
   "id": "4c5467fb",
   "metadata": {},
   "outputs": [
    {
     "data": {
      "text/plain": [
       "array([[0.14185106],\n",
       "       [0.80218389],\n",
       "       [0.99183743]])"
      ]
     },
     "execution_count": 17,
     "metadata": {},
     "output_type": "execute_result"
    }
   ],
   "source": [
    "def yhat(x, w):\n",
    "    return 1/(1+np.exp(-np.dot(x, w.T)))\n",
    "yhat(x,w)"
   ]
  },
  {
   "cell_type": "code",
   "execution_count": 18,
   "id": "c4c9e6d1",
   "metadata": {},
   "outputs": [],
   "source": [
    "#create objective function\n",
    "def obj(w, x, y):\n",
    "    return np.sum((y-yhat(x, w))**2)"
   ]
  },
  {
   "cell_type": "code",
   "execution_count": 19,
   "id": "b4b4bf8f",
   "metadata": {},
   "outputs": [
    {
     "name": "stdout",
     "output_type": "stream",
     "text": [
      "0.2557287580996265\n",
      "-----\n",
      "0.24599303072800394\n",
      "-----\n",
      "0.24966608916302954\n"
     ]
    }
   ],
   "source": [
    "# example\n",
    "x_rand = (np.random.rand(100, 2)-0.5)*2 #n_rows by n_cols\n",
    "\n",
    "w_exact = np.array((5, 3))\n",
    "y = yhat(x_rand, w_exact) #generate function\n",
    "y = y + np.random.randn(*y.shape)*0.055 # add random Gaussian noise\n",
    "\n",
    "w_temp = np.array([5.5, 3.2])\n",
    "print(obj(w_temp, x_rand, y))\n",
    "print(\"-\" * 5)\n",
    "\n",
    "w_temp = np.array([5.1, 3.1])\n",
    "print(obj(w_temp, x_rand, y))\n",
    "\n",
    "print(\"-\" * 5)\n",
    "print(obj(w_exact, x_rand, y))"
   ]
  },
  {
   "cell_type": "markdown",
   "id": "760c8c56",
   "metadata": {},
   "source": [
    "#matplotlib"
   ]
  },
  {
   "cell_type": "code",
   "execution_count": 26,
   "id": "a3cea5be",
   "metadata": {},
   "outputs": [
    {
     "data": {
      "text/plain": [
       "Text(0.5, 1.0, 'Not so close w to actual')"
      ]
     },
     "execution_count": 26,
     "metadata": {},
     "output_type": "execute_result"
    },
    {
     "data": {
      "image/png": "[encoded data removed]",
      "text/plain": [
       "<Figure size 432x288 with 2 Axes>"
      ]
     },
     "metadata": {
      "needs_background": "light"
     },
     "output_type": "display_data"
    }
   ],
   "source": [
    "%matplotlib inline\n",
    "\n",
    "plt.subplot(1, 2, 1)\n",
    "plt.plot(np.dot(x_rand, w_exact.T), y, \".\")\n",
    "plt.title(\"Close w to actual\")\n",
    "\n",
    "w_temp = np.array([5.5, 0.2])\n",
    "plt.subplot(1, 2, 2)\n",
    "plt.plot(np.dot(x_rand, w_temp.T), y, \".\")\n",
    "plt.title(\"Not so close w to actual\")"
   ]
  },
  {
   "cell_type": "code",
   "execution_count": 28,
   "id": "00f9effe",
   "metadata": {},
   "outputs": [
    {
     "name": "stdout",
     "output_type": "stream",
     "text": [
      " final_simplex: (array([[5.25541978, 3.18367054],\n",
      "       [5.25550121, 3.1836987 ],\n",
      "       [5.25549681, 3.18373269]]), array([0.24420253, 0.24420253, 0.24420253]))\n",
      "           fun: 0.24420253292102506\n",
      "       message: 'Optimization terminated successfully.'\n",
      "          nfev: 104\n",
      "           nit: 54\n",
      "        status: 0\n",
      "       success: True\n",
      "             x: array([5.25541978, 3.18367054])\n",
      "Exact values:  [5 3]\n"
     ]
    }
   ],
   "source": [
    "#taking first pass at optimization via Nelder Mead\n",
    "from scipy.optimize import minimize\n",
    "\n",
    "#optimize objective function\n",
    "w_start = np.random.rand(*w_exact.shape)\n",
    "w_found = minimize(obj, w_start, method = \"Nelder-Mead\", args = (x_rand, y))\n",
    "\n",
    "print(w_found)\n",
    "print(\"Exact values: \", w_exact)"
   ]
  },
  {
   "cell_type": "code",
   "execution_count": null,
   "id": "12b98031",
   "metadata": {},
   "outputs": [],
   "source": []
  }
 ],
 "metadata": {
  "kernelspec": {
   "display_name": "Python 3",
   "language": "python",
   "name": "python3"
  },
  "language_info": {
   "codemirror_mode": {
    "name": "ipython",
    "version": 3
   },
   "file_extension": ".py",
   "mimetype": "text/x-python",
   "name": "python",
   "nbconvert_exporter": "python",
   "pygments_lexer": "ipython3",
   "version": "3.8.8"
  }
 },
 "nbformat": 4,
 "nbformat_minor": 5
}
