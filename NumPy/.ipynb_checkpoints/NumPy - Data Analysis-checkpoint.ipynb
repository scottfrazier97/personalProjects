{
 "cells": [
  {
   "cell_type": "markdown",
   "id": "d1e3fa80",
   "metadata": {},
   "source": [
    "### NumPy Introduction"
   ]
  },
  {
   "cell_type": "markdown",
   "id": "aac9c0f4",
   "metadata": {},
   "source": [
    "1) NumPy: Numerical Python<br>2) A linear algebra library for Python. Utilized by a large number of other libraries in the Python ecosystem. Also very fast.<br>3) NumPy arrays come in two flavors: Vectors, and matrices<br>--Vectors are strictly 1-d arrays<br>--Matrices are 2-d ( you can still have a matrix with only one row or column)<br>"
   ]
  },
  {
   "cell_type": "markdown",
   "id": "57eebadb",
   "metadata": {},
   "source": [
    "### NumPy Arrays"
   ]
  },
  {
   "cell_type": "markdown",
   "id": "c8b1acdb",
   "metadata": {},
   "source": [
    "Can create a list and then cast it as a NumPy array"
   ]
  },
  {
   "cell_type": "code",
   "execution_count": 1,
   "id": "1dd68072",
   "metadata": {},
   "outputs": [],
   "source": [
    "my_list = [1,2,3]"
   ]
  },
  {
   "cell_type": "code",
   "execution_count": 3,
   "id": "25125baa",
   "metadata": {},
   "outputs": [],
   "source": [
    "import numpy as np"
   ]
  },
  {
   "cell_type": "markdown",
   "id": "c3c4fcb5",
   "metadata": {},
   "source": [
    "1-d array"
   ]
  },
  {
   "cell_type": "code",
   "execution_count": 5,
   "id": "0c3dcc68",
   "metadata": {},
   "outputs": [],
   "source": [
    "arr = np.array(my_list)"
   ]
  },
  {
   "cell_type": "code",
   "execution_count": 6,
   "id": "09c4e90b",
   "metadata": {},
   "outputs": [
    {
     "data": {
      "text/plain": [
       "array([1, 2, 3])"
      ]
     },
     "execution_count": 6,
     "metadata": {},
     "output_type": "execute_result"
    }
   ],
   "source": [
    "arr"
   ]
  },
  {
   "cell_type": "markdown",
   "id": "ba10fbcd",
   "metadata": {},
   "source": [
    "To get a 2-d array, can pass a list of lists...2-d array can be identified by the number of outside brackets"
   ]
  },
  {
   "cell_type": "code",
   "execution_count": 7,
   "id": "d32fdedc",
   "metadata": {},
   "outputs": [],
   "source": [
    "my_mat = [[1,2,3],[4,5,6],[7,8,9]]"
   ]
  },
  {
   "cell_type": "code",
   "execution_count": 8,
   "id": "06f965d7",
   "metadata": {},
   "outputs": [
    {
     "data": {
      "text/plain": [
       "array([[1, 2, 3],\n",
       "       [4, 5, 6],\n",
       "       [7, 8, 9]])"
      ]
     },
     "execution_count": 8,
     "metadata": {},
     "output_type": "execute_result"
    }
   ],
   "source": [
    "np.array(my_mat)"
   ]
  },
  {
   "cell_type": "markdown",
   "id": "437f9e68",
   "metadata": {},
   "source": [
    "##### Creating NumPy arrays without Python lists"
   ]
  },
  {
   "cell_type": "code",
   "execution_count": 12,
   "id": "cbd75f06",
   "metadata": {},
   "outputs": [
    {
     "data": {
      "text/plain": [
       "array([0, 2, 4, 6, 8])"
      ]
     },
     "execution_count": 12,
     "metadata": {},
     "output_type": "execute_result"
    }
   ],
   "source": [
    "np.arange(0,10,2) #Starts at 0, up to but not including 10, with a step of 2"
   ]
  },
  {
   "cell_type": "code",
   "execution_count": 13,
   "id": "d6fb4de0",
   "metadata": {},
   "outputs": [
    {
     "data": {
      "text/plain": [
       "array([0., 0., 0.])"
      ]
     },
     "execution_count": 13,
     "metadata": {},
     "output_type": "execute_result"
    }
   ],
   "source": [
    "np.zeros(3) #One dimensional vector of zeros"
   ]
  },
  {
   "cell_type": "code",
   "execution_count": 14,
   "id": "e35e0ae7",
   "metadata": {},
   "outputs": [
    {
     "data": {
      "text/plain": [
       "array([[0., 0., 0., 0., 0.],\n",
       "       [0., 0., 0., 0., 0.],\n",
       "       [0., 0., 0., 0., 0.],\n",
       "       [0., 0., 0., 0., 0.],\n",
       "       [0., 0., 0., 0., 0.]])"
      ]
     },
     "execution_count": 14,
     "metadata": {},
     "output_type": "execute_result"
    }
   ],
   "source": [
    "np.zeros((5,5)) #Tuple to pass in more than one dimension"
   ]
  },
  {
   "cell_type": "code",
   "execution_count": 15,
   "id": "b678aca5",
   "metadata": {},
   "outputs": [
    {
     "data": {
      "text/plain": [
       "array([1., 1., 1., 1., 1.])"
      ]
     },
     "execution_count": 15,
     "metadata": {},
     "output_type": "execute_result"
    }
   ],
   "source": [
    "np.ones(5)"
   ]
  },
  {
   "cell_type": "code",
   "execution_count": 16,
   "id": "c0c208ce",
   "metadata": {},
   "outputs": [
    {
     "data": {
      "text/plain": [
       "array([[1., 1., 1., 1., 1.],\n",
       "       [1., 1., 1., 1., 1.],\n",
       "       [1., 1., 1., 1., 1.],\n",
       "       [1., 1., 1., 1., 1.]])"
      ]
     },
     "execution_count": 16,
     "metadata": {},
     "output_type": "execute_result"
    }
   ],
   "source": [
    "np.ones((4,5))"
   ]
  },
  {
   "cell_type": "code",
   "execution_count": 19,
   "id": "f77d206a",
   "metadata": {},
   "outputs": [
    {
     "data": {
      "text/plain": [
       "array([0.        , 0.55555556, 1.11111111, 1.66666667, 2.22222222,\n",
       "       2.77777778, 3.33333333, 3.88888889, 4.44444444, 5.        ])"
      ]
     },
     "execution_count": 19,
     "metadata": {},
     "output_type": "execute_result"
    }
   ],
   "source": [
    "np.linspace(0,5,10) #Returns a range of numbers from the start to the stop, specified with your number of evenly spaced points"
   ]
  },
  {
   "cell_type": "code",
   "execution_count": 23,
   "id": "c4831086",
   "metadata": {},
   "outputs": [
    {
     "data": {
      "text/plain": [
       "array([[1., 0., 0., 0.],\n",
       "       [0., 1., 0., 0.],\n",
       "       [0., 0., 1., 0.],\n",
       "       [0., 0., 0., 1.]])"
      ]
     },
     "execution_count": 23,
     "metadata": {},
     "output_type": "execute_result"
    }
   ],
   "source": [
    "# Single digit argument. Identity matrix useful for linear algebra problems. Number of rows is same as columns.\n",
    "# Returns a diagonal of ones, everything else 0. Identity matrix must be square, which is the reason for one argument\n",
    "np.eye(4) "
   ]
  },
  {
   "cell_type": "markdown",
   "id": "e1a68f41",
   "metadata": {},
   "source": [
    "##### Creating arrays of random numbers"
   ]
  },
  {
   "cell_type": "code",
   "execution_count": 27,
   "id": "f7d250be",
   "metadata": {},
   "outputs": [
    {
     "data": {
      "text/plain": [
       "array([0.34083722, 0.98317075, 0.01198076, 0.94760358, 0.42235599])"
      ]
     },
     "execution_count": 27,
     "metadata": {},
     "output_type": "execute_result"
    }
   ],
   "source": [
    "# Creates an array of a given shape, and populate with random samples from a UNIFORM distribution. Ranging from 0 to 1\n",
    "np.random.rand(5)"
   ]
  },
  {
   "cell_type": "code",
   "execution_count": 28,
   "id": "c854e6a3",
   "metadata": {},
   "outputs": [
    {
     "data": {
      "text/plain": [
       "array([[0.77934847, 0.25264436, 0.88201766, 0.12377619, 0.10120525],\n",
       "       [0.51889027, 0.30052895, 0.69385115, 0.9659485 , 0.37910407],\n",
       "       [0.51353453, 0.4369369 , 0.81979756, 0.87617658, 0.80968568],\n",
       "       [0.89066692, 0.80832308, 0.44455481, 0.50284123, 0.07897868],\n",
       "       [0.92301974, 0.53115179, 0.26879543, 0.57391301, 0.52556032]])"
      ]
     },
     "execution_count": 28,
     "metadata": {},
     "output_type": "execute_result"
    }
   ],
   "source": [
    "np.random.rand(5,5)"
   ]
  },
  {
   "cell_type": "code",
   "execution_count": 29,
   "id": "9da2e443",
   "metadata": {},
   "outputs": [
    {
     "data": {
      "text/plain": [
       "array([0.74269995, 0.63362701])"
      ]
     },
     "execution_count": 29,
     "metadata": {},
     "output_type": "execute_result"
    }
   ],
   "source": [
    "# Creating an array of random numbers from a NORMAL distribution\n",
    "np.random.randn(2)"
   ]
  },
  {
   "cell_type": "code",
   "execution_count": 30,
   "id": "d8fd90c8",
   "metadata": {},
   "outputs": [
    {
     "data": {
      "text/plain": [
       "array([[ 0.30135888,  1.29716457,  0.63137752, -1.02255963, -0.49300398],\n",
       "       [-0.67689523,  0.66802386,  0.60260483, -1.06386064, -0.31835348]])"
      ]
     },
     "execution_count": 30,
     "metadata": {},
     "output_type": "execute_result"
    }
   ],
   "source": [
    "np.random.randn(2,5)"
   ]
  },
  {
   "cell_type": "code",
   "execution_count": 32,
   "id": "de3a4e44",
   "metadata": {},
   "outputs": [
    {
     "data": {
      "text/plain": [
       "array([27, 58, 47, 32, 59,  1, 72, 53, 72,  7, 83, 84, 57, 71, 50])"
      ]
     },
     "execution_count": 32,
     "metadata": {},
     "output_type": "execute_result"
    }
   ],
   "source": [
    "#Generating random integer, (start, stop, number of integers you want returned)\n",
    "np.random.randint(1,100, 15)"
   ]
  },
  {
   "cell_type": "markdown",
   "id": "bd98582c",
   "metadata": {},
   "source": [
    "##### Useful attributes or methods of an array"
   ]
  },
  {
   "cell_type": "code",
   "execution_count": 36,
   "id": "8a62fdd0",
   "metadata": {},
   "outputs": [
    {
     "data": {
      "text/plain": [
       "array([ 0,  1,  2,  3,  4,  5,  6,  7,  8,  9, 10, 11, 12, 13, 14, 15, 16,\n",
       "       17, 18, 19, 20, 21, 22, 23, 24])"
      ]
     },
     "execution_count": 36,
     "metadata": {},
     "output_type": "execute_result"
    }
   ],
   "source": [
    "arr = np.arange(25)\n",
    "arr"
   ]
  },
  {
   "cell_type": "code",
   "execution_count": 37,
   "id": "720435dd",
   "metadata": {},
   "outputs": [
    {
     "data": {
      "text/plain": [
       "array([48, 42, 21, 40, 46,  7, 11, 14,  7, 36])"
      ]
     },
     "execution_count": 37,
     "metadata": {},
     "output_type": "execute_result"
    }
   ],
   "source": [
    "ranarr = np.random.randint(0,50,10)\n",
    "ranarr"
   ]
  },
  {
   "cell_type": "code",
   "execution_count": 54,
   "id": "a239d1ce",
   "metadata": {},
   "outputs": [
    {
     "data": {
      "text/plain": [
       "array([[ 0,  1,  2,  3,  4],\n",
       "       [ 5,  6,  7,  8,  9],\n",
       "       [10, 11, 12, 13, 14],\n",
       "       [15, 16, 17, 18, 19],\n",
       "       [20, 21, 22, 23, 24]])"
      ]
     },
     "execution_count": 54,
     "metadata": {},
     "output_type": "execute_result"
    }
   ],
   "source": [
    "#Creating a new shape for our array, values remain same\n",
    "#MUST have same number of values to fill array. Original is 25, and so is the reshaped version\n",
    "#MUST re-assign the reshape to a variable to fully reshape it\n",
    "\n",
    "arr.reshape(5,5) "
   ]
  },
  {
   "cell_type": "code",
   "execution_count": 43,
   "id": "5174e3fa",
   "metadata": {},
   "outputs": [
    {
     "data": {
      "text/plain": [
       "48"
      ]
     },
     "execution_count": 43,
     "metadata": {},
     "output_type": "execute_result"
    }
   ],
   "source": [
    "#MAX value within an array\n",
    "ranarr.max()"
   ]
  },
  {
   "cell_type": "code",
   "execution_count": 44,
   "id": "ab50dd4f",
   "metadata": {},
   "outputs": [
    {
     "data": {
      "text/plain": [
       "7"
      ]
     },
     "execution_count": 44,
     "metadata": {},
     "output_type": "execute_result"
    }
   ],
   "source": [
    "#MIN value within an array\n",
    "ranarr.min()"
   ]
  },
  {
   "cell_type": "code",
   "execution_count": 48,
   "id": "2b9f4292",
   "metadata": {},
   "outputs": [
    {
     "data": {
      "text/plain": [
       "0"
      ]
     },
     "execution_count": 48,
     "metadata": {},
     "output_type": "execute_result"
    }
   ],
   "source": [
    "#Returns the index location of our MAX value\n",
    "ranarr.argmax()"
   ]
  },
  {
   "cell_type": "code",
   "execution_count": 50,
   "id": "13408089",
   "metadata": {},
   "outputs": [
    {
     "data": {
      "text/plain": [
       "5"
      ]
     },
     "execution_count": 50,
     "metadata": {},
     "output_type": "execute_result"
    }
   ],
   "source": [
    "#Returns the index location of our MIN value\n",
    "ranarr.argmin()"
   ]
  },
  {
   "cell_type": "code",
   "execution_count": 53,
   "id": "c14ec900",
   "metadata": {},
   "outputs": [
    {
     "data": {
      "text/plain": [
       "(25,)"
      ]
     },
     "execution_count": 53,
     "metadata": {},
     "output_type": "execute_result"
    }
   ],
   "source": [
    "#Figuring out the shape of the array\n",
    "arr.shape"
   ]
  },
  {
   "cell_type": "code",
   "execution_count": 55,
   "id": "b0565962",
   "metadata": {},
   "outputs": [
    {
     "data": {
      "text/plain": [
       "dtype('int32')"
      ]
     },
     "execution_count": 55,
     "metadata": {},
     "output_type": "execute_result"
    }
   ],
   "source": [
    "#Returning the data type of the array\n",
    "arr.dtype"
   ]
  },
  {
   "cell_type": "code",
   "execution_count": null,
   "id": "37c162c3",
   "metadata": {},
   "outputs": [],
   "source": []
  }
 ],
 "metadata": {
  "kernelspec": {
   "display_name": "Python 3 (ipykernel)",
   "language": "python",
   "name": "python3"
  },
  "language_info": {
   "codemirror_mode": {
    "name": "ipython",
    "version": 3
   },
   "file_extension": ".py",
   "mimetype": "text/x-python",
   "name": "python",
   "nbconvert_exporter": "python",
   "pygments_lexer": "ipython3",
   "version": "3.9.7"
  }
 },
 "nbformat": 4,
 "nbformat_minor": 5
}
