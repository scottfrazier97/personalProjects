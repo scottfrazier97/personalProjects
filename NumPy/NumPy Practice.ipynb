{
 "cells": [
  {
   "cell_type": "code",
   "execution_count": 1,
   "id": "94e62bf7",
   "metadata": {},
   "outputs": [],
   "source": [
    "import pandas as pd\n",
    "import numpy as np"
   ]
  },
  {
   "cell_type": "markdown",
   "id": "c8abaec7",
   "metadata": {},
   "source": [
    "### The Basics"
   ]
  },
  {
   "cell_type": "code",
   "execution_count": 2,
   "id": "d31e87fa",
   "metadata": {},
   "outputs": [
    {
     "name": "stdout",
     "output_type": "stream",
     "text": [
      "[1 2 3]\n"
     ]
    }
   ],
   "source": [
    "a = np.array([1,2,3])\n",
    "print(a)"
   ]
  },
  {
   "cell_type": "code",
   "execution_count": 3,
   "id": "82434d08",
   "metadata": {},
   "outputs": [
    {
     "name": "stdout",
     "output_type": "stream",
     "text": [
      "[[9. 6. 8. 7.]\n",
      " [6. 2. 1. 3.]]\n"
     ]
    }
   ],
   "source": [
    "b = np.array([[9.0,6.0,8.0,7.0],[6.0,2.0,1.0,3.0]])\n",
    "print(b)"
   ]
  },
  {
   "cell_type": "markdown",
   "id": "742cdc99",
   "metadata": {},
   "source": [
    "#### Get dimensions of arrays"
   ]
  },
  {
   "cell_type": "code",
   "execution_count": 4,
   "id": "4cfe6b89",
   "metadata": {},
   "outputs": [
    {
     "data": {
      "text/plain": [
       "1"
      ]
     },
     "execution_count": 4,
     "metadata": {},
     "output_type": "execute_result"
    }
   ],
   "source": [
    "a.ndim"
   ]
  },
  {
   "cell_type": "code",
   "execution_count": 5,
   "id": "9c93b92e",
   "metadata": {},
   "outputs": [
    {
     "data": {
      "text/plain": [
       "2"
      ]
     },
     "execution_count": 5,
     "metadata": {},
     "output_type": "execute_result"
    }
   ],
   "source": [
    "b.ndim"
   ]
  },
  {
   "cell_type": "markdown",
   "id": "a4c82a96",
   "metadata": {},
   "source": [
    "#### Get shape of arrays"
   ]
  },
  {
   "cell_type": "code",
   "execution_count": 6,
   "id": "3baf8637",
   "metadata": {},
   "outputs": [
    {
     "data": {
      "text/plain": [
       "(3,)"
      ]
     },
     "execution_count": 6,
     "metadata": {},
     "output_type": "execute_result"
    }
   ],
   "source": [
    "#this array is a vector, so it will only tell us the number of items since it is one dimension\n",
    "a.shape"
   ]
  },
  {
   "cell_type": "code",
   "execution_count": 7,
   "id": "b68b92fa",
   "metadata": {},
   "outputs": [
    {
     "data": {
      "text/plain": [
       "(2, 4)"
      ]
     },
     "execution_count": 7,
     "metadata": {},
     "output_type": "execute_result"
    }
   ],
   "source": [
    "#this shows us both number of rows and columns\n",
    "b.shape"
   ]
  },
  {
   "cell_type": "markdown",
   "id": "4e561cb1",
   "metadata": {},
   "source": [
    "#### How much memory is it using?"
   ]
  },
  {
   "cell_type": "code",
   "execution_count": 8,
   "id": "f18a2bb3",
   "metadata": {},
   "outputs": [
    {
     "name": "stdout",
     "output_type": "stream",
     "text": [
      "REMEMBER: \n",
      "-For integers, each byte is 8 units, so int32 is 4 bytes, int16 is 2 bytes, etc.\n",
      "-Floats are bigger than integers\n"
     ]
    }
   ],
   "source": [
    "print(\"\"\"REMEMBER: \n",
    "-For integers, each byte is 8 units, so int32 is 4 bytes, int16 is 2 bytes, etc.\n",
    "-Floats are bigger than integers\"\"\")"
   ]
  },
  {
   "cell_type": "code",
   "execution_count": 9,
   "id": "6c100e88",
   "metadata": {},
   "outputs": [
    {
     "data": {
      "text/plain": [
       "dtype('int32')"
      ]
     },
     "execution_count": 9,
     "metadata": {},
     "output_type": "execute_result"
    }
   ],
   "source": [
    "a.dtype"
   ]
  },
  {
   "cell_type": "code",
   "execution_count": 10,
   "id": "921046f6",
   "metadata": {},
   "outputs": [
    {
     "data": {
      "text/plain": [
       "dtype('float64')"
      ]
     },
     "execution_count": 10,
     "metadata": {},
     "output_type": "execute_result"
    }
   ],
   "source": [
    "b.dtype"
   ]
  },
  {
   "cell_type": "code",
   "execution_count": 11,
   "id": "1fe4e5bc",
   "metadata": {},
   "outputs": [
    {
     "data": {
      "text/plain": [
       "dtype('int16')"
      ]
     },
     "execution_count": 11,
     "metadata": {},
     "output_type": "execute_result"
    }
   ],
   "source": [
    "c = np.array([1,2,3], dtype = 'int16') # we can specify which type to store data as, i.e. if we had only small values and used int16, it would use less space\n",
    "c.dtype"
   ]
  },
  {
   "cell_type": "code",
   "execution_count": 12,
   "id": "bc0496d1",
   "metadata": {},
   "outputs": [
    {
     "data": {
      "text/plain": [
       "4"
      ]
     },
     "execution_count": 12,
     "metadata": {},
     "output_type": "execute_result"
    }
   ],
   "source": [
    "#Get size\n",
    "a.itemsize"
   ]
  },
  {
   "cell_type": "code",
   "execution_count": 13,
   "id": "95d39405",
   "metadata": {},
   "outputs": [
    {
     "data": {
      "text/plain": [
       "3"
      ]
     },
     "execution_count": 13,
     "metadata": {},
     "output_type": "execute_result"
    }
   ],
   "source": [
    "#Get total size\n",
    "a.size"
   ]
  },
  {
   "cell_type": "markdown",
   "id": "26c99382",
   "metadata": {},
   "source": [
    "### Accessing/Changing specific elements, rows, columns, etc."
   ]
  },
  {
   "cell_type": "code",
   "execution_count": 8,
   "id": "f1e5daef",
   "metadata": {},
   "outputs": [
    {
     "name": "stdout",
     "output_type": "stream",
     "text": [
      "[[ 1  2  3  4  5  6  7]\n",
      " [ 8  9 10 11 12 13 14]]\n"
     ]
    }
   ],
   "source": [
    "d = np.array([[1,2,3,4,5,6,7],[8,9,10,11,12,13,14]])\n",
    "print(d)"
   ]
  },
  {
   "cell_type": "code",
   "execution_count": 9,
   "id": "b667796c",
   "metadata": {},
   "outputs": [
    {
     "data": {
      "text/plain": [
       "(2, 7)"
      ]
     },
     "execution_count": 9,
     "metadata": {},
     "output_type": "execute_result"
    }
   ],
   "source": [
    "d.shape"
   ]
  },
  {
   "cell_type": "code",
   "execution_count": 16,
   "id": "0c6c8ef2",
   "metadata": {},
   "outputs": [
    {
     "data": {
      "text/plain": [
       "13"
      ]
     },
     "execution_count": 16,
     "metadata": {},
     "output_type": "execute_result"
    }
   ],
   "source": [
    "#getting a specific element - still using python indexing principles, starting at 0 [row,column]\n",
    "d[1,5]"
   ]
  },
  {
   "cell_type": "code",
   "execution_count": 17,
   "id": "6b0764e6",
   "metadata": {},
   "outputs": [
    {
     "data": {
      "text/plain": [
       "array([1, 2, 3, 4, 5, 6, 7])"
      ]
     },
     "execution_count": 17,
     "metadata": {},
     "output_type": "execute_result"
    }
   ],
   "source": [
    "#Get a specific row\n",
    "d[0,:]"
   ]
  },
  {
   "cell_type": "code",
   "execution_count": 18,
   "id": "907c78b6",
   "metadata": {},
   "outputs": [
    {
     "data": {
      "text/plain": [
       "array([ 3, 10])"
      ]
     },
     "execution_count": 18,
     "metadata": {},
     "output_type": "execute_result"
    }
   ],
   "source": [
    "#Get a specific column - all rows, 3 index item (2 = (0,1,2 which is the third column))\n",
    "d[:,2]"
   ]
  },
  {
   "cell_type": "code",
   "execution_count": 19,
   "id": "7b1c37bf",
   "metadata": {},
   "outputs": [
    {
     "data": {
      "text/plain": [
       "array([2, 4, 6])"
      ]
     },
     "execution_count": 19,
     "metadata": {},
     "output_type": "execute_result"
    }
   ],
   "source": [
    "#Getting a little more fancy [startindex:endindex:stepsize]\n",
    "d[0,1:6:2]"
   ]
  },
  {
   "cell_type": "code",
   "execution_count": 20,
   "id": "4de0935c",
   "metadata": {},
   "outputs": [
    {
     "name": "stdout",
     "output_type": "stream",
     "text": [
      "[[ 1  2  3  4  5  6  7]\n",
      " [ 8  9 10 11 12 18 14]]\n"
     ]
    }
   ],
   "source": [
    "#Changing value\n",
    "d[1,5] = 18\n",
    "print(d)"
   ]
  },
  {
   "cell_type": "code",
   "execution_count": 21,
   "id": "d2ac2df0",
   "metadata": {},
   "outputs": [
    {
     "name": "stdout",
     "output_type": "stream",
     "text": [
      "[[ 1  2  5  4  5  6  7]\n",
      " [ 8  9  5 11 12 18 14]]\n"
     ]
    }
   ],
   "source": [
    "#Change specific value for all rows, in a specified column\n",
    "d[:,2] = 5\n",
    "print(d)\n",
    "\n",
    "# d[:,2] = [5,2] #Do this to change each respective value to the ones in the list\n",
    "# print(d)"
   ]
  },
  {
   "cell_type": "markdown",
   "id": "24a4c948",
   "metadata": {},
   "source": [
    "#### 3D Example"
   ]
  },
  {
   "cell_type": "code",
   "execution_count": 22,
   "id": "0a2c6477",
   "metadata": {},
   "outputs": [
    {
     "name": "stdout",
     "output_type": "stream",
     "text": [
      "[[[1 2]\n",
      "  [3 4]]\n",
      "\n",
      " [[5 6]\n",
      "  [7 8]]]\n"
     ]
    }
   ],
   "source": [
    "e = np.array([[[1,2],[3,4]],[[5,6],[7,8]]])\n",
    "print(e)"
   ]
  },
  {
   "cell_type": "code",
   "execution_count": 23,
   "id": "9e431b9c",
   "metadata": {},
   "outputs": [
    {
     "data": {
      "text/plain": [
       "4"
      ]
     },
     "execution_count": 23,
     "metadata": {},
     "output_type": "execute_result"
    }
   ],
   "source": [
    "#Getting specified element from 3D array, work outside in - trying to get 4 in example. \n",
    "\n",
    "#Syntax = e[groupnumber:rownumber:columnnumber]\n",
    "e[0,1,1]\n",
    "\n",
    "#The above works since we are telling Python to enter the first list of lists (1,2,3,4), and then go to the second row \n",
    "#as well as the second element. Results in 0,1,1 because of indexing"
   ]
  },
  {
   "cell_type": "code",
   "execution_count": 24,
   "id": "67e0cdf2",
   "metadata": {},
   "outputs": [
    {
     "name": "stdout",
     "output_type": "stream",
     "text": [
      "[[[1 2]\n",
      "  [9 9]]\n",
      "\n",
      " [[5 6]\n",
      "  [8 8]]]\n"
     ]
    }
   ],
   "source": [
    "#replacing a number with example above. Would need to create a subsequence which is the same dimension\n",
    "e[:,1,:] = [[9,9],[8,8]]\n",
    "print(e)"
   ]
  },
  {
   "cell_type": "markdown",
   "id": "4fb8c6a3",
   "metadata": {},
   "source": [
    "### Initializing Different Types of Arrays"
   ]
  },
  {
   "cell_type": "code",
   "execution_count": 25,
   "id": "82fdc364",
   "metadata": {},
   "outputs": [
    {
     "data": {
      "text/plain": [
       "array([0., 0., 0.])"
      ]
     },
     "execution_count": 25,
     "metadata": {},
     "output_type": "execute_result"
    }
   ],
   "source": [
    "#ALL 0s matrix - must specify a desired shape in parenthesis\n",
    "np.zeros(3)"
   ]
  },
  {
   "cell_type": "code",
   "execution_count": 26,
   "id": "3f47fcda",
   "metadata": {},
   "outputs": [
    {
     "data": {
      "text/plain": [
       "array([[0., 0., 0.],\n",
       "       [0., 0., 0.]])"
      ]
     },
     "execution_count": 26,
     "metadata": {},
     "output_type": "execute_result"
    }
   ],
   "source": [
    "np.zeros((2,3))"
   ]
  },
  {
   "cell_type": "code",
   "execution_count": 27,
   "id": "bb793807",
   "metadata": {},
   "outputs": [
    {
     "data": {
      "text/plain": [
       "array([[[1., 1.],\n",
       "        [1., 1.]],\n",
       "\n",
       "       [[1., 1.],\n",
       "        [1., 1.]],\n",
       "\n",
       "       [[1., 1.],\n",
       "        [1., 1.]],\n",
       "\n",
       "       [[1., 1.],\n",
       "        [1., 1.]]])"
      ]
     },
     "execution_count": 27,
     "metadata": {},
     "output_type": "execute_result"
    }
   ],
   "source": [
    "#ALL 1s matrix\n",
    "np.ones((4,2,2))"
   ]
  },
  {
   "cell_type": "code",
   "execution_count": 28,
   "id": "52bafe50",
   "metadata": {},
   "outputs": [
    {
     "data": {
      "text/plain": [
       "array([[[1, 1],\n",
       "        [1, 1]],\n",
       "\n",
       "       [[1, 1],\n",
       "        [1, 1]],\n",
       "\n",
       "       [[1, 1],\n",
       "        [1, 1]],\n",
       "\n",
       "       [[1, 1],\n",
       "        [1, 1]]])"
      ]
     },
     "execution_count": 28,
     "metadata": {},
     "output_type": "execute_result"
    }
   ],
   "source": [
    "np.ones((4,2,2), dtype = 'int32')"
   ]
  },
  {
   "cell_type": "code",
   "execution_count": 29,
   "id": "8849f621",
   "metadata": {},
   "outputs": [
    {
     "data": {
      "text/plain": [
       "array([[99, 99],\n",
       "       [99, 99]])"
      ]
     },
     "execution_count": 29,
     "metadata": {},
     "output_type": "execute_result"
    }
   ],
   "source": [
    "#Any other number - takes in two parameters with specified or desired values. \n",
    "\n",
    "#((shapeOfMatrix), desired values, datatype)\n",
    "np.full((2,2), 99)"
   ]
  },
  {
   "cell_type": "code",
   "execution_count": 30,
   "id": "1f72065b",
   "metadata": {},
   "outputs": [
    {
     "data": {
      "text/plain": [
       "array([4, 4, 4])"
      ]
     },
     "execution_count": 30,
     "metadata": {},
     "output_type": "execute_result"
    }
   ],
   "source": [
    "#Any other number (full_like) - allows us to take a shape that is already built and pass in new values\n",
    "np.full_like(e.shape, 4)"
   ]
  },
  {
   "cell_type": "code",
   "execution_count": 31,
   "id": "e11df6ad",
   "metadata": {},
   "outputs": [
    {
     "data": {
      "text/plain": [
       "array([[0.18649224, 0.87516731],\n",
       "       [0.45783184, 0.58610286],\n",
       "       [0.70661954, 0.29256282],\n",
       "       [0.69444211, 0.75821068]])"
      ]
     },
     "execution_count": 31,
     "metadata": {},
     "output_type": "execute_result"
    }
   ],
   "source": [
    "#random decimal numbers\n",
    "np.random.rand(4,2)"
   ]
  },
  {
   "cell_type": "code",
   "execution_count": 32,
   "id": "504b2c97",
   "metadata": {},
   "outputs": [
    {
     "data": {
      "text/plain": [
       "array([[[0.90516593, 0.37466511, 0.68909884],\n",
       "        [0.13212226, 0.47625861, 0.52040019]],\n",
       "\n",
       "       [[0.17973722, 0.59696726, 0.55299933],\n",
       "        [0.49821672, 0.99662337, 0.64570369]],\n",
       "\n",
       "       [[0.55770263, 0.05682656, 0.79352197],\n",
       "        [0.10341658, 0.65510653, 0.80495198]],\n",
       "\n",
       "       [[0.67152473, 0.02132003, 0.18024451],\n",
       "        [0.29301746, 0.58849345, 0.54367572]]])"
      ]
     },
     "execution_count": 32,
     "metadata": {},
     "output_type": "execute_result"
    }
   ],
   "source": [
    "np.random.rand(4,2,3)"
   ]
  },
  {
   "cell_type": "code",
   "execution_count": 33,
   "id": "e90fb01c",
   "metadata": {},
   "outputs": [
    {
     "data": {
      "text/plain": [
       "array([[4, 0, 4],\n",
       "       [0, 5, 0],\n",
       "       [2, 4, 1]])"
      ]
     },
     "execution_count": 33,
     "metadata": {},
     "output_type": "execute_result"
    }
   ],
   "source": [
    "#random int values - specify the range of possible numbers with beginning int, and then shape. 7 is exclusive, put 8 \n",
    "#to include it\n",
    "\n",
    "np.random.randint(7, size=(3,3))"
   ]
  },
  {
   "cell_type": "code",
   "execution_count": 34,
   "id": "91bb1890",
   "metadata": {},
   "outputs": [
    {
     "data": {
      "text/plain": [
       "array([[3, 3, 3],\n",
       "       [6, 5, 6],\n",
       "       [2, 5, 2]])"
      ]
     },
     "execution_count": 34,
     "metadata": {},
     "output_type": "execute_result"
    }
   ],
   "source": [
    "#can also specify start and stop points\n",
    "np.random.randint(2,7, size=(3,3))"
   ]
  },
  {
   "cell_type": "code",
   "execution_count": 35,
   "id": "119b76a9",
   "metadata": {},
   "outputs": [
    {
     "data": {
      "text/plain": [
       "array([[1., 0., 0.],\n",
       "       [0., 1., 0.],\n",
       "       [0., 0., 1.]])"
      ]
     },
     "execution_count": 35,
     "metadata": {},
     "output_type": "execute_result"
    }
   ],
   "source": [
    "#identity matrix by it's nature is going to be a square matrix.\n",
    "np.identity(3)"
   ]
  },
  {
   "cell_type": "code",
   "execution_count": 36,
   "id": "d2db98d7",
   "metadata": {},
   "outputs": [
    {
     "name": "stdout",
     "output_type": "stream",
     "text": [
      "[1 1 1 2 2 2 3 3 3]\n"
     ]
    }
   ],
   "source": [
    "#repeating an array 3 times\n",
    "arr = np.array([1,2,3])\n",
    "r1  = np.repeat(arr,3)\n",
    "print(r1)"
   ]
  },
  {
   "cell_type": "code",
   "execution_count": 37,
   "id": "6d189f71",
   "metadata": {},
   "outputs": [
    {
     "name": "stdout",
     "output_type": "stream",
     "text": [
      "[[1 2 3]\n",
      " [1 2 3]\n",
      " [1 2 3]]\n"
     ]
    }
   ],
   "source": [
    "#Making the above array two dimensional - use the axis argument to accomplish this, axis = 0 is two-dimensional\n",
    "arr2 = np.array([[1,2,3]])\n",
    "r2  = np.repeat(arr2,3, axis=0)\n",
    "print(r2)"
   ]
  },
  {
   "cell_type": "markdown",
   "id": "9f9b054e",
   "metadata": {},
   "source": [
    "#### Copying an array"
   ]
  },
  {
   "cell_type": "code",
   "execution_count": 38,
   "id": "642b2b93",
   "metadata": {},
   "outputs": [
    {
     "name": "stdout",
     "output_type": "stream",
     "text": [
      "[1 2 3]\n"
     ]
    }
   ],
   "source": [
    "#Making a copy of an array\n",
    "f = np.array((1,2,3))\n",
    "print(f)"
   ]
  },
  {
   "cell_type": "code",
   "execution_count": 39,
   "id": "032c7cef",
   "metadata": {},
   "outputs": [
    {
     "name": "stdout",
     "output_type": "stream",
     "text": [
      "[100   2   3]\n"
     ]
    }
   ],
   "source": [
    "g = f.copy()\n",
    "g[0] = 100\n",
    "print(g)"
   ]
  },
  {
   "cell_type": "code",
   "execution_count": 40,
   "id": "9ea0fd0d",
   "metadata": {},
   "outputs": [
    {
     "name": "stdout",
     "output_type": "stream",
     "text": [
      "[1 2 3]\n"
     ]
    }
   ],
   "source": [
    "#verifying the original is still in tact\n",
    "print(f)"
   ]
  },
  {
   "cell_type": "markdown",
   "id": "37c739ac",
   "metadata": {},
   "source": [
    "### Mathematics"
   ]
  },
  {
   "cell_type": "code",
   "execution_count": 41,
   "id": "1ec17155",
   "metadata": {},
   "outputs": [
    {
     "name": "stdout",
     "output_type": "stream",
     "text": [
      "[1 2 3 4]\n"
     ]
    }
   ],
   "source": [
    "a = np.array((1,2,3,4))\n",
    "print(a)"
   ]
  },
  {
   "cell_type": "code",
   "execution_count": 42,
   "id": "2462c7ee",
   "metadata": {},
   "outputs": [
    {
     "data": {
      "text/plain": [
       "array([3, 4, 5, 6])"
      ]
     },
     "execution_count": 42,
     "metadata": {},
     "output_type": "execute_result"
    }
   ],
   "source": [
    "a + 2"
   ]
  },
  {
   "cell_type": "code",
   "execution_count": 43,
   "id": "bf88bb8a",
   "metadata": {},
   "outputs": [
    {
     "data": {
      "text/plain": [
       "array([-1,  0,  1,  2])"
      ]
     },
     "execution_count": 43,
     "metadata": {},
     "output_type": "execute_result"
    }
   ],
   "source": [
    "a - 2"
   ]
  },
  {
   "cell_type": "code",
   "execution_count": 44,
   "id": "23bfbba8",
   "metadata": {},
   "outputs": [
    {
     "data": {
      "text/plain": [
       "array([2, 4, 6, 8])"
      ]
     },
     "execution_count": 44,
     "metadata": {},
     "output_type": "execute_result"
    }
   ],
   "source": [
    "a * 2"
   ]
  },
  {
   "cell_type": "code",
   "execution_count": 45,
   "id": "bc463038",
   "metadata": {},
   "outputs": [
    {
     "data": {
      "text/plain": [
       "array([0.5, 1. , 1.5, 2. ])"
      ]
     },
     "execution_count": 45,
     "metadata": {},
     "output_type": "execute_result"
    }
   ],
   "source": [
    "a / 2"
   ]
  },
  {
   "cell_type": "code",
   "execution_count": 46,
   "id": "bfae30e1",
   "metadata": {},
   "outputs": [
    {
     "name": "stdout",
     "output_type": "stream",
     "text": [
      "[5 6 7 8]\n"
     ]
    }
   ],
   "source": [
    "b = np.array((5,6,7,8))\n",
    "print(b)"
   ]
  },
  {
   "cell_type": "code",
   "execution_count": 47,
   "id": "6b58d8a3",
   "metadata": {},
   "outputs": [
    {
     "data": {
      "text/plain": [
       "array([ 6,  8, 10, 12])"
      ]
     },
     "execution_count": 47,
     "metadata": {},
     "output_type": "execute_result"
    }
   ],
   "source": [
    "a + b"
   ]
  },
  {
   "cell_type": "code",
   "execution_count": 48,
   "id": "2150b0b2",
   "metadata": {},
   "outputs": [
    {
     "data": {
      "text/plain": [
       "array([ 1,  4,  9, 16])"
      ]
     },
     "execution_count": 48,
     "metadata": {},
     "output_type": "execute_result"
    }
   ],
   "source": [
    "a ** 2"
   ]
  },
  {
   "cell_type": "code",
   "execution_count": 49,
   "id": "8a458ffb",
   "metadata": {},
   "outputs": [
    {
     "data": {
      "text/plain": [
       "array([ 0.84147098,  0.90929743,  0.14112001, -0.7568025 ])"
      ]
     },
     "execution_count": 49,
     "metadata": {},
     "output_type": "execute_result"
    }
   ],
   "source": [
    "np.sin(a)"
   ]
  },
  {
   "cell_type": "code",
   "execution_count": 50,
   "id": "bd14e49e",
   "metadata": {},
   "outputs": [
    {
     "data": {
      "text/plain": [
       "array([ 0.54030231, -0.41614684, -0.9899925 , -0.65364362])"
      ]
     },
     "execution_count": 50,
     "metadata": {},
     "output_type": "execute_result"
    }
   ],
   "source": [
    "np.cos(a)"
   ]
  },
  {
   "cell_type": "markdown",
   "id": "e73c3731",
   "metadata": {},
   "source": [
    "#### Linear Algebra"
   ]
  },
  {
   "cell_type": "code",
   "execution_count": 55,
   "id": "6933705b",
   "metadata": {},
   "outputs": [
    {
     "name": "stdout",
     "output_type": "stream",
     "text": [
      "[[1. 1. 1.]\n",
      " [1. 1. 1.]]\n",
      "- - - - - - - - - - \n",
      "[[2 2]\n",
      " [2 2]\n",
      " [2 2]]\n"
     ]
    },
    {
     "data": {
      "text/plain": [
       "array([[6., 6.],\n",
       "       [6., 6.]])"
      ]
     },
     "execution_count": 55,
     "metadata": {},
     "output_type": "execute_result"
    }
   ],
   "source": [
    "#Number of columns of first matrix equal to rows of the second one\n",
    "i = np.ones((2,3))\n",
    "print(i)\n",
    "\n",
    "print('- ' * 10)\n",
    "\n",
    "j = np.full((3,2),2)\n",
    "print(j)\n",
    "\n",
    "#Can't do i*j, will result in error. Use matmul() function\n",
    "np.matmul(i,j)"
   ]
  },
  {
   "cell_type": "code",
   "execution_count": 57,
   "id": "2ef099aa",
   "metadata": {},
   "outputs": [
    {
     "data": {
      "text/plain": [
       "1.0"
      ]
     },
     "execution_count": 57,
     "metadata": {},
     "output_type": "execute_result"
    }
   ],
   "source": [
    "#Find the determinant\n",
    "l = np.identity(3)\n",
    "np.linalg.det(l)"
   ]
  },
  {
   "cell_type": "markdown",
   "id": "504fe604",
   "metadata": {},
   "source": [
    "#### Statistics"
   ]
  },
  {
   "cell_type": "code",
   "execution_count": 58,
   "id": "b0411026",
   "metadata": {},
   "outputs": [
    {
     "data": {
      "text/plain": [
       "array([[1, 2, 3],\n",
       "       [4, 5, 6]])"
      ]
     },
     "execution_count": 58,
     "metadata": {},
     "output_type": "execute_result"
    }
   ],
   "source": [
    "stats = np.array([[1,2,3],[4,5,6]])\n",
    "stats"
   ]
  },
  {
   "cell_type": "markdown",
   "id": "ba6c1f68",
   "metadata": {},
   "source": [
    "##### Min/Max"
   ]
  },
  {
   "cell_type": "code",
   "execution_count": 59,
   "id": "98e4ff47",
   "metadata": {},
   "outputs": [
    {
     "data": {
      "text/plain": [
       "1"
      ]
     },
     "execution_count": 59,
     "metadata": {},
     "output_type": "execute_result"
    }
   ],
   "source": [
    "np.min(stats)"
   ]
  },
  {
   "cell_type": "code",
   "execution_count": 64,
   "id": "e5b7256d",
   "metadata": {},
   "outputs": [
    {
     "data": {
      "text/plain": [
       "array([1, 2, 3])"
      ]
     },
     "execution_count": 64,
     "metadata": {},
     "output_type": "execute_result"
    }
   ],
   "source": [
    "np.min(stats, axis = 0)"
   ]
  },
  {
   "cell_type": "code",
   "execution_count": 65,
   "id": "eef9e36b",
   "metadata": {},
   "outputs": [
    {
     "data": {
      "text/plain": [
       "array([1, 4])"
      ]
     },
     "execution_count": 65,
     "metadata": {},
     "output_type": "execute_result"
    }
   ],
   "source": [
    "np.min(stats, axis = 1)"
   ]
  },
  {
   "cell_type": "code",
   "execution_count": 60,
   "id": "6093de99",
   "metadata": {},
   "outputs": [
    {
     "data": {
      "text/plain": [
       "6"
      ]
     },
     "execution_count": 60,
     "metadata": {},
     "output_type": "execute_result"
    }
   ],
   "source": [
    "np.max(stats)"
   ]
  },
  {
   "cell_type": "code",
   "execution_count": 63,
   "id": "4baaf336",
   "metadata": {},
   "outputs": [
    {
     "data": {
      "text/plain": [
       "array([4, 5, 6])"
      ]
     },
     "execution_count": 63,
     "metadata": {},
     "output_type": "execute_result"
    }
   ],
   "source": [
    "np.max(stats, axis = 0)"
   ]
  },
  {
   "cell_type": "code",
   "execution_count": 62,
   "id": "a20eb80a",
   "metadata": {},
   "outputs": [
    {
     "data": {
      "text/plain": [
       "array([3, 6])"
      ]
     },
     "execution_count": 62,
     "metadata": {},
     "output_type": "execute_result"
    }
   ],
   "source": [
    "np.max(stats, axis = 1)"
   ]
  },
  {
   "cell_type": "markdown",
   "id": "6647b437",
   "metadata": {},
   "source": [
    "##### Sum"
   ]
  },
  {
   "cell_type": "code",
   "execution_count": 66,
   "id": "206c7e41",
   "metadata": {},
   "outputs": [
    {
     "data": {
      "text/plain": [
       "21"
      ]
     },
     "execution_count": 66,
     "metadata": {},
     "output_type": "execute_result"
    }
   ],
   "source": [
    "#all values in matrix\n",
    "np.sum(stats)"
   ]
  },
  {
   "cell_type": "code",
   "execution_count": 67,
   "id": "974b71cd",
   "metadata": {},
   "outputs": [
    {
     "data": {
      "text/plain": [
       "array([5, 7, 9])"
      ]
     },
     "execution_count": 67,
     "metadata": {},
     "output_type": "execute_result"
    }
   ],
   "source": [
    "np.sum(stats, axis=0) #Adding all values going downwards"
   ]
  },
  {
   "cell_type": "markdown",
   "id": "73c97be9",
   "metadata": {},
   "source": [
    "### Reorganizing Arrays"
   ]
  },
  {
   "cell_type": "code",
   "execution_count": 68,
   "id": "e1493158",
   "metadata": {},
   "outputs": [
    {
     "name": "stdout",
     "output_type": "stream",
     "text": [
      "[[1 2 3 4]\n",
      " [5 6 7 8]]\n"
     ]
    }
   ],
   "source": [
    "before = np.array([[1,2,3,4],[5,6,7,8]])\n",
    "print(before)"
   ]
  },
  {
   "cell_type": "code",
   "execution_count": 71,
   "id": "aa7a7899",
   "metadata": {},
   "outputs": [
    {
     "data": {
      "text/plain": [
       "array([[1, 2],\n",
       "       [3, 4],\n",
       "       [5, 6],\n",
       "       [7, 8]])"
      ]
     },
     "execution_count": 71,
     "metadata": {},
     "output_type": "execute_result"
    }
   ],
   "source": [
    "#RESHAPING REQUIRES SAME AMOUNT OF VALUES\n",
    "after = before.reshape((4,2))\n",
    "after"
   ]
  },
  {
   "cell_type": "markdown",
   "id": "54c5d6f3",
   "metadata": {},
   "source": [
    "##### Vertical Stacking Matrices"
   ]
  },
  {
   "cell_type": "code",
   "execution_count": 72,
   "id": "c2a888fe",
   "metadata": {},
   "outputs": [
    {
     "data": {
      "text/plain": [
       "array([[1, 2, 3, 4],\n",
       "       [5, 6, 7, 8]])"
      ]
     },
     "execution_count": 72,
     "metadata": {},
     "output_type": "execute_result"
    }
   ],
   "source": [
    "v1 = np.array((1,2,3,4))\n",
    "v2 = np.array((5,6,7,8))\n",
    "\n",
    "np.vstack((v1,v2))"
   ]
  },
  {
   "cell_type": "markdown",
   "id": "541e061d",
   "metadata": {},
   "source": [
    "##### Horizontal Stacking Matrices"
   ]
  },
  {
   "cell_type": "code",
   "execution_count": 73,
   "id": "9912d508",
   "metadata": {},
   "outputs": [
    {
     "data": {
      "text/plain": [
       "array([[1., 1., 1., 1., 0., 0.],\n",
       "       [1., 1., 1., 1., 0., 0.]])"
      ]
     },
     "execution_count": 73,
     "metadata": {},
     "output_type": "execute_result"
    }
   ],
   "source": [
    "h1 = np.ones((2,4))\n",
    "h2 = np.zeros((2,2))\n",
    "\n",
    "np.hstack((h1,h2))"
   ]
  },
  {
   "cell_type": "markdown",
   "id": "7419771f",
   "metadata": {},
   "source": [
    "### Miscellaneous"
   ]
  },
  {
   "cell_type": "markdown",
   "id": "1f6bc5ce",
   "metadata": {},
   "source": [
    "##### Loading file from data into array"
   ]
  },
  {
   "cell_type": "code",
   "execution_count": 97,
   "id": "72225bdb",
   "metadata": {},
   "outputs": [
    {
     "name": "stdout",
     "output_type": "stream",
     "text": [
      "[[   1    2    3    4    5    6    7   87    8    8    6   54    4   43\n",
      "    45   55   34   54   25 2435]\n",
      " [   3    3  342   32   32   44    1    5    7    8    8   56    4   56\n",
      "     6    4    4    5    6    7]\n",
      " [  54   85    9    5    4    7   54   75   86   21  256  859  142 5856\n",
      "   968   58    7    7   41    5]]\n"
     ]
    }
   ],
   "source": [
    "data = np.genfromtxt('data.txt', delimiter = ',')\n",
    "data2 = data.astype('int32') #USE .astype() to specify data types\n",
    "print(data2)"
   ]
  },
  {
   "cell_type": "markdown",
   "id": "4948d5c9",
   "metadata": {},
   "source": [
    "###### Boolean Masking & Advanced Indexing"
   ]
  },
  {
   "cell_type": "code",
   "execution_count": 90,
   "id": "cbcdff5c",
   "metadata": {},
   "outputs": [
    {
     "data": {
      "text/plain": [
       "array([[False, False, False, False, False, False, False,  True, False,\n",
       "        False, False,  True, False, False, False,  True, False,  True,\n",
       "        False,  True],\n",
       "       [False, False,  True, False, False, False, False, False, False,\n",
       "        False, False,  True, False,  True, False, False, False, False,\n",
       "        False, False],\n",
       "       [ True,  True, False, False, False, False,  True,  True,  True,\n",
       "        False,  True,  True,  True,  True,  True,  True, False, False,\n",
       "        False, False]])"
      ]
     },
     "execution_count": 90,
     "metadata": {},
     "output_type": "execute_result"
    }
   ],
   "source": [
    "data2 > 50"
   ]
  },
  {
   "cell_type": "code",
   "execution_count": 91,
   "id": "78b838f8",
   "metadata": {},
   "outputs": [
    {
     "data": {
      "text/plain": [
       "array([  87,   54,   55,   54, 2435,  342,   56,   56,   54,   85,   54,\n",
       "         75,   86,  256,  859,  142, 5856,  968,   58])"
      ]
     },
     "execution_count": 91,
     "metadata": {},
     "output_type": "execute_result"
    }
   ],
   "source": [
    "#You can index with a list in numpy\n",
    "data2[data2 > 50]"
   ]
  },
  {
   "cell_type": "code",
   "execution_count": 92,
   "id": "cb6e6b70",
   "metadata": {},
   "outputs": [
    {
     "data": {
      "text/plain": [
       "array([2, 3, 9])"
      ]
     },
     "execution_count": 92,
     "metadata": {},
     "output_type": "execute_result"
    }
   ],
   "source": [
    "#Indexing using a list, grabbing 1,2,8 elements, showing how the above code works in a different way\n",
    "m = np.array((1,2,3,4,5,6,7,8,9))\n",
    "m[[1,2,8]]"
   ]
  },
  {
   "cell_type": "code",
   "execution_count": 93,
   "id": "51bb8ec4",
   "metadata": {},
   "outputs": [
    {
     "data": {
      "text/plain": [
       "array([ True,  True,  True, False, False, False,  True,  True,  True,\n",
       "       False,  True,  True,  True,  True,  True,  True, False,  True,\n",
       "       False,  True])"
      ]
     },
     "execution_count": 93,
     "metadata": {},
     "output_type": "execute_result"
    }
   ],
   "source": [
    "#Going through and return True/False if ANY values in columns in the matrix > 50\n",
    "np.any(data2 > 50, axis = 0)"
   ]
  },
  {
   "cell_type": "code",
   "execution_count": 94,
   "id": "7dd474d6",
   "metadata": {},
   "outputs": [
    {
     "data": {
      "text/plain": [
       "array([False, False, False, False, False, False, False, False, False,\n",
       "       False, False,  True, False, False, False, False, False, False,\n",
       "       False, False])"
      ]
     },
     "execution_count": 94,
     "metadata": {},
     "output_type": "execute_result"
    }
   ],
   "source": [
    "#Going through and return True/False if ALL values in columns in the matrix > 50\n",
    "np.all(data2 > 50, axis = 0)"
   ]
  },
  {
   "cell_type": "code",
   "execution_count": 98,
   "id": "83327370",
   "metadata": {},
   "outputs": [
    {
     "data": {
      "text/plain": [
       "array([[False, False, False, False, False, False, False,  True, False,\n",
       "        False, False,  True, False, False, False,  True, False,  True,\n",
       "        False, False],\n",
       "       [False, False, False, False, False, False, False, False, False,\n",
       "        False, False,  True, False,  True, False, False, False, False,\n",
       "        False, False],\n",
       "       [ True,  True, False, False, False, False,  True,  True,  True,\n",
       "        False, False, False, False, False, False,  True, False, False,\n",
       "        False, False]])"
      ]
     },
     "execution_count": 98,
     "metadata": {},
     "output_type": "execute_result"
    }
   ],
   "source": [
    "((data2 > 50) & (data2 < 100)) # Can use ~ at the beginning of code to display \"Not equal to\": (~((data2 > 50) & (data2 < 100)))"
   ]
  },
  {
   "cell_type": "code",
   "execution_count": null,
   "id": "9ac75a1a",
   "metadata": {},
   "outputs": [],
   "source": []
  }
 ],
 "metadata": {
  "kernelspec": {
   "display_name": "Python 3 (ipykernel)",
   "language": "python",
   "name": "python3"
  },
  "language_info": {
   "codemirror_mode": {
    "name": "ipython",
    "version": 3
   },
   "file_extension": ".py",
   "mimetype": "text/x-python",
   "name": "python",
   "nbconvert_exporter": "python",
   "pygments_lexer": "ipython3",
   "version": "3.9.7"
  }
 },
 "nbformat": 4,
 "nbformat_minor": 5
}
