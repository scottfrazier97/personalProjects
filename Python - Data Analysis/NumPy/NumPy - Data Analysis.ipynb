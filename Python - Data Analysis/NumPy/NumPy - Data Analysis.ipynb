{
 "cells": [
  {
   "cell_type": "markdown",
   "id": "d1e3fa80",
   "metadata": {},
   "source": [
    "### NumPy Introduction"
   ]
  },
  {
   "cell_type": "markdown",
   "id": "aac9c0f4",
   "metadata": {},
   "source": [
    "1) NumPy: Numerical Python<br>2) A linear algebra library for Python. Utilized by a large number of other libraries in the Python ecosystem. Also very fast.<br>3) NumPy arrays come in two flavors: Vectors, and matrices<br>--Vectors are strictly 1-d arrays<br>--Matrices are 2-d ( you can still have a matrix with only one row or column)<br>"
   ]
  },
  {
   "cell_type": "markdown",
   "id": "701f1658",
   "metadata": {},
   "source": [
    "[SciPy Documentation](https://docs.scipy.org/doc/)"
   ]
  },
  {
   "cell_type": "markdown",
   "id": "57eebadb",
   "metadata": {},
   "source": [
    "### NumPy Arrays"
   ]
  },
  {
   "cell_type": "markdown",
   "id": "c8b1acdb",
   "metadata": {},
   "source": [
    "Can create a list and then cast it as a NumPy array"
   ]
  },
  {
   "cell_type": "code",
   "execution_count": 1,
   "id": "1dd68072",
   "metadata": {},
   "outputs": [],
   "source": [
    "my_list = [1,2,3]"
   ]
  },
  {
   "cell_type": "code",
   "execution_count": 2,
   "id": "25125baa",
   "metadata": {},
   "outputs": [],
   "source": [
    "import numpy as np"
   ]
  },
  {
   "cell_type": "markdown",
   "id": "c3c4fcb5",
   "metadata": {},
   "source": [
    "1-d array"
   ]
  },
  {
   "cell_type": "code",
   "execution_count": 3,
   "id": "0c3dcc68",
   "metadata": {},
   "outputs": [],
   "source": [
    "arr = np.array(my_list)"
   ]
  },
  {
   "cell_type": "code",
   "execution_count": 4,
   "id": "09c4e90b",
   "metadata": {},
   "outputs": [
    {
     "data": {
      "text/plain": [
       "array([1, 2, 3])"
      ]
     },
     "execution_count": 4,
     "metadata": {},
     "output_type": "execute_result"
    }
   ],
   "source": [
    "arr"
   ]
  },
  {
   "cell_type": "markdown",
   "id": "ba10fbcd",
   "metadata": {},
   "source": [
    "To get a 2-d array, can pass a list of lists...2-d array can be identified by the number of outside brackets"
   ]
  },
  {
   "cell_type": "code",
   "execution_count": 5,
   "id": "d32fdedc",
   "metadata": {},
   "outputs": [],
   "source": [
    "my_mat = [[1,2,3],[4,5,6],[7,8,9]]"
   ]
  },
  {
   "cell_type": "code",
   "execution_count": 6,
   "id": "06f965d7",
   "metadata": {},
   "outputs": [
    {
     "data": {
      "text/plain": [
       "array([[1, 2, 3],\n",
       "       [4, 5, 6],\n",
       "       [7, 8, 9]])"
      ]
     },
     "execution_count": 6,
     "metadata": {},
     "output_type": "execute_result"
    }
   ],
   "source": [
    "np.array(my_mat)"
   ]
  },
  {
   "cell_type": "markdown",
   "id": "437f9e68",
   "metadata": {},
   "source": [
    "##### Creating NumPy arrays without Python lists"
   ]
  },
  {
   "cell_type": "code",
   "execution_count": 7,
   "id": "cbd75f06",
   "metadata": {},
   "outputs": [
    {
     "data": {
      "text/plain": [
       "array([0, 2, 4, 6, 8])"
      ]
     },
     "execution_count": 7,
     "metadata": {},
     "output_type": "execute_result"
    }
   ],
   "source": [
    "np.arange(0,10,2) #Starts at 0, up to but not including 10, with a step of 2"
   ]
  },
  {
   "cell_type": "code",
   "execution_count": 8,
   "id": "d6fb4de0",
   "metadata": {},
   "outputs": [
    {
     "data": {
      "text/plain": [
       "array([0., 0., 0.])"
      ]
     },
     "execution_count": 8,
     "metadata": {},
     "output_type": "execute_result"
    }
   ],
   "source": [
    "np.zeros(3) #One dimensional vector of zeros"
   ]
  },
  {
   "cell_type": "code",
   "execution_count": 9,
   "id": "e35e0ae7",
   "metadata": {},
   "outputs": [
    {
     "data": {
      "text/plain": [
       "array([[0., 0., 0., 0., 0.],\n",
       "       [0., 0., 0., 0., 0.],\n",
       "       [0., 0., 0., 0., 0.],\n",
       "       [0., 0., 0., 0., 0.],\n",
       "       [0., 0., 0., 0., 0.]])"
      ]
     },
     "execution_count": 9,
     "metadata": {},
     "output_type": "execute_result"
    }
   ],
   "source": [
    "np.zeros((5,5)) #Tuple to pass in more than one dimension"
   ]
  },
  {
   "cell_type": "code",
   "execution_count": 10,
   "id": "b678aca5",
   "metadata": {},
   "outputs": [
    {
     "data": {
      "text/plain": [
       "array([1., 1., 1., 1., 1.])"
      ]
     },
     "execution_count": 10,
     "metadata": {},
     "output_type": "execute_result"
    }
   ],
   "source": [
    "np.ones(5)"
   ]
  },
  {
   "cell_type": "code",
   "execution_count": 11,
   "id": "c0c208ce",
   "metadata": {},
   "outputs": [
    {
     "data": {
      "text/plain": [
       "array([[1., 1., 1., 1., 1.],\n",
       "       [1., 1., 1., 1., 1.],\n",
       "       [1., 1., 1., 1., 1.],\n",
       "       [1., 1., 1., 1., 1.]])"
      ]
     },
     "execution_count": 11,
     "metadata": {},
     "output_type": "execute_result"
    }
   ],
   "source": [
    "np.ones((4,5))"
   ]
  },
  {
   "cell_type": "code",
   "execution_count": 12,
   "id": "f77d206a",
   "metadata": {},
   "outputs": [
    {
     "data": {
      "text/plain": [
       "array([0.        , 0.55555556, 1.11111111, 1.66666667, 2.22222222,\n",
       "       2.77777778, 3.33333333, 3.88888889, 4.44444444, 5.        ])"
      ]
     },
     "execution_count": 12,
     "metadata": {},
     "output_type": "execute_result"
    }
   ],
   "source": [
    "np.linspace(0,5,10) #Returns a range of numbers from the start to the stop, specified with your number of evenly spaced points"
   ]
  },
  {
   "cell_type": "code",
   "execution_count": 13,
   "id": "c4831086",
   "metadata": {},
   "outputs": [
    {
     "data": {
      "text/plain": [
       "array([[1., 0., 0., 0.],\n",
       "       [0., 1., 0., 0.],\n",
       "       [0., 0., 1., 0.],\n",
       "       [0., 0., 0., 1.]])"
      ]
     },
     "execution_count": 13,
     "metadata": {},
     "output_type": "execute_result"
    }
   ],
   "source": [
    "# Single digit argument. Identity matrix useful for linear algebra problems. Number of rows is same as columns.\n",
    "# Returns a diagonal of ones, everything else 0. Identity matrix must be square, which is the reason for one argument\n",
    "np.eye(4) "
   ]
  },
  {
   "cell_type": "markdown",
   "id": "e1a68f41",
   "metadata": {},
   "source": [
    "##### Creating arrays of random numbers"
   ]
  },
  {
   "cell_type": "code",
   "execution_count": 14,
   "id": "f7d250be",
   "metadata": {},
   "outputs": [
    {
     "data": {
      "text/plain": [
       "array([0.59555133, 0.50556799, 0.73868277, 0.20491425, 0.81233445])"
      ]
     },
     "execution_count": 14,
     "metadata": {},
     "output_type": "execute_result"
    }
   ],
   "source": [
    "# Creates an array of a given shape, and populate with random samples from a UNIFORM distribution. Ranging from 0 to 1\n",
    "np.random.rand(5)"
   ]
  },
  {
   "cell_type": "code",
   "execution_count": 15,
   "id": "c854e6a3",
   "metadata": {},
   "outputs": [
    {
     "data": {
      "text/plain": [
       "array([[0.4247226 , 0.15999609, 0.71734513, 0.64447135, 0.26972812],\n",
       "       [0.86734743, 0.60623314, 0.12680285, 0.46360827, 0.78153726],\n",
       "       [0.07830823, 0.64419004, 0.12567649, 0.06548447, 0.14166721],\n",
       "       [0.45670218, 0.35590169, 0.81835885, 0.86780454, 0.49984485],\n",
       "       [0.91349176, 0.1892698 , 0.19760629, 0.26745502, 0.98286932]])"
      ]
     },
     "execution_count": 15,
     "metadata": {},
     "output_type": "execute_result"
    }
   ],
   "source": [
    "np.random.rand(5,5)"
   ]
  },
  {
   "cell_type": "code",
   "execution_count": 16,
   "id": "9da2e443",
   "metadata": {},
   "outputs": [
    {
     "data": {
      "text/plain": [
       "array([-0.64244277,  0.9355789 ])"
      ]
     },
     "execution_count": 16,
     "metadata": {},
     "output_type": "execute_result"
    }
   ],
   "source": [
    "# Creating an array of random numbers from a NORMAL distribution\n",
    "np.random.randn(2)"
   ]
  },
  {
   "cell_type": "code",
   "execution_count": 17,
   "id": "d8fd90c8",
   "metadata": {},
   "outputs": [
    {
     "data": {
      "text/plain": [
       "array([[-0.87032876,  0.41604373,  1.18165136,  0.02383819,  1.77171082],\n",
       "       [-2.26358192,  0.51011281,  0.6019201 , -0.61654398, -2.4271175 ]])"
      ]
     },
     "execution_count": 17,
     "metadata": {},
     "output_type": "execute_result"
    }
   ],
   "source": [
    "np.random.randn(2,5)"
   ]
  },
  {
   "cell_type": "code",
   "execution_count": 18,
   "id": "de3a4e44",
   "metadata": {},
   "outputs": [
    {
     "data": {
      "text/plain": [
       "array([12, 70, 38, 43, 14, 83, 10, 75, 35, 92, 80, 97, 22,  2, 20])"
      ]
     },
     "execution_count": 18,
     "metadata": {},
     "output_type": "execute_result"
    }
   ],
   "source": [
    "#Generating random integer, (start, stop, number of integers you want returned)\n",
    "np.random.randint(1,100, 15)"
   ]
  },
  {
   "cell_type": "markdown",
   "id": "bd98582c",
   "metadata": {},
   "source": [
    "##### Useful attributes or methods of an array"
   ]
  },
  {
   "cell_type": "code",
   "execution_count": 19,
   "id": "8a62fdd0",
   "metadata": {},
   "outputs": [
    {
     "data": {
      "text/plain": [
       "array([ 0,  1,  2,  3,  4,  5,  6,  7,  8,  9, 10, 11, 12, 13, 14, 15, 16,\n",
       "       17, 18, 19, 20, 21, 22, 23, 24])"
      ]
     },
     "execution_count": 19,
     "metadata": {},
     "output_type": "execute_result"
    }
   ],
   "source": [
    "arr = np.arange(25)\n",
    "arr"
   ]
  },
  {
   "cell_type": "code",
   "execution_count": 20,
   "id": "720435dd",
   "metadata": {},
   "outputs": [
    {
     "data": {
      "text/plain": [
       "array([31,  3, 31,  6,  4,  7, 27, 25,  0,  9])"
      ]
     },
     "execution_count": 20,
     "metadata": {},
     "output_type": "execute_result"
    }
   ],
   "source": [
    "ranarr = np.random.randint(0,50,10)\n",
    "ranarr"
   ]
  },
  {
   "cell_type": "code",
   "execution_count": 21,
   "id": "a239d1ce",
   "metadata": {},
   "outputs": [
    {
     "data": {
      "text/plain": [
       "array([[ 0,  1,  2,  3,  4],\n",
       "       [ 5,  6,  7,  8,  9],\n",
       "       [10, 11, 12, 13, 14],\n",
       "       [15, 16, 17, 18, 19],\n",
       "       [20, 21, 22, 23, 24]])"
      ]
     },
     "execution_count": 21,
     "metadata": {},
     "output_type": "execute_result"
    }
   ],
   "source": [
    "#Creating a new shape for our array, values remain same\n",
    "#MUST have same number of values to fill array. Original is 25, and so is the reshaped version\n",
    "#MUST re-assign the reshape to a variable to fully reshape it\n",
    "\n",
    "arr.reshape(5,5) "
   ]
  },
  {
   "cell_type": "code",
   "execution_count": 22,
   "id": "5174e3fa",
   "metadata": {},
   "outputs": [
    {
     "data": {
      "text/plain": [
       "31"
      ]
     },
     "execution_count": 22,
     "metadata": {},
     "output_type": "execute_result"
    }
   ],
   "source": [
    "#MAX value within an array\n",
    "ranarr.max()"
   ]
  },
  {
   "cell_type": "code",
   "execution_count": 23,
   "id": "ab50dd4f",
   "metadata": {},
   "outputs": [
    {
     "data": {
      "text/plain": [
       "0"
      ]
     },
     "execution_count": 23,
     "metadata": {},
     "output_type": "execute_result"
    }
   ],
   "source": [
    "#MIN value within an array\n",
    "ranarr.min()"
   ]
  },
  {
   "cell_type": "code",
   "execution_count": 24,
   "id": "2b9f4292",
   "metadata": {},
   "outputs": [
    {
     "data": {
      "text/plain": [
       "0"
      ]
     },
     "execution_count": 24,
     "metadata": {},
     "output_type": "execute_result"
    }
   ],
   "source": [
    "#Returns the index location of our MAX value\n",
    "ranarr.argmax()"
   ]
  },
  {
   "cell_type": "code",
   "execution_count": 25,
   "id": "13408089",
   "metadata": {},
   "outputs": [
    {
     "data": {
      "text/plain": [
       "8"
      ]
     },
     "execution_count": 25,
     "metadata": {},
     "output_type": "execute_result"
    }
   ],
   "source": [
    "#Returns the index location of our MIN value\n",
    "ranarr.argmin()"
   ]
  },
  {
   "cell_type": "code",
   "execution_count": 26,
   "id": "c14ec900",
   "metadata": {},
   "outputs": [
    {
     "data": {
      "text/plain": [
       "(25,)"
      ]
     },
     "execution_count": 26,
     "metadata": {},
     "output_type": "execute_result"
    }
   ],
   "source": [
    "#Figuring out the shape of the array\n",
    "arr.shape"
   ]
  },
  {
   "cell_type": "code",
   "execution_count": 27,
   "id": "b0565962",
   "metadata": {},
   "outputs": [
    {
     "data": {
      "text/plain": [
       "dtype('int32')"
      ]
     },
     "execution_count": 27,
     "metadata": {},
     "output_type": "execute_result"
    }
   ],
   "source": [
    "#Returning the data type of the array\n",
    "arr.dtype"
   ]
  },
  {
   "cell_type": "markdown",
   "id": "149a2411",
   "metadata": {},
   "source": [
    "### NumPy Indexing & Selection"
   ]
  },
  {
   "cell_type": "code",
   "execution_count": 28,
   "id": "d583b98e",
   "metadata": {},
   "outputs": [
    {
     "data": {
      "text/plain": [
       "array([ 0,  1,  2,  3,  4,  5,  6,  7,  8,  9, 10])"
      ]
     },
     "execution_count": 28,
     "metadata": {},
     "output_type": "execute_result"
    }
   ],
   "source": [
    "arr2 = np.arange(0,11)\n",
    "arr2"
   ]
  },
  {
   "cell_type": "code",
   "execution_count": 29,
   "id": "242d5f39",
   "metadata": {},
   "outputs": [
    {
     "data": {
      "text/plain": [
       "5"
      ]
     },
     "execution_count": 29,
     "metadata": {},
     "output_type": "execute_result"
    }
   ],
   "source": [
    "arr2[5] #Selecting a SINGLE element"
   ]
  },
  {
   "cell_type": "code",
   "execution_count": 30,
   "id": "6f40e724",
   "metadata": {},
   "outputs": [
    {
     "data": {
      "text/plain": [
       "array([1, 2, 3, 4])"
      ]
     },
     "execution_count": 30,
     "metadata": {},
     "output_type": "execute_result"
    }
   ],
   "source": [
    "arr2[1:5] #Selecting SEVERAL elements"
   ]
  },
  {
   "cell_type": "code",
   "execution_count": 31,
   "id": "97797a9c",
   "metadata": {},
   "outputs": [
    {
     "data": {
      "text/plain": [
       "array([0, 1, 2])"
      ]
     },
     "execution_count": 31,
     "metadata": {},
     "output_type": "execute_result"
    }
   ],
   "source": [
    "arr2[:3] #Grabbing everything up to the specified index"
   ]
  },
  {
   "cell_type": "code",
   "execution_count": 32,
   "id": "e1a38e6a",
   "metadata": {},
   "outputs": [
    {
     "data": {
      "text/plain": [
       "array([ 3,  4,  5,  6,  7,  8,  9, 10])"
      ]
     },
     "execution_count": 32,
     "metadata": {},
     "output_type": "execute_result"
    }
   ],
   "source": [
    "arr2[3:] #Grabbing everything beyond the specified index"
   ]
  },
  {
   "cell_type": "code",
   "execution_count": 33,
   "id": "f01cd1e1",
   "metadata": {},
   "outputs": [
    {
     "data": {
      "text/plain": [
       "array([100, 100, 100,   3,   4,   5,   6,   7,   8,   9,  10])"
      ]
     },
     "execution_count": 33,
     "metadata": {},
     "output_type": "execute_result"
    }
   ],
   "source": [
    "arr2[0:3] = 100 #This is known as \"Broadcasting\", setting the first three elements = 100\n",
    "arr2"
   ]
  },
  {
   "cell_type": "code",
   "execution_count": 34,
   "id": "47b6f4f0",
   "metadata": {},
   "outputs": [],
   "source": [
    "slice_of_arr2 = arr2[0:6] #Assigning a slice of the array to a variable"
   ]
  },
  {
   "cell_type": "code",
   "execution_count": 35,
   "id": "d3287024",
   "metadata": {},
   "outputs": [
    {
     "data": {
      "text/plain": [
       "array([100, 100, 100,   3,   4,   5])"
      ]
     },
     "execution_count": 35,
     "metadata": {},
     "output_type": "execute_result"
    }
   ],
   "source": [
    "slice_of_arr2[:] #Grabbing everything in that slice"
   ]
  },
  {
   "cell_type": "code",
   "execution_count": 36,
   "id": "da2c29f3",
   "metadata": {},
   "outputs": [
    {
     "data": {
      "text/plain": [
       "array([99, 99, 99, 99, 99, 99])"
      ]
     },
     "execution_count": 36,
     "metadata": {},
     "output_type": "execute_result"
    }
   ],
   "source": [
    "slice_of_arr2[:] = 99 #Assigning 99 as the new values within slice\n",
    "slice_of_arr2"
   ]
  },
  {
   "cell_type": "code",
   "execution_count": 37,
   "id": "d7af3f15",
   "metadata": {},
   "outputs": [
    {
     "data": {
      "text/plain": [
       "array([99, 99, 99, 99, 99, 99,  6,  7,  8,  9, 10])"
      ]
     },
     "execution_count": 37,
     "metadata": {},
     "output_type": "execute_result"
    }
   ],
   "source": [
    "arr2 #Showcasing the NumPy does NOT copy your array, overwrites it. "
   ]
  },
  {
   "cell_type": "code",
   "execution_count": 38,
   "id": "6b5936c6",
   "metadata": {},
   "outputs": [],
   "source": [
    "arr2_copy = arr2.copy() #Use .copy() to actually create a copy"
   ]
  },
  {
   "cell_type": "markdown",
   "id": "dbbcca3b",
   "metadata": {},
   "source": [
    "##### Creating 2-d arrays (Matrix)"
   ]
  },
  {
   "cell_type": "code",
   "execution_count": 39,
   "id": "ec579b62",
   "metadata": {},
   "outputs": [
    {
     "data": {
      "text/plain": [
       "array([[ 5, 10, 15],\n",
       "       [20, 25, 30],\n",
       "       [35, 40, 45]])"
      ]
     },
     "execution_count": 39,
     "metadata": {},
     "output_type": "execute_result"
    }
   ],
   "source": [
    "arr2_2d = np.array([[5,10,15],[20,25,30],[35,40,45]])\n",
    "arr2_2d"
   ]
  },
  {
   "cell_type": "code",
   "execution_count": 57,
   "id": "88d02141",
   "metadata": {},
   "outputs": [
    {
     "data": {
      "text/plain": [
       "5"
      ]
     },
     "execution_count": 57,
     "metadata": {},
     "output_type": "execute_result"
    }
   ],
   "source": [
    "#Indexing begins at 0, and is inclusive for both indexes\n",
    "arr2_2d[0,0] #Double-bracket format to grab values from 2-d array. FORMAT: [ROWS, COLUMNS]"
   ]
  },
  {
   "cell_type": "code",
   "execution_count": 59,
   "id": "fee328d5",
   "metadata": {},
   "outputs": [
    {
     "data": {
      "text/plain": [
       "array([10, 25])"
      ]
     },
     "execution_count": 59,
     "metadata": {},
     "output_type": "execute_result"
    }
   ],
   "source": [
    "#Explanation: With the indexing below, we use 0:2 to grab rows starting at index 0, and up to but not \n",
    "#including row 3 (which is index 2), and then we use 1 in the column portion to grab values at column index 1 \n",
    "#(which is visually, column 2)\n",
    "\n",
    "arr2_2d[0:2,1] #[ROWS, COLUMNS]"
   ]
  },
  {
   "cell_type": "code",
   "execution_count": null,
   "id": "aad59a05",
   "metadata": {},
   "outputs": [],
   "source": []
  },
  {
   "cell_type": "code",
   "execution_count": null,
   "id": "4e5be760",
   "metadata": {},
   "outputs": [],
   "source": []
  },
  {
   "cell_type": "markdown",
   "id": "5de12158",
   "metadata": {},
   "source": [
    "### Numpy Operations"
   ]
  },
  {
   "cell_type": "code",
   "execution_count": 80,
   "id": "2440c285",
   "metadata": {},
   "outputs": [
    {
     "data": {
      "text/plain": [
       "array([1, 2, 3, 4, 5, 6, 7, 8, 9])"
      ]
     },
     "execution_count": 80,
     "metadata": {},
     "output_type": "execute_result"
    }
   ],
   "source": [
    "arr3 = np.arange(1,10)\n",
    "arr3"
   ]
  },
  {
   "cell_type": "markdown",
   "id": "44725e4d",
   "metadata": {},
   "source": [
    "##### Simple math operations on an array, on an element by element basis"
   ]
  },
  {
   "cell_type": "code",
   "execution_count": 42,
   "id": "3b028bfc",
   "metadata": {},
   "outputs": [
    {
     "data": {
      "text/plain": [
       "array([ 0,  2,  4,  6,  8, 10, 12, 14, 16, 18, 20])"
      ]
     },
     "execution_count": 42,
     "metadata": {},
     "output_type": "execute_result"
    }
   ],
   "source": [
    "arr3 + arr3 #Addition"
   ]
  },
  {
   "cell_type": "code",
   "execution_count": 43,
   "id": "1de05620",
   "metadata": {},
   "outputs": [
    {
     "data": {
      "text/plain": [
       "array([0, 0, 0, 0, 0, 0, 0, 0, 0, 0, 0])"
      ]
     },
     "execution_count": 43,
     "metadata": {},
     "output_type": "execute_result"
    }
   ],
   "source": [
    "arr3 - arr3 #Subtraction"
   ]
  },
  {
   "cell_type": "code",
   "execution_count": 44,
   "id": "8cfc510d",
   "metadata": {},
   "outputs": [
    {
     "data": {
      "text/plain": [
       "array([  0,   1,   4,   9,  16,  25,  36,  49,  64,  81, 100])"
      ]
     },
     "execution_count": 44,
     "metadata": {},
     "output_type": "execute_result"
    }
   ],
   "source": [
    "arr3 * arr3 #Multiplication"
   ]
  },
  {
   "cell_type": "markdown",
   "id": "3bd447aa",
   "metadata": {},
   "source": [
    "##### Broadcasts to each element in the array, doing on operation to each element"
   ]
  },
  {
   "cell_type": "code",
   "execution_count": 45,
   "id": "c55b7be1",
   "metadata": {},
   "outputs": [
    {
     "data": {
      "text/plain": [
       "array([100, 101, 102, 103, 104, 105, 106, 107, 108, 109, 110])"
      ]
     },
     "execution_count": 45,
     "metadata": {},
     "output_type": "execute_result"
    }
   ],
   "source": [
    "arr3 + 100 "
   ]
  },
  {
   "cell_type": "code",
   "execution_count": 46,
   "id": "4ab99a1d",
   "metadata": {},
   "outputs": [
    {
     "data": {
      "text/plain": [
       "array([-100,  -99,  -98,  -97,  -96,  -95,  -94,  -93,  -92,  -91,  -90])"
      ]
     },
     "execution_count": 46,
     "metadata": {},
     "output_type": "execute_result"
    }
   ],
   "source": [
    "arr3 - 100"
   ]
  },
  {
   "cell_type": "code",
   "execution_count": 47,
   "id": "1c1f1a5e",
   "metadata": {},
   "outputs": [
    {
     "data": {
      "text/plain": [
       "array([   0,  100,  200,  300,  400,  500,  600,  700,  800,  900, 1000])"
      ]
     },
     "execution_count": 47,
     "metadata": {},
     "output_type": "execute_result"
    }
   ],
   "source": [
    "arr3 * 100"
   ]
  },
  {
   "cell_type": "code",
   "execution_count": 48,
   "id": "67fce8a3",
   "metadata": {},
   "outputs": [
    {
     "name": "stderr",
     "output_type": "stream",
     "text": [
      "C:\\Users\\troyf\\AppData\\Local\\Temp/ipykernel_25220/3756652605.py:1: RuntimeWarning: invalid value encountered in divide\n",
      "  arr3 / arr3 #Showcasing div/0 warning, not an error like it would be in Python\n"
     ]
    },
    {
     "data": {
      "text/plain": [
       "array([nan,  1.,  1.,  1.,  1.,  1.,  1.,  1.,  1.,  1.,  1.])"
      ]
     },
     "execution_count": 48,
     "metadata": {},
     "output_type": "execute_result"
    }
   ],
   "source": [
    "arr3 / arr3 #Showcasing div/0 warning, not an error like it would be in Python"
   ]
  },
  {
   "cell_type": "code",
   "execution_count": 49,
   "id": "660967a3",
   "metadata": {},
   "outputs": [
    {
     "name": "stderr",
     "output_type": "stream",
     "text": [
      "C:\\Users\\troyf\\AppData\\Local\\Temp/ipykernel_25220/33658666.py:1: RuntimeWarning: divide by zero encountered in divide\n",
      "  1 / arr3 #Shows that 1 / 0 results in the inf value\n"
     ]
    },
    {
     "data": {
      "text/plain": [
       "array([       inf, 1.        , 0.5       , 0.33333333, 0.25      ,\n",
       "       0.2       , 0.16666667, 0.14285714, 0.125     , 0.11111111,\n",
       "       0.1       ])"
      ]
     },
     "execution_count": 49,
     "metadata": {},
     "output_type": "execute_result"
    }
   ],
   "source": [
    "1 / arr3 #Shows that 1 / 0 results in the inf value"
   ]
  },
  {
   "cell_type": "code",
   "execution_count": 50,
   "id": "b43a571d",
   "metadata": {},
   "outputs": [
    {
     "data": {
      "text/plain": [
       "array([  0,   1,   4,   9,  16,  25,  36,  49,  64,  81, 100])"
      ]
     },
     "execution_count": 50,
     "metadata": {},
     "output_type": "execute_result"
    }
   ],
   "source": [
    "arr3 ** 2 "
   ]
  },
  {
   "cell_type": "code",
   "execution_count": 51,
   "id": "c5984055",
   "metadata": {},
   "outputs": [
    {
     "data": {
      "text/plain": [
       "array([0.        , 1.        , 1.41421356, 1.73205081, 2.        ,\n",
       "       2.23606798, 2.44948974, 2.64575131, 2.82842712, 3.        ,\n",
       "       3.16227766])"
      ]
     },
     "execution_count": 51,
     "metadata": {},
     "output_type": "execute_result"
    }
   ],
   "source": [
    "np.sqrt(arr3) #Taking square root of every element in the array"
   ]
  },
  {
   "cell_type": "code",
   "execution_count": 52,
   "id": "f4e95de8",
   "metadata": {},
   "outputs": [
    {
     "data": {
      "text/plain": [
       "array([1.00000000e+00, 2.71828183e+00, 7.38905610e+00, 2.00855369e+01,\n",
       "       5.45981500e+01, 1.48413159e+02, 4.03428793e+02, 1.09663316e+03,\n",
       "       2.98095799e+03, 8.10308393e+03, 2.20264658e+04])"
      ]
     },
     "execution_count": 52,
     "metadata": {},
     "output_type": "execute_result"
    }
   ],
   "source": [
    "np.exp(arr3) #Exponentional, Eulers Number: 2.71828183e+00, taking exponential of each number in array and multiplying by Euler's"
   ]
  },
  {
   "cell_type": "code",
   "execution_count": 53,
   "id": "4de79609",
   "metadata": {},
   "outputs": [
    {
     "data": {
      "text/plain": [
       "10"
      ]
     },
     "execution_count": 53,
     "metadata": {},
     "output_type": "execute_result"
    }
   ],
   "source": [
    "arr3.max() #Maximum value"
   ]
  },
  {
   "cell_type": "code",
   "execution_count": 54,
   "id": "6f15ea72",
   "metadata": {},
   "outputs": [
    {
     "data": {
      "text/plain": [
       "10"
      ]
     },
     "execution_count": 54,
     "metadata": {},
     "output_type": "execute_result"
    }
   ],
   "source": [
    "np.max(arr3) #Maximum value"
   ]
  },
  {
   "cell_type": "code",
   "execution_count": 55,
   "id": "be6d3ce7",
   "metadata": {},
   "outputs": [
    {
     "data": {
      "text/plain": [
       "array([ 0.        ,  0.84147098,  0.90929743,  0.14112001, -0.7568025 ,\n",
       "       -0.95892427, -0.2794155 ,  0.6569866 ,  0.98935825,  0.41211849,\n",
       "       -0.54402111])"
      ]
     },
     "execution_count": 55,
     "metadata": {},
     "output_type": "execute_result"
    }
   ],
   "source": [
    "np.sin(arr3)"
   ]
  },
  {
   "cell_type": "code",
   "execution_count": 56,
   "id": "a64b35a1",
   "metadata": {},
   "outputs": [
    {
     "name": "stderr",
     "output_type": "stream",
     "text": [
      "C:\\Users\\troyf\\AppData\\Local\\Temp/ipykernel_25220/2430430252.py:1: RuntimeWarning: divide by zero encountered in log\n",
      "  np.log(arr3)\n"
     ]
    },
    {
     "data": {
      "text/plain": [
       "array([      -inf, 0.        , 0.69314718, 1.09861229, 1.38629436,\n",
       "       1.60943791, 1.79175947, 1.94591015, 2.07944154, 2.19722458,\n",
       "       2.30258509])"
      ]
     },
     "execution_count": 56,
     "metadata": {},
     "output_type": "execute_result"
    }
   ],
   "source": [
    "np.log(arr3)"
   ]
  },
  {
   "cell_type": "code",
   "execution_count": 81,
   "id": "1e6e53aa",
   "metadata": {},
   "outputs": [],
   "source": [
    "arr4 = arr3.copy()"
   ]
  },
  {
   "cell_type": "code",
   "execution_count": 84,
   "id": "7ef2110c",
   "metadata": {},
   "outputs": [
    {
     "data": {
      "text/plain": [
       "array([[1, 2, 3],\n",
       "       [4, 5, 6],\n",
       "       [7, 8, 9]])"
      ]
     },
     "execution_count": 84,
     "metadata": {},
     "output_type": "execute_result"
    }
   ],
   "source": [
    "arr4 = arr4.reshape(3,3)\n",
    "arr4"
   ]
  },
  {
   "cell_type": "code",
   "execution_count": 85,
   "id": "5f163080",
   "metadata": {},
   "outputs": [
    {
     "data": {
      "text/plain": [
       "array([12, 15, 18])"
      ]
     },
     "execution_count": 85,
     "metadata": {},
     "output_type": "execute_result"
    }
   ],
   "source": [
    "arr4.sum(axis=0) #Summing values by columns"
   ]
  }
 ],
 "metadata": {
  "kernelspec": {
   "display_name": "Python 3 (ipykernel)",
   "language": "python",
   "name": "python3"
  },
  "language_info": {
   "codemirror_mode": {
    "name": "ipython",
    "version": 3
   },
   "file_extension": ".py",
   "mimetype": "text/x-python",
   "name": "python",
   "nbconvert_exporter": "python",
   "pygments_lexer": "ipython3",
   "version": "3.9.7"
  }
 },
 "nbformat": 4,
 "nbformat_minor": 5
}
