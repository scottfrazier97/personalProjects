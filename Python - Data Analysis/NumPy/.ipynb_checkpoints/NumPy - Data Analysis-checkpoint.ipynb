{
 "cells": [
  {
   "cell_type": "markdown",
   "id": "d1e3fa80",
   "metadata": {},
   "source": [
    "### NumPy Introduction"
   ]
  },
  {
   "cell_type": "markdown",
   "id": "aac9c0f4",
   "metadata": {},
   "source": [
    "1) NumPy: Numerical Python<br>2) A linear algebra library for Python. Utilized by a large number of other libraries in the Python ecosystem. Also very fast.<br>3) NumPy arrays come in two flavors: Vectors, and matrices<br>--Vectors are strictly 1-d arrays<br>--Matrices are 2-d ( you can still have a matrix with only one row or column)<br>"
   ]
  },
  {
   "cell_type": "markdown",
   "id": "57eebadb",
   "metadata": {},
   "source": [
    "### NumPy Arrays"
   ]
  },
  {
   "cell_type": "markdown",
   "id": "c8b1acdb",
   "metadata": {},
   "source": [
    "Can create a list and then cast it as a NumPy array"
   ]
  },
  {
   "cell_type": "code",
   "execution_count": 1,
   "id": "1dd68072",
   "metadata": {},
   "outputs": [],
   "source": [
    "my_list = [1,2,3]"
   ]
  },
  {
   "cell_type": "code",
   "execution_count": 2,
   "id": "25125baa",
   "metadata": {},
   "outputs": [],
   "source": [
    "import numpy as np"
   ]
  },
  {
   "cell_type": "markdown",
   "id": "c3c4fcb5",
   "metadata": {},
   "source": [
    "1-d array"
   ]
  },
  {
   "cell_type": "code",
   "execution_count": 3,
   "id": "0c3dcc68",
   "metadata": {},
   "outputs": [],
   "source": [
    "arr = np.array(my_list)"
   ]
  },
  {
   "cell_type": "code",
   "execution_count": 4,
   "id": "09c4e90b",
   "metadata": {},
   "outputs": [
    {
     "data": {
      "text/plain": [
       "array([1, 2, 3])"
      ]
     },
     "execution_count": 4,
     "metadata": {},
     "output_type": "execute_result"
    }
   ],
   "source": [
    "arr"
   ]
  },
  {
   "cell_type": "markdown",
   "id": "ba10fbcd",
   "metadata": {},
   "source": [
    "To get a 2-d array, can pass a list of lists...2-d array can be identified by the number of outside brackets"
   ]
  },
  {
   "cell_type": "code",
   "execution_count": 5,
   "id": "d32fdedc",
   "metadata": {},
   "outputs": [],
   "source": [
    "my_mat = [[1,2,3],[4,5,6],[7,8,9]]"
   ]
  },
  {
   "cell_type": "code",
   "execution_count": 6,
   "id": "06f965d7",
   "metadata": {},
   "outputs": [
    {
     "data": {
      "text/plain": [
       "array([[1, 2, 3],\n",
       "       [4, 5, 6],\n",
       "       [7, 8, 9]])"
      ]
     },
     "execution_count": 6,
     "metadata": {},
     "output_type": "execute_result"
    }
   ],
   "source": [
    "np.array(my_mat)"
   ]
  },
  {
   "cell_type": "markdown",
   "id": "437f9e68",
   "metadata": {},
   "source": [
    "##### Creating NumPy arrays without Python lists"
   ]
  },
  {
   "cell_type": "code",
   "execution_count": 7,
   "id": "cbd75f06",
   "metadata": {},
   "outputs": [
    {
     "data": {
      "text/plain": [
       "array([0, 2, 4, 6, 8])"
      ]
     },
     "execution_count": 7,
     "metadata": {},
     "output_type": "execute_result"
    }
   ],
   "source": [
    "np.arange(0,10,2) #Starts at 0, up to but not including 10, with a step of 2"
   ]
  },
  {
   "cell_type": "code",
   "execution_count": 8,
   "id": "d6fb4de0",
   "metadata": {},
   "outputs": [
    {
     "data": {
      "text/plain": [
       "array([0., 0., 0.])"
      ]
     },
     "execution_count": 8,
     "metadata": {},
     "output_type": "execute_result"
    }
   ],
   "source": [
    "np.zeros(3) #One dimensional vector of zeros"
   ]
  },
  {
   "cell_type": "code",
   "execution_count": 9,
   "id": "e35e0ae7",
   "metadata": {},
   "outputs": [
    {
     "data": {
      "text/plain": [
       "array([[0., 0., 0., 0., 0.],\n",
       "       [0., 0., 0., 0., 0.],\n",
       "       [0., 0., 0., 0., 0.],\n",
       "       [0., 0., 0., 0., 0.],\n",
       "       [0., 0., 0., 0., 0.]])"
      ]
     },
     "execution_count": 9,
     "metadata": {},
     "output_type": "execute_result"
    }
   ],
   "source": [
    "np.zeros((5,5)) #Tuple to pass in more than one dimension"
   ]
  },
  {
   "cell_type": "code",
   "execution_count": 10,
   "id": "b678aca5",
   "metadata": {},
   "outputs": [
    {
     "data": {
      "text/plain": [
       "array([1., 1., 1., 1., 1.])"
      ]
     },
     "execution_count": 10,
     "metadata": {},
     "output_type": "execute_result"
    }
   ],
   "source": [
    "np.ones(5)"
   ]
  },
  {
   "cell_type": "code",
   "execution_count": 11,
   "id": "c0c208ce",
   "metadata": {},
   "outputs": [
    {
     "data": {
      "text/plain": [
       "array([[1., 1., 1., 1., 1.],\n",
       "       [1., 1., 1., 1., 1.],\n",
       "       [1., 1., 1., 1., 1.],\n",
       "       [1., 1., 1., 1., 1.]])"
      ]
     },
     "execution_count": 11,
     "metadata": {},
     "output_type": "execute_result"
    }
   ],
   "source": [
    "np.ones((4,5))"
   ]
  },
  {
   "cell_type": "code",
   "execution_count": 12,
   "id": "f77d206a",
   "metadata": {},
   "outputs": [
    {
     "data": {
      "text/plain": [
       "array([0.        , 0.55555556, 1.11111111, 1.66666667, 2.22222222,\n",
       "       2.77777778, 3.33333333, 3.88888889, 4.44444444, 5.        ])"
      ]
     },
     "execution_count": 12,
     "metadata": {},
     "output_type": "execute_result"
    }
   ],
   "source": [
    "np.linspace(0,5,10) #Returns a range of numbers from the start to the stop, specified with your number of evenly spaced points"
   ]
  },
  {
   "cell_type": "code",
   "execution_count": 13,
   "id": "c4831086",
   "metadata": {},
   "outputs": [
    {
     "data": {
      "text/plain": [
       "array([[1., 0., 0., 0.],\n",
       "       [0., 1., 0., 0.],\n",
       "       [0., 0., 1., 0.],\n",
       "       [0., 0., 0., 1.]])"
      ]
     },
     "execution_count": 13,
     "metadata": {},
     "output_type": "execute_result"
    }
   ],
   "source": [
    "# Single digit argument. Identity matrix useful for linear algebra problems. Number of rows is same as columns.\n",
    "# Returns a diagonal of ones, everything else 0. Identity matrix must be square, which is the reason for one argument\n",
    "np.eye(4) "
   ]
  },
  {
   "cell_type": "markdown",
   "id": "e1a68f41",
   "metadata": {},
   "source": [
    "##### Creating arrays of random numbers"
   ]
  },
  {
   "cell_type": "code",
   "execution_count": 14,
   "id": "f7d250be",
   "metadata": {},
   "outputs": [
    {
     "data": {
      "text/plain": [
       "array([0.69220714, 0.65257549, 0.97809627, 0.3766657 , 0.28462135])"
      ]
     },
     "execution_count": 14,
     "metadata": {},
     "output_type": "execute_result"
    }
   ],
   "source": [
    "# Creates an array of a given shape, and populate with random samples from a UNIFORM distribution. Ranging from 0 to 1\n",
    "np.random.rand(5)"
   ]
  },
  {
   "cell_type": "code",
   "execution_count": 15,
   "id": "c854e6a3",
   "metadata": {},
   "outputs": [
    {
     "data": {
      "text/plain": [
       "array([[0.16903942, 0.49105328, 0.58470277, 0.04537931, 0.14618494],\n",
       "       [0.09298717, 0.14214654, 0.57392856, 0.21724592, 0.84653613],\n",
       "       [0.63943931, 0.06844783, 0.14790164, 0.96600601, 0.73342478],\n",
       "       [0.10118175, 0.86251041, 0.84074701, 0.11019633, 0.94941823],\n",
       "       [0.97654061, 0.16281794, 0.23106168, 0.13042406, 0.04058383]])"
      ]
     },
     "execution_count": 15,
     "metadata": {},
     "output_type": "execute_result"
    }
   ],
   "source": [
    "np.random.rand(5,5)"
   ]
  },
  {
   "cell_type": "code",
   "execution_count": 16,
   "id": "9da2e443",
   "metadata": {},
   "outputs": [
    {
     "data": {
      "text/plain": [
       "array([0.13339115, 0.2410551 ])"
      ]
     },
     "execution_count": 16,
     "metadata": {},
     "output_type": "execute_result"
    }
   ],
   "source": [
    "# Creating an array of random numbers from a NORMAL distribution\n",
    "np.random.randn(2)"
   ]
  },
  {
   "cell_type": "code",
   "execution_count": 17,
   "id": "d8fd90c8",
   "metadata": {},
   "outputs": [
    {
     "data": {
      "text/plain": [
       "array([[ 1.45823177,  0.93129893,  0.40112727,  0.93708577,  0.44968174],\n",
       "       [-0.30780249, -0.93553013,  2.06981863,  0.43876564,  0.21906303]])"
      ]
     },
     "execution_count": 17,
     "metadata": {},
     "output_type": "execute_result"
    }
   ],
   "source": [
    "np.random.randn(2,5)"
   ]
  },
  {
   "cell_type": "code",
   "execution_count": 18,
   "id": "de3a4e44",
   "metadata": {},
   "outputs": [
    {
     "data": {
      "text/plain": [
       "array([67,  1, 95, 30, 85, 19, 78, 45, 70, 89, 16, 26, 75, 95, 43])"
      ]
     },
     "execution_count": 18,
     "metadata": {},
     "output_type": "execute_result"
    }
   ],
   "source": [
    "#Generating random integer, (start, stop, number of integers you want returned)\n",
    "np.random.randint(1,100, 15)"
   ]
  },
  {
   "cell_type": "markdown",
   "id": "bd98582c",
   "metadata": {},
   "source": [
    "##### Useful attributes or methods of an array"
   ]
  },
  {
   "cell_type": "code",
   "execution_count": 19,
   "id": "8a62fdd0",
   "metadata": {},
   "outputs": [
    {
     "data": {
      "text/plain": [
       "array([ 0,  1,  2,  3,  4,  5,  6,  7,  8,  9, 10, 11, 12, 13, 14, 15, 16,\n",
       "       17, 18, 19, 20, 21, 22, 23, 24])"
      ]
     },
     "execution_count": 19,
     "metadata": {},
     "output_type": "execute_result"
    }
   ],
   "source": [
    "arr = np.arange(25)\n",
    "arr"
   ]
  },
  {
   "cell_type": "code",
   "execution_count": 20,
   "id": "720435dd",
   "metadata": {},
   "outputs": [
    {
     "data": {
      "text/plain": [
       "array([40, 49,  1,  0, 34, 16, 33, 38, 29,  8])"
      ]
     },
     "execution_count": 20,
     "metadata": {},
     "output_type": "execute_result"
    }
   ],
   "source": [
    "ranarr = np.random.randint(0,50,10)\n",
    "ranarr"
   ]
  },
  {
   "cell_type": "code",
   "execution_count": 21,
   "id": "a239d1ce",
   "metadata": {},
   "outputs": [
    {
     "data": {
      "text/plain": [
       "array([[ 0,  1,  2,  3,  4],\n",
       "       [ 5,  6,  7,  8,  9],\n",
       "       [10, 11, 12, 13, 14],\n",
       "       [15, 16, 17, 18, 19],\n",
       "       [20, 21, 22, 23, 24]])"
      ]
     },
     "execution_count": 21,
     "metadata": {},
     "output_type": "execute_result"
    }
   ],
   "source": [
    "#Creating a new shape for our array, values remain same\n",
    "#MUST have same number of values to fill array. Original is 25, and so is the reshaped version\n",
    "#MUST re-assign the reshape to a variable to fully reshape it\n",
    "\n",
    "arr.reshape(5,5) "
   ]
  },
  {
   "cell_type": "code",
   "execution_count": 22,
   "id": "5174e3fa",
   "metadata": {},
   "outputs": [
    {
     "data": {
      "text/plain": [
       "49"
      ]
     },
     "execution_count": 22,
     "metadata": {},
     "output_type": "execute_result"
    }
   ],
   "source": [
    "#MAX value within an array\n",
    "ranarr.max()"
   ]
  },
  {
   "cell_type": "code",
   "execution_count": 23,
   "id": "ab50dd4f",
   "metadata": {},
   "outputs": [
    {
     "data": {
      "text/plain": [
       "0"
      ]
     },
     "execution_count": 23,
     "metadata": {},
     "output_type": "execute_result"
    }
   ],
   "source": [
    "#MIN value within an array\n",
    "ranarr.min()"
   ]
  },
  {
   "cell_type": "code",
   "execution_count": 24,
   "id": "2b9f4292",
   "metadata": {},
   "outputs": [
    {
     "data": {
      "text/plain": [
       "1"
      ]
     },
     "execution_count": 24,
     "metadata": {},
     "output_type": "execute_result"
    }
   ],
   "source": [
    "#Returns the index location of our MAX value\n",
    "ranarr.argmax()"
   ]
  },
  {
   "cell_type": "code",
   "execution_count": 25,
   "id": "13408089",
   "metadata": {},
   "outputs": [
    {
     "data": {
      "text/plain": [
       "3"
      ]
     },
     "execution_count": 25,
     "metadata": {},
     "output_type": "execute_result"
    }
   ],
   "source": [
    "#Returns the index location of our MIN value\n",
    "ranarr.argmin()"
   ]
  },
  {
   "cell_type": "code",
   "execution_count": 26,
   "id": "c14ec900",
   "metadata": {},
   "outputs": [
    {
     "data": {
      "text/plain": [
       "(25,)"
      ]
     },
     "execution_count": 26,
     "metadata": {},
     "output_type": "execute_result"
    }
   ],
   "source": [
    "#Figuring out the shape of the array\n",
    "arr.shape"
   ]
  },
  {
   "cell_type": "code",
   "execution_count": 27,
   "id": "b0565962",
   "metadata": {},
   "outputs": [
    {
     "data": {
      "text/plain": [
       "dtype('int32')"
      ]
     },
     "execution_count": 27,
     "metadata": {},
     "output_type": "execute_result"
    }
   ],
   "source": [
    "#Returning the data type of the array\n",
    "arr.dtype"
   ]
  },
  {
   "cell_type": "markdown",
   "id": "1ef528e5",
   "metadata": {},
   "source": [
    "### NumPy Indexing & Selection"
   ]
  },
  {
   "cell_type": "code",
   "execution_count": null,
   "id": "6e41b16b",
   "metadata": {},
   "outputs": [],
   "source": [
    "arr"
   ]
  }
 ],
 "metadata": {
  "kernelspec": {
   "display_name": "Python 3 (ipykernel)",
   "language": "python",
   "name": "python3"
  },
  "language_info": {
   "codemirror_mode": {
    "name": "ipython",
    "version": 3
   },
   "file_extension": ".py",
   "mimetype": "text/x-python",
   "name": "python",
   "nbconvert_exporter": "python",
   "pygments_lexer": "ipython3",
   "version": "3.9.7"
  }
 },
 "nbformat": 4,
 "nbformat_minor": 5
}
