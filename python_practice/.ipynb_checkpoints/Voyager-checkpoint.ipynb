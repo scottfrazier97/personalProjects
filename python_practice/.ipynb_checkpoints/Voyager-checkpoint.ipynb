{
 "cells": [
  {
   "cell_type": "markdown",
   "id": "c0895cfe",
   "metadata": {},
   "source": [
    "#### DEPENDENCIES"
   ]
  },
  {
   "cell_type": "code",
   "execution_count": 46,
   "id": "badc9667",
   "metadata": {},
   "outputs": [],
   "source": [
    "from datetime import datetime, timedelta"
   ]
  },
  {
   "cell_type": "code",
   "execution_count": 52,
   "id": "2d849325",
   "metadata": {},
   "outputs": [
    {
     "name": "stdout",
     "output_type": "stream",
     "text": [
      "Voyager 1 is approximately: 15,484,917,771 miles away.\n",
      "-------------------------------------------------------------------\n",
      "It is worth noting that this calculator only takes into account linear space travel from Earth. It does not account for Earth's rotation around the Sun or other factors such as gravitational pull from other celestial bodies during Voyager's travel.\n"
     ]
    }
   ],
   "source": [
    "def calculate_distance():\n",
    "    departure = datetime.fromisoformat('1977-09-05T12:56:00')\n",
    "    voyager_speed = 38026.77  # Speed in MPH\n",
    "\n",
    "    # Get current time\n",
    "    today = datetime.now()\n",
    "\n",
    "    # Calculate time difference\n",
    "    time_diff = today - departure\n",
    "\n",
    "    days_diff = time_diff.days\n",
    "\n",
    "    # Calculate difference in hours and minutes\n",
    "    total_seconds = time_diff.total_seconds()\n",
    "    hours_diff = int(total_seconds // 3600)  # 3600 seconds in an hour\n",
    "    minutes_diff = int((total_seconds % 3600) // 60)  # Remaining seconds converted to minutes\n",
    "    \n",
    "    minutes_distance = (minutes_diff / 60) * voyager_speed\n",
    "    result = (voyager_speed * hours_diff) + minutes_distance\n",
    "    \n",
    "    return f\"Voyager 1 is approximately: {result:,.0f} miles away.\"\n",
    "\n",
    "calculate_distance()\n",
    "print(f\"{calculate_distance()}\\n-------------------------------------------------------------------\\nIt is worth noting that this calculator only takes into account linear space travel from Earth. It does not account for Earth's rotation around the Sun or other factors such as gravitational pull from other celestial bodies during Voyager's travel.\")"
   ]
  },
  {
   "cell_type": "code",
   "execution_count": null,
   "id": "25be85d1",
   "metadata": {},
   "outputs": [],
   "source": []
  }
 ],
 "metadata": {
  "kernelspec": {
   "display_name": "Python 3",
   "language": "python",
   "name": "python3"
  },
  "language_info": {
   "codemirror_mode": {
    "name": "ipython",
    "version": 3
   },
   "file_extension": ".py",
   "mimetype": "text/x-python",
   "name": "python",
   "nbconvert_exporter": "python",
   "pygments_lexer": "ipython3",
   "version": "3.8.8"
  }
 },
 "nbformat": 4,
 "nbformat_minor": 5
}
