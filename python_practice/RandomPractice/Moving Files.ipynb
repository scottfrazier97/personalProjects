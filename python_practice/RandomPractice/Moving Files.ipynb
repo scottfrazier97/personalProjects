{
 "cells": [
  {
   "cell_type": "markdown",
   "id": "0634bf82",
   "metadata": {},
   "source": [
    "### Original Path"
   ]
  },
  {
   "cell_type": "code",
   "execution_count": 1,
   "id": "ffaa03a2",
   "metadata": {},
   "outputs": [],
   "source": [
    "path = 'C:\\\\Users\\\\troyf\\\\OneDrive\\\\Desktop\\\\OLD'"
   ]
  },
  {
   "cell_type": "code",
   "execution_count": 2,
   "id": "485c038b",
   "metadata": {},
   "outputs": [],
   "source": [
    "import os\n",
    "files_list = list(os.listdir(path=path))"
   ]
  },
  {
   "cell_type": "code",
   "execution_count": 3,
   "id": "f5913d5c",
   "metadata": {
    "scrolled": true
   },
   "outputs": [
    {
     "data": {
      "text/plain": [
       "['test05312024.txt', 'test06012024.txt']"
      ]
     },
     "execution_count": 3,
     "metadata": {},
     "output_type": "execute_result"
    }
   ],
   "source": [
    "files_list"
   ]
  },
  {
   "cell_type": "code",
   "execution_count": 4,
   "id": "fd2d1665",
   "metadata": {},
   "outputs": [],
   "source": [
    "# for file in files_list:\n",
    "#     if os.path.splitext(file)[1].lower() == '.txt':\n",
    "#         print(file)"
   ]
  },
  {
   "cell_type": "code",
   "execution_count": 5,
   "id": "7675328c",
   "metadata": {},
   "outputs": [],
   "source": [
    "full_paths = []\n",
    "for file in files_list:\n",
    "    dir_and_files = os.path.join(path, file)\n",
    "    full_paths.append(dir_and_files)"
   ]
  },
  {
   "cell_type": "code",
   "execution_count": 6,
   "id": "877ba902",
   "metadata": {},
   "outputs": [],
   "source": [
    "full_paths.sort()"
   ]
  },
  {
   "cell_type": "code",
   "execution_count": 7,
   "id": "866c6271",
   "metadata": {},
   "outputs": [],
   "source": [
    "OGlastfilepath = full_paths[-1]"
   ]
  },
  {
   "cell_type": "markdown",
   "id": "6f4f95b2",
   "metadata": {},
   "source": [
    "### New Path"
   ]
  },
  {
   "cell_type": "code",
   "execution_count": 8,
   "id": "f9835273",
   "metadata": {},
   "outputs": [],
   "source": [
    "head_tail = os.path.split(OGlastfilepath)\n",
    "lastfilename = head_tail[1]"
   ]
  },
  {
   "cell_type": "code",
   "execution_count": 9,
   "id": "9ca21c96",
   "metadata": {},
   "outputs": [],
   "source": [
    "newpath = f'C:\\\\Users\\\\troyf\\\\OneDrive\\\\Desktop\\\\NEW\\\\{lastfilename}'"
   ]
  },
  {
   "cell_type": "code",
   "execution_count": 10,
   "id": "223e6973",
   "metadata": {},
   "outputs": [
    {
     "data": {
      "text/plain": [
       "'C:\\\\Users\\\\troyf\\\\OneDrive\\\\Desktop\\\\NEW\\\\test06012024.txt'"
      ]
     },
     "execution_count": 10,
     "metadata": {},
     "output_type": "execute_result"
    }
   ],
   "source": [
    "import shutil\n",
    "shutil.copyfile(OGlastfilepath, newpath)"
   ]
  },
  {
   "cell_type": "code",
   "execution_count": null,
   "id": "0c910038",
   "metadata": {},
   "outputs": [],
   "source": []
  }
 ],
 "metadata": {
  "kernelspec": {
   "display_name": "Python 3 (ipykernel)",
   "language": "python",
   "name": "python3"
  },
  "language_info": {
   "codemirror_mode": {
    "name": "ipython",
    "version": 3
   },
   "file_extension": ".py",
   "mimetype": "text/x-python",
   "name": "python",
   "nbconvert_exporter": "python",
   "pygments_lexer": "ipython3",
   "version": "3.9.7"
  }
 },
 "nbformat": 4,
 "nbformat_minor": 5
}
