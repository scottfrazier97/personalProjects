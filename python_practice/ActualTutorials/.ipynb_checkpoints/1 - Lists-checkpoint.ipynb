{
 "cells": [
  {
   "cell_type": "code",
   "execution_count": 1,
   "id": "cb3e0070",
   "metadata": {},
   "outputs": [],
   "source": [
    "list1 = [1,2,3,4,5]"
   ]
  },
  {
   "cell_type": "code",
   "execution_count": 2,
   "id": "53ce8464",
   "metadata": {},
   "outputs": [
    {
     "name": "stdout",
     "output_type": "stream",
     "text": [
      "[1, 2, 3, 4, 5, 23]\n"
     ]
    }
   ],
   "source": [
    "#append - adds a single element to end of list\n",
    "list1.append(23)\n",
    "print(list1) #shows added element at end"
   ]
  },
  {
   "cell_type": "code",
   "execution_count": 3,
   "id": "f7134b51",
   "metadata": {},
   "outputs": [
    {
     "name": "stdout",
     "output_type": "stream",
     "text": [
      "[1, 99, 2, 3, 4, 5, 23]\n"
     ]
    }
   ],
   "source": [
    "#insert - inserts an element at a specified location in list. Insertion index must be\n",
    "#between 0 and length of list, inclusive.\n",
    "list2 = list1.copy()\n",
    "list2.insert(1,99)\n",
    "print(list2)\n",
    "\n",
    "# insert keyword is computationally expensive compared with append, because references to subsequent elements have to be shifted inter‐\n",
    "# nally to make room for the new element. If you need to insert elements at both the beginning and end of a sequence, you may\n",
    "# wish to explore collections.deque, a double-ended queue, which is optimized for this purpose "
   ]
  },
  {
   "cell_type": "code",
   "execution_count": 4,
   "id": "ea14eca1",
   "metadata": {},
   "outputs": [
    {
     "name": "stdout",
     "output_type": "stream",
     "text": [
      "[1, 2, 3, 4, 5, 23]\n"
     ]
    }
   ],
   "source": [
    "#pop - removes and returns an element at a particular index\n",
    "list3 = list2.copy()\n",
    "list3.pop(1)\n",
    "print(list3)"
   ]
  },
  {
   "cell_type": "code",
   "execution_count": 5,
   "id": "7e92039d",
   "metadata": {},
   "outputs": [
    {
     "name": "stdout",
     "output_type": "stream",
     "text": [
      "[1, 2, 3, 4, 5]\n"
     ]
    }
   ],
   "source": [
    "#remove - locates first value you specifiy and removes it from list\n",
    "list4 = list3.copy()\n",
    "list4.remove(23)\n",
    "print(list4)"
   ]
  },
  {
   "cell_type": "code",
   "execution_count": 7,
   "id": "b54a8e09",
   "metadata": {},
   "outputs": [
    {
     "data": {
      "text/plain": [
       "True"
      ]
     },
     "execution_count": 7,
     "metadata": {},
     "output_type": "execute_result"
    }
   ],
   "source": [
    "#use in and not in to check if a list has specified values\n",
    "\"random\" in list4 #returns false\n",
    "#4 in list4 returns true\n",
    "\n",
    "# Checking whether a list contains a value is a lot slower than doing so with diction‐\n",
    "# aries and sets, as Python makes a linear scan across the values of the list, whereas it can check the others \n",
    "# (based on hash tables) in constant time"
   ]
  },
  {
   "cell_type": "code",
   "execution_count": 11,
   "id": "130d3989",
   "metadata": {},
   "outputs": [
    {
     "data": {
      "text/plain": [
       "[1, 2, 3, 4, 5, 7, 8, 2, 3]"
      ]
     },
     "execution_count": 11,
     "metadata": {},
     "output_type": "execute_result"
    }
   ],
   "source": [
    "#extend - adds elements to a list from an iterable and is faster than using + operation to combine\n",
    "#lists. This is because the + method creates a new list and copies the objects over.\n",
    "\n",
    "#If you have a list already defined, you can append multiple elements to it using the\n",
    "#extend method:\n",
    "\n",
    "list5 = list4.copy()\n",
    "list5.extend([7,8,2,3])\n",
    "list5\n"
   ]
  },
  {
   "cell_type": "code",
   "execution_count": null,
   "id": "3b1f772b",
   "metadata": {},
   "outputs": [],
   "source": []
  }
 ],
 "metadata": {
  "kernelspec": {
   "display_name": "Python 3 (ipykernel)",
   "language": "python",
   "name": "python3"
  },
  "language_info": {
   "codemirror_mode": {
    "name": "ipython",
    "version": 3
   },
   "file_extension": ".py",
   "mimetype": "text/x-python",
   "name": "python",
   "nbconvert_exporter": "python",
   "pygments_lexer": "ipython3",
   "version": "3.9.7"
  }
 },
 "nbformat": 4,
 "nbformat_minor": 5
}
