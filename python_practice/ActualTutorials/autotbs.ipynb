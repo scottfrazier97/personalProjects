{
 "cells": [
  {
   "cell_type": "code",
   "execution_count": 12,
   "metadata": {},
   "outputs": [
    {
     "data": {
      "text/plain": [
       "'AliceAliceAliceAliceAlice'"
      ]
     },
     "execution_count": 12,
     "metadata": {},
     "output_type": "execute_result"
    }
   ],
   "source": [
    "#When using integers, strings, and multiplication like this, it is known as string replication\n",
    "'Alice' * 5"
   ]
  },
  {
   "cell_type": "code",
   "execution_count": 13,
   "metadata": {},
   "outputs": [
    {
     "name": "stdout",
     "output_type": "stream",
     "text": [
      "80\n"
     ]
    }
   ],
   "source": [
    "#Equals sign is known as an assignment operator. Assigning new values to old variables can be useful, but also dangerous.\n",
    "spam = 40\n",
    "eggs = 2\n",
    "spam = spam * eggs\n",
    "print(spam)"
   ]
  },
  {
   "cell_type": "code",
   "execution_count": 14,
   "metadata": {},
   "outputs": [],
   "source": [
    "#Python variable naming conventions: \n",
    "## It can be only one word with no spaces.\n",
    "## It can use only letters, numbers, and the underscore (_) character.\n",
    "## It can’t begin with a number. PYTHON IS CASE SENSITIVE."
   ]
  },
  {
   "cell_type": "code",
   "execution_count": 2,
   "metadata": {},
   "outputs": [
    {
     "name": "stdout",
     "output_type": "stream",
     "text": [
      "Hello, what is your name?\n",
      "How nice it is to meet you Scott\n"
     ]
    }
   ],
   "source": [
    "# inputs do not work well in jupyter notebooks\n",
    "print('Hello, what is your name?')\n",
    "# name = input()\n",
    "name = \"Scott\"\n",
    "print(\"How nice it is to meet you\", name)"
   ]
  },
  {
   "cell_type": "code",
   "execution_count": null,
   "metadata": {},
   "outputs": [
    {
     "name": "stdout",
     "output_type": "stream",
     "text": [
      "69\n",
      "4\n"
     ]
    }
   ],
   "source": [
    "length_test = \"Hello, this is a test to see how many characters are in this variable\"\n",
    "print(len(length_test))\n",
    "print(len(\"ASDF\"))"
   ]
  },
  {
   "cell_type": "code",
   "execution_count": null,
   "metadata": {},
   "outputs": [
    {
     "name": "stdout",
     "output_type": "stream",
     "text": [
      "In the previous cell, we stated that the string had 69 characters in it\n"
     ]
    }
   ],
   "source": [
    "# F-strings (Formatted strings) are a good way to combine variables and strings for displaying output\n",
    "print(f\"In the previous cell, we stated that the string had {len(length_test)} characters in it\")"
   ]
  },
  {
   "cell_type": "code",
   "execution_count": null,
   "metadata": {},
   "outputs": [],
   "source": []
  },
  {
   "cell_type": "markdown",
   "metadata": {},
   "source": [
    "#### The main data types in python are here.\n",
    "Strings - str() - Characters such as letters and words, not integers\n",
    "\n",
    "Integers - int() - Whole numbers\n",
    "\n",
    "Float - float() - Decimal numbers\n",
    "\n",
    "Boolean - bool() True & False\n",
    "\n",
    "We would use the second options above to cast to a different data type in the middle of working with our variables, such as printing them."
   ]
  },
  {
   "cell_type": "code",
   "execution_count": null,
   "metadata": {},
   "outputs": [
    {
     "name": "stdout",
     "output_type": "stream",
     "text": [
      "I have 2 years of experience in coding\n"
     ]
    }
   ],
   "source": [
    " # When doing string concatenation, can't combine string and integer types. Int must be converted to str, or vice versa.\n",
    " \n",
    " print(\"I have \" + 2 + \"years of experience in coding\") # Does NOT work because of mixing data types\n",
    " print(\"I have \" + str(2) + \" years of experience in coding\") # Works because we cast it to a str type\n",
    " print(\"I have \" + \"2\" + \" years of experience in coding\") # Works because it is already in a str type"
   ]
  },
  {
   "cell_type": "code",
   "execution_count": 8,
   "metadata": {},
   "outputs": [
    {
     "name": "stdout",
     "output_type": "stream",
     "text": [
      "False\n",
      "True\n",
      "True\n"
     ]
    }
   ],
   "source": [
    "# Number equivalency using ==\n",
    "print(42 == '42') # False because they are different data types\n",
    "print(42 == 42) # True\n",
    "print(42 == 42.0) # True"
   ]
  },
  {
   "cell_type": "code",
   "execution_count": 11,
   "metadata": {},
   "outputs": [
    {
     "name": "stdout",
     "output_type": "stream",
     "text": [
      "In the year 2100, I will be 103 years old\n"
     ]
    }
   ],
   "source": [
    "# Can use arithmetic operators such as +, -, *, /, etc. with variables if allowed\n",
    "birth_year = 1997\n",
    "next_century = 2100\n",
    "\n",
    "print(f\"In the year {next_century}, I will be {next_century - birth_year} years old\")\n",
    "#Could also do this outside of the print statement by creating variable which does the subtraction on its own, and then \n",
    "#pass that variable into print statement"
   ]
  },
  {
   "cell_type": "markdown",
   "metadata": {},
   "source": [
    "# FLOW CONTROL"
   ]
  },
  {
   "cell_type": "markdown",
   "metadata": {},
   "source": [
    "Boolean operators - and, or, not"
   ]
  },
  {
   "cell_type": "code",
   "execution_count": 12,
   "metadata": {},
   "outputs": [
    {
     "name": "stdout",
     "output_type": "stream",
     "text": [
      "This operation is true\n"
     ]
    }
   ],
   "source": [
    "a = 10\n",
    "b = 20\n",
    "c  = 30\n",
    "\n",
    "if a < b and b < c:\n",
    "    print(\"This operation is true\")\n",
    "else:\n",
    "    print(\"False\")"
   ]
  },
  {
   "cell_type": "code",
   "execution_count": null,
   "metadata": {},
   "outputs": [],
   "source": [
    "# BREAK STATEMENTS\n"
   ]
  },
  {
   "cell_type": "code",
   "execution_count": 24,
   "metadata": {},
   "outputs": [
    {
     "name": "stdout",
     "output_type": "stream",
     "text": [
      "60\n",
      "60\n",
      "60\n",
      "60\n",
      "60\n",
      "60\n",
      "60\n",
      "60\n",
      "60\n",
      "Maximum iterations reached. Counter\n"
     ]
    }
   ],
   "source": [
    "running = True\n",
    "counter = 0\n",
    "while running and counter < 9:\n",
    "    print(a + b + c)\n",
    "    counter += 1\n",
    "    if counter == 9:\n",
    "        print(\"Maximum iterations reached. Counter\")\n",
    "        running = False\n",
    "        #break #: could also use break instead of running = False :#\n"
   ]
  },
  {
   "cell_type": "code",
   "execution_count": null,
   "metadata": {},
   "outputs": [],
   "source": []
  }
 ],
 "metadata": {
  "kernelspec": {
   "display_name": "Python 3.9.7 ('base')",
   "language": "python",
   "name": "python3"
  },
  "language_info": {
   "codemirror_mode": {
    "name": "ipython",
    "version": 3
   },
   "file_extension": ".py",
   "mimetype": "text/x-python",
   "name": "python",
   "nbconvert_exporter": "python",
   "pygments_lexer": "ipython3",
   "version": "3.9.7"
  },
  "orig_nbformat": 4,
  "vscode": {
   "interpreter": {
    "hash": "c4cac4b764aa8e606a312342722b88a16f273f52113cd1e3bf677fdfa27a43e1"
   }
  }
 },
 "nbformat": 4,
 "nbformat_minor": 2
}
