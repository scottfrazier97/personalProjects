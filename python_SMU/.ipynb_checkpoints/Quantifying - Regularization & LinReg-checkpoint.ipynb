{
 "cells": [
  {
   "cell_type": "markdown",
   "id": "4e7b590f",
   "metadata": {},
   "source": []
  },
  {
   "cell_type": "code",
   "execution_count": 10,
   "id": "1c7707e2",
   "metadata": {},
   "outputs": [],
   "source": [
    "import pandas as pd\n",
    "from sklearn.datasets import fetch_california_housing\n",
    "\n",
    "cal_housing = fetch_california_housing()\n",
    "x = pd.DataFrame(cal_housing.data, columns=cal_housing.feature_names)\n",
    "y = pd.DataFrame(cal_housing.target)"
   ]
  },
  {
   "cell_type": "code",
   "execution_count": 11,
   "id": "cd7703bf",
   "metadata": {},
   "outputs": [
    {
     "data": {
      "text/html": [
       "<div>\n",
       "<style scoped>\n",
       "    .dataframe tbody tr th:only-of-type {\n",
       "        vertical-align: middle;\n",
       "    }\n",
       "\n",
       "    .dataframe tbody tr th {\n",
       "        vertical-align: top;\n",
       "    }\n",
       "\n",
       "    .dataframe thead th {\n",
       "        text-align: right;\n",
       "    }\n",
       "</style>\n",
       "<table border=\"1\" class=\"dataframe\">\n",
       "  <thead>\n",
       "    <tr style=\"text-align: right;\">\n",
       "      <th></th>\n",
       "      <th>MedInc</th>\n",
       "      <th>HouseAge</th>\n",
       "      <th>AveRooms</th>\n",
       "      <th>AveBedrms</th>\n",
       "      <th>Population</th>\n",
       "      <th>AveOccup</th>\n",
       "      <th>Latitude</th>\n",
       "      <th>Longitude</th>\n",
       "    </tr>\n",
       "  </thead>\n",
       "  <tbody>\n",
       "    <tr>\n",
       "      <th>0</th>\n",
       "      <td>8.3252</td>\n",
       "      <td>41.0</td>\n",
       "      <td>6.984127</td>\n",
       "      <td>1.023810</td>\n",
       "      <td>322.0</td>\n",
       "      <td>2.555556</td>\n",
       "      <td>37.88</td>\n",
       "      <td>-122.23</td>\n",
       "    </tr>\n",
       "    <tr>\n",
       "      <th>1</th>\n",
       "      <td>8.3014</td>\n",
       "      <td>21.0</td>\n",
       "      <td>6.238137</td>\n",
       "      <td>0.971880</td>\n",
       "      <td>2401.0</td>\n",
       "      <td>2.109842</td>\n",
       "      <td>37.86</td>\n",
       "      <td>-122.22</td>\n",
       "    </tr>\n",
       "    <tr>\n",
       "      <th>2</th>\n",
       "      <td>7.2574</td>\n",
       "      <td>52.0</td>\n",
       "      <td>8.288136</td>\n",
       "      <td>1.073446</td>\n",
       "      <td>496.0</td>\n",
       "      <td>2.802260</td>\n",
       "      <td>37.85</td>\n",
       "      <td>-122.24</td>\n",
       "    </tr>\n",
       "    <tr>\n",
       "      <th>3</th>\n",
       "      <td>5.6431</td>\n",
       "      <td>52.0</td>\n",
       "      <td>5.817352</td>\n",
       "      <td>1.073059</td>\n",
       "      <td>558.0</td>\n",
       "      <td>2.547945</td>\n",
       "      <td>37.85</td>\n",
       "      <td>-122.25</td>\n",
       "    </tr>\n",
       "    <tr>\n",
       "      <th>4</th>\n",
       "      <td>3.8462</td>\n",
       "      <td>52.0</td>\n",
       "      <td>6.281853</td>\n",
       "      <td>1.081081</td>\n",
       "      <td>565.0</td>\n",
       "      <td>2.181467</td>\n",
       "      <td>37.85</td>\n",
       "      <td>-122.25</td>\n",
       "    </tr>\n",
       "  </tbody>\n",
       "</table>\n",
       "</div>"
      ],
      "text/plain": [
       "   MedInc  HouseAge  AveRooms  AveBedrms  Population  AveOccup  Latitude  \\\n",
       "0  8.3252      41.0  6.984127   1.023810       322.0  2.555556     37.88   \n",
       "1  8.3014      21.0  6.238137   0.971880      2401.0  2.109842     37.86   \n",
       "2  7.2574      52.0  8.288136   1.073446       496.0  2.802260     37.85   \n",
       "3  5.6431      52.0  5.817352   1.073059       558.0  2.547945     37.85   \n",
       "4  3.8462      52.0  6.281853   1.081081       565.0  2.181467     37.85   \n",
       "\n",
       "   Longitude  \n",
       "0    -122.23  \n",
       "1    -122.22  \n",
       "2    -122.24  \n",
       "3    -122.25  \n",
       "4    -122.25  "
      ]
     },
     "execution_count": 11,
     "metadata": {},
     "output_type": "execute_result"
    }
   ],
   "source": [
    "x.head()"
   ]
  },
  {
   "cell_type": "code",
   "execution_count": 12,
   "id": "3bbe6d95",
   "metadata": {
    "scrolled": true
   },
   "outputs": [
    {
     "data": {
      "text/html": [
       "<div>\n",
       "<style scoped>\n",
       "    .dataframe tbody tr th:only-of-type {\n",
       "        vertical-align: middle;\n",
       "    }\n",
       "\n",
       "    .dataframe tbody tr th {\n",
       "        vertical-align: top;\n",
       "    }\n",
       "\n",
       "    .dataframe thead th {\n",
       "        text-align: right;\n",
       "    }\n",
       "</style>\n",
       "<table border=\"1\" class=\"dataframe\">\n",
       "  <thead>\n",
       "    <tr style=\"text-align: right;\">\n",
       "      <th></th>\n",
       "      <th>0</th>\n",
       "    </tr>\n",
       "  </thead>\n",
       "  <tbody>\n",
       "    <tr>\n",
       "      <th>0</th>\n",
       "      <td>4.526</td>\n",
       "    </tr>\n",
       "    <tr>\n",
       "      <th>1</th>\n",
       "      <td>3.585</td>\n",
       "    </tr>\n",
       "    <tr>\n",
       "      <th>2</th>\n",
       "      <td>3.521</td>\n",
       "    </tr>\n",
       "    <tr>\n",
       "      <th>3</th>\n",
       "      <td>3.413</td>\n",
       "    </tr>\n",
       "    <tr>\n",
       "      <th>4</th>\n",
       "      <td>3.422</td>\n",
       "    </tr>\n",
       "  </tbody>\n",
       "</table>\n",
       "</div>"
      ],
      "text/plain": [
       "       0\n",
       "0  4.526\n",
       "1  3.585\n",
       "2  3.521\n",
       "3  3.413\n",
       "4  3.422"
      ]
     },
     "execution_count": 12,
     "metadata": {},
     "output_type": "execute_result"
    }
   ],
   "source": [
    "y.head()"
   ]
  },
  {
   "cell_type": "code",
   "execution_count": 3,
   "id": "3353a1a9",
   "metadata": {},
   "outputs": [],
   "source": [
    "from sklearn.linear_model import LinearRegression\n",
    "my_model = LinearRegression()"
   ]
  },
  {
   "cell_type": "code",
   "execution_count": 4,
   "id": "ab558134",
   "metadata": {},
   "outputs": [
    {
     "data": {
      "text/plain": [
       "LinearRegression()"
      ]
     },
     "execution_count": 4,
     "metadata": {},
     "output_type": "execute_result"
    }
   ],
   "source": [
    "my_model.fit(x,y)"
   ]
  },
  {
   "cell_type": "markdown",
   "id": "b18563a2",
   "metadata": {},
   "source": [
    "#### The below cell shows the corresponding values for the coefficients in the DF below - 4.3 corresponds to MedInc, and so on."
   ]
  },
  {
   "cell_type": "code",
   "execution_count": 5,
   "id": "69252fce",
   "metadata": {},
   "outputs": [
    {
     "data": {
      "text/plain": [
       "array([ 4.36693293e-01,  9.43577803e-03, -1.07322041e-01,  6.45065694e-01,\n",
       "       -3.97638942e-06, -3.78654265e-03, -4.21314378e-01, -4.34513755e-01])"
      ]
     },
     "execution_count": 5,
     "metadata": {},
     "output_type": "execute_result"
    }
   ],
   "source": [
    "my_model.coef_"
   ]
  },
  {
   "cell_type": "code",
   "execution_count": 9,
   "id": "2dad2198",
   "metadata": {},
   "outputs": [
    {
     "data": {
      "text/html": [
       "<div>\n",
       "<style scoped>\n",
       "    .dataframe tbody tr th:only-of-type {\n",
       "        vertical-align: middle;\n",
       "    }\n",
       "\n",
       "    .dataframe tbody tr th {\n",
       "        vertical-align: top;\n",
       "    }\n",
       "\n",
       "    .dataframe thead th {\n",
       "        text-align: right;\n",
       "    }\n",
       "</style>\n",
       "<table border=\"1\" class=\"dataframe\">\n",
       "  <thead>\n",
       "    <tr style=\"text-align: right;\">\n",
       "      <th></th>\n",
       "      <th>MedInc</th>\n",
       "      <th>HouseAge</th>\n",
       "      <th>AveRooms</th>\n",
       "      <th>AveBedrms</th>\n",
       "      <th>Population</th>\n",
       "      <th>AveOccup</th>\n",
       "      <th>Latitude</th>\n",
       "      <th>Longitude</th>\n",
       "    </tr>\n",
       "  </thead>\n",
       "  <tbody>\n",
       "    <tr>\n",
       "      <th>0</th>\n",
       "      <td>8.3252</td>\n",
       "      <td>41.0</td>\n",
       "      <td>6.984127</td>\n",
       "      <td>1.023810</td>\n",
       "      <td>322.0</td>\n",
       "      <td>2.555556</td>\n",
       "      <td>37.88</td>\n",
       "      <td>-122.23</td>\n",
       "    </tr>\n",
       "    <tr>\n",
       "      <th>1</th>\n",
       "      <td>8.3014</td>\n",
       "      <td>21.0</td>\n",
       "      <td>6.238137</td>\n",
       "      <td>0.971880</td>\n",
       "      <td>2401.0</td>\n",
       "      <td>2.109842</td>\n",
       "      <td>37.86</td>\n",
       "      <td>-122.22</td>\n",
       "    </tr>\n",
       "    <tr>\n",
       "      <th>2</th>\n",
       "      <td>7.2574</td>\n",
       "      <td>52.0</td>\n",
       "      <td>8.288136</td>\n",
       "      <td>1.073446</td>\n",
       "      <td>496.0</td>\n",
       "      <td>2.802260</td>\n",
       "      <td>37.85</td>\n",
       "      <td>-122.24</td>\n",
       "    </tr>\n",
       "    <tr>\n",
       "      <th>3</th>\n",
       "      <td>5.6431</td>\n",
       "      <td>52.0</td>\n",
       "      <td>5.817352</td>\n",
       "      <td>1.073059</td>\n",
       "      <td>558.0</td>\n",
       "      <td>2.547945</td>\n",
       "      <td>37.85</td>\n",
       "      <td>-122.25</td>\n",
       "    </tr>\n",
       "    <tr>\n",
       "      <th>4</th>\n",
       "      <td>3.8462</td>\n",
       "      <td>52.0</td>\n",
       "      <td>6.281853</td>\n",
       "      <td>1.081081</td>\n",
       "      <td>565.0</td>\n",
       "      <td>2.181467</td>\n",
       "      <td>37.85</td>\n",
       "      <td>-122.25</td>\n",
       "    </tr>\n",
       "    <tr>\n",
       "      <th>...</th>\n",
       "      <td>...</td>\n",
       "      <td>...</td>\n",
       "      <td>...</td>\n",
       "      <td>...</td>\n",
       "      <td>...</td>\n",
       "      <td>...</td>\n",
       "      <td>...</td>\n",
       "      <td>...</td>\n",
       "    </tr>\n",
       "    <tr>\n",
       "      <th>20635</th>\n",
       "      <td>1.5603</td>\n",
       "      <td>25.0</td>\n",
       "      <td>5.045455</td>\n",
       "      <td>1.133333</td>\n",
       "      <td>845.0</td>\n",
       "      <td>2.560606</td>\n",
       "      <td>39.48</td>\n",
       "      <td>-121.09</td>\n",
       "    </tr>\n",
       "    <tr>\n",
       "      <th>20636</th>\n",
       "      <td>2.5568</td>\n",
       "      <td>18.0</td>\n",
       "      <td>6.114035</td>\n",
       "      <td>1.315789</td>\n",
       "      <td>356.0</td>\n",
       "      <td>3.122807</td>\n",
       "      <td>39.49</td>\n",
       "      <td>-121.21</td>\n",
       "    </tr>\n",
       "    <tr>\n",
       "      <th>20637</th>\n",
       "      <td>1.7000</td>\n",
       "      <td>17.0</td>\n",
       "      <td>5.205543</td>\n",
       "      <td>1.120092</td>\n",
       "      <td>1007.0</td>\n",
       "      <td>2.325635</td>\n",
       "      <td>39.43</td>\n",
       "      <td>-121.22</td>\n",
       "    </tr>\n",
       "    <tr>\n",
       "      <th>20638</th>\n",
       "      <td>1.8672</td>\n",
       "      <td>18.0</td>\n",
       "      <td>5.329513</td>\n",
       "      <td>1.171920</td>\n",
       "      <td>741.0</td>\n",
       "      <td>2.123209</td>\n",
       "      <td>39.43</td>\n",
       "      <td>-121.32</td>\n",
       "    </tr>\n",
       "    <tr>\n",
       "      <th>20639</th>\n",
       "      <td>2.3886</td>\n",
       "      <td>16.0</td>\n",
       "      <td>5.254717</td>\n",
       "      <td>1.162264</td>\n",
       "      <td>1387.0</td>\n",
       "      <td>2.616981</td>\n",
       "      <td>39.37</td>\n",
       "      <td>-121.24</td>\n",
       "    </tr>\n",
       "  </tbody>\n",
       "</table>\n",
       "<p>20640 rows × 8 columns</p>\n",
       "</div>"
      ],
      "text/plain": [
       "       MedInc  HouseAge  AveRooms  AveBedrms  Population  AveOccup  Latitude  \\\n",
       "0      8.3252      41.0  6.984127   1.023810       322.0  2.555556     37.88   \n",
       "1      8.3014      21.0  6.238137   0.971880      2401.0  2.109842     37.86   \n",
       "2      7.2574      52.0  8.288136   1.073446       496.0  2.802260     37.85   \n",
       "3      5.6431      52.0  5.817352   1.073059       558.0  2.547945     37.85   \n",
       "4      3.8462      52.0  6.281853   1.081081       565.0  2.181467     37.85   \n",
       "...       ...       ...       ...        ...         ...       ...       ...   \n",
       "20635  1.5603      25.0  5.045455   1.133333       845.0  2.560606     39.48   \n",
       "20636  2.5568      18.0  6.114035   1.315789       356.0  3.122807     39.49   \n",
       "20637  1.7000      17.0  5.205543   1.120092      1007.0  2.325635     39.43   \n",
       "20638  1.8672      18.0  5.329513   1.171920       741.0  2.123209     39.43   \n",
       "20639  2.3886      16.0  5.254717   1.162264      1387.0  2.616981     39.37   \n",
       "\n",
       "       Longitude  \n",
       "0        -122.23  \n",
       "1        -122.22  \n",
       "2        -122.24  \n",
       "3        -122.25  \n",
       "4        -122.25  \n",
       "...          ...  \n",
       "20635    -121.09  \n",
       "20636    -121.21  \n",
       "20637    -121.22  \n",
       "20638    -121.32  \n",
       "20639    -121.24  \n",
       "\n",
       "[20640 rows x 8 columns]"
      ]
     },
     "execution_count": 9,
     "metadata": {},
     "output_type": "execute_result"
    }
   ],
   "source": [
    "x"
   ]
  },
  {
   "cell_type": "markdown",
   "id": "88b94033",
   "metadata": {},
   "source": [
    "#### calculate all the means and variances of each column. And then we're going to apply them to that original data frame."
   ]
  },
  {
   "cell_type": "code",
   "execution_count": 10,
   "id": "28815a68",
   "metadata": {},
   "outputs": [],
   "source": [
    "from sklearn.preprocessing import StandardScaler\n",
    "scaler = StandardScaler()\n",
    "x_scaled = scaler.fit_transform(x)"
   ]
  },
  {
   "cell_type": "code",
   "execution_count": 11,
   "id": "763092b4",
   "metadata": {
    "scrolled": false
   },
   "outputs": [
    {
     "data": {
      "text/plain": [
       "array([[ 2.34476576,  0.98214266,  0.62855945, ..., -0.04959654,\n",
       "         1.05254828, -1.32783522],\n",
       "       [ 2.33223796, -0.60701891,  0.32704136, ..., -0.09251223,\n",
       "         1.04318455, -1.32284391],\n",
       "       [ 1.7826994 ,  1.85618152,  1.15562047, ..., -0.02584253,\n",
       "         1.03850269, -1.33282653],\n",
       "       ...,\n",
       "       [-1.14259331, -0.92485123, -0.09031802, ..., -0.0717345 ,\n",
       "         1.77823747, -0.8237132 ],\n",
       "       [-1.05458292, -0.84539315, -0.04021111, ..., -0.09122515,\n",
       "         1.77823747, -0.87362627],\n",
       "       [-0.78012947, -1.00430931, -0.07044252, ..., -0.04368215,\n",
       "         1.75014627, -0.83369581]])"
      ]
     },
     "execution_count": 11,
     "metadata": {},
     "output_type": "execute_result"
    }
   ],
   "source": [
    "x_scaled"
   ]
  },
  {
   "cell_type": "markdown",
   "id": "2b2cd9b9",
   "metadata": {},
   "source": [
    "#### Adding names back to the array which was above, just for visuals sake"
   ]
  },
  {
   "cell_type": "code",
   "execution_count": 13,
   "id": "5ec1ded2",
   "metadata": {},
   "outputs": [
    {
     "data": {
      "text/html": [
       "<div>\n",
       "<style scoped>\n",
       "    .dataframe tbody tr th:only-of-type {\n",
       "        vertical-align: middle;\n",
       "    }\n",
       "\n",
       "    .dataframe tbody tr th {\n",
       "        vertical-align: top;\n",
       "    }\n",
       "\n",
       "    .dataframe thead th {\n",
       "        text-align: right;\n",
       "    }\n",
       "</style>\n",
       "<table border=\"1\" class=\"dataframe\">\n",
       "  <thead>\n",
       "    <tr style=\"text-align: right;\">\n",
       "      <th></th>\n",
       "      <th>MedInc</th>\n",
       "      <th>HouseAge</th>\n",
       "      <th>AveRooms</th>\n",
       "      <th>AveBedrms</th>\n",
       "      <th>Population</th>\n",
       "      <th>AveOccup</th>\n",
       "      <th>Latitude</th>\n",
       "      <th>Longitude</th>\n",
       "    </tr>\n",
       "  </thead>\n",
       "  <tbody>\n",
       "    <tr>\n",
       "      <th>0</th>\n",
       "      <td>2.344766</td>\n",
       "      <td>0.982143</td>\n",
       "      <td>0.628559</td>\n",
       "      <td>-0.153758</td>\n",
       "      <td>-0.974429</td>\n",
       "      <td>-0.049597</td>\n",
       "      <td>1.052548</td>\n",
       "      <td>-1.327835</td>\n",
       "    </tr>\n",
       "    <tr>\n",
       "      <th>1</th>\n",
       "      <td>2.332238</td>\n",
       "      <td>-0.607019</td>\n",
       "      <td>0.327041</td>\n",
       "      <td>-0.263336</td>\n",
       "      <td>0.861439</td>\n",
       "      <td>-0.092512</td>\n",
       "      <td>1.043185</td>\n",
       "      <td>-1.322844</td>\n",
       "    </tr>\n",
       "    <tr>\n",
       "      <th>2</th>\n",
       "      <td>1.782699</td>\n",
       "      <td>1.856182</td>\n",
       "      <td>1.155620</td>\n",
       "      <td>-0.049016</td>\n",
       "      <td>-0.820777</td>\n",
       "      <td>-0.025843</td>\n",
       "      <td>1.038503</td>\n",
       "      <td>-1.332827</td>\n",
       "    </tr>\n",
       "    <tr>\n",
       "      <th>3</th>\n",
       "      <td>0.932968</td>\n",
       "      <td>1.856182</td>\n",
       "      <td>0.156966</td>\n",
       "      <td>-0.049833</td>\n",
       "      <td>-0.766028</td>\n",
       "      <td>-0.050329</td>\n",
       "      <td>1.038503</td>\n",
       "      <td>-1.337818</td>\n",
       "    </tr>\n",
       "    <tr>\n",
       "      <th>4</th>\n",
       "      <td>-0.012881</td>\n",
       "      <td>1.856182</td>\n",
       "      <td>0.344711</td>\n",
       "      <td>-0.032906</td>\n",
       "      <td>-0.759847</td>\n",
       "      <td>-0.085616</td>\n",
       "      <td>1.038503</td>\n",
       "      <td>-1.337818</td>\n",
       "    </tr>\n",
       "    <tr>\n",
       "      <th>...</th>\n",
       "      <td>...</td>\n",
       "      <td>...</td>\n",
       "      <td>...</td>\n",
       "      <td>...</td>\n",
       "      <td>...</td>\n",
       "      <td>...</td>\n",
       "      <td>...</td>\n",
       "      <td>...</td>\n",
       "    </tr>\n",
       "    <tr>\n",
       "      <th>20635</th>\n",
       "      <td>-1.216128</td>\n",
       "      <td>-0.289187</td>\n",
       "      <td>-0.155023</td>\n",
       "      <td>0.077354</td>\n",
       "      <td>-0.512592</td>\n",
       "      <td>-0.049110</td>\n",
       "      <td>1.801647</td>\n",
       "      <td>-0.758826</td>\n",
       "    </tr>\n",
       "    <tr>\n",
       "      <th>20636</th>\n",
       "      <td>-0.691593</td>\n",
       "      <td>-0.845393</td>\n",
       "      <td>0.276881</td>\n",
       "      <td>0.462365</td>\n",
       "      <td>-0.944405</td>\n",
       "      <td>0.005021</td>\n",
       "      <td>1.806329</td>\n",
       "      <td>-0.818722</td>\n",
       "    </tr>\n",
       "    <tr>\n",
       "      <th>20637</th>\n",
       "      <td>-1.142593</td>\n",
       "      <td>-0.924851</td>\n",
       "      <td>-0.090318</td>\n",
       "      <td>0.049414</td>\n",
       "      <td>-0.369537</td>\n",
       "      <td>-0.071735</td>\n",
       "      <td>1.778237</td>\n",
       "      <td>-0.823713</td>\n",
       "    </tr>\n",
       "    <tr>\n",
       "      <th>20638</th>\n",
       "      <td>-1.054583</td>\n",
       "      <td>-0.845393</td>\n",
       "      <td>-0.040211</td>\n",
       "      <td>0.158778</td>\n",
       "      <td>-0.604429</td>\n",
       "      <td>-0.091225</td>\n",
       "      <td>1.778237</td>\n",
       "      <td>-0.873626</td>\n",
       "    </tr>\n",
       "    <tr>\n",
       "      <th>20639</th>\n",
       "      <td>-0.780129</td>\n",
       "      <td>-1.004309</td>\n",
       "      <td>-0.070443</td>\n",
       "      <td>0.138403</td>\n",
       "      <td>-0.033977</td>\n",
       "      <td>-0.043682</td>\n",
       "      <td>1.750146</td>\n",
       "      <td>-0.833696</td>\n",
       "    </tr>\n",
       "  </tbody>\n",
       "</table>\n",
       "<p>20640 rows × 8 columns</p>\n",
       "</div>"
      ],
      "text/plain": [
       "         MedInc  HouseAge  AveRooms  AveBedrms  Population  AveOccup  \\\n",
       "0      2.344766  0.982143  0.628559  -0.153758   -0.974429 -0.049597   \n",
       "1      2.332238 -0.607019  0.327041  -0.263336    0.861439 -0.092512   \n",
       "2      1.782699  1.856182  1.155620  -0.049016   -0.820777 -0.025843   \n",
       "3      0.932968  1.856182  0.156966  -0.049833   -0.766028 -0.050329   \n",
       "4     -0.012881  1.856182  0.344711  -0.032906   -0.759847 -0.085616   \n",
       "...         ...       ...       ...        ...         ...       ...   \n",
       "20635 -1.216128 -0.289187 -0.155023   0.077354   -0.512592 -0.049110   \n",
       "20636 -0.691593 -0.845393  0.276881   0.462365   -0.944405  0.005021   \n",
       "20637 -1.142593 -0.924851 -0.090318   0.049414   -0.369537 -0.071735   \n",
       "20638 -1.054583 -0.845393 -0.040211   0.158778   -0.604429 -0.091225   \n",
       "20639 -0.780129 -1.004309 -0.070443   0.138403   -0.033977 -0.043682   \n",
       "\n",
       "       Latitude  Longitude  \n",
       "0      1.052548  -1.327835  \n",
       "1      1.043185  -1.322844  \n",
       "2      1.038503  -1.332827  \n",
       "3      1.038503  -1.337818  \n",
       "4      1.038503  -1.337818  \n",
       "...         ...        ...  \n",
       "20635  1.801647  -0.758826  \n",
       "20636  1.806329  -0.818722  \n",
       "20637  1.778237  -0.823713  \n",
       "20638  1.778237  -0.873626  \n",
       "20639  1.750146  -0.833696  \n",
       "\n",
       "[20640 rows x 8 columns]"
      ]
     },
     "execution_count": 13,
     "metadata": {},
     "output_type": "execute_result"
    }
   ],
   "source": [
    "x_scaled = pd.DataFrame(data=x_scaled, columns=cal_housing.feature_names)\n",
    "x_scaled"
   ]
  },
  {
   "cell_type": "markdown",
   "id": "b158bee8",
   "metadata": {},
   "source": [
    "#### create a new model so that we can keep the results of the old model. So we'll just call it the model or scaled model."
   ]
  },
  {
   "cell_type": "code",
   "execution_count": 15,
   "id": "16ee04f8",
   "metadata": {},
   "outputs": [
    {
     "data": {
      "text/plain": [
       "LinearRegression()"
      ]
     },
     "execution_count": 15,
     "metadata": {},
     "output_type": "execute_result"
    }
   ],
   "source": [
    "scaled_model = LinearRegression()\n",
    "scaled_model.fit(x_scaled, y)"
   ]
  },
  {
   "cell_type": "markdown",
   "id": "43272b5f",
   "metadata": {},
   "source": [
    "#### Variable importances below, for example: We see a big drop in importance from the original values whereas the fifth variable dropped from 0.6 to 0.004."
   ]
  },
  {
   "cell_type": "code",
   "execution_count": 16,
   "id": "81ae34a9",
   "metadata": {},
   "outputs": [
    {
     "data": {
      "text/plain": [
       "array([ 0.8296193 ,  0.11875165, -0.26552688,  0.30569623, -0.004503  ,\n",
       "       -0.03932627, -0.89988565, -0.870541  ])"
      ]
     },
     "execution_count": 16,
     "metadata": {},
     "output_type": "execute_result"
    }
   ],
   "source": [
    "scaled_model.coef_"
   ]
  },
  {
   "cell_type": "markdown",
   "id": "f283ed56",
   "metadata": {},
   "source": [
    "#### Variable importances listed below. AvgRooms is suppressing the price of the house, AvgBedRooms is increasing the price of the house. Population column is close to zero and has next to no impact."
   ]
  },
  {
   "cell_type": "code",
   "execution_count": 18,
   "id": "d0522179",
   "metadata": {},
   "outputs": [
    {
     "name": "stdout",
     "output_type": "stream",
     "text": [
      "MedInc: 0.8296193042804504\n",
      "HouseAge: 0.11875165121214162\n",
      "AveRooms: -0.26552687950662046\n",
      "AveBedrms: 0.30569622980430894\n",
      "Population: -0.004503001312614049\n",
      "AveOccup: -0.03932626697814864\n",
      "Latitude: -0.8998856544145073\n",
      "Longitude: -0.8705410023357312\n"
     ]
    }
   ],
   "source": [
    "for i in range(len(x_scaled.columns)):\n",
    "    print(f\"{x_scaled.columns[i]}: {scaled_model.coef_[i]}\")"
   ]
  },
  {
   "cell_type": "markdown",
   "id": "3ee99afb",
   "metadata": {},
   "source": [
    "# REGULARIZATION - preventing overfitting using L1"
   ]
  },
  {
   "cell_type": "code",
   "execution_count": 19,
   "id": "47bb33e3",
   "metadata": {},
   "outputs": [],
   "source": [
    "from sklearn.linear_model import Lasso\n",
    "l1_model = Lasso(alpha=1)"
   ]
  },
  {
   "cell_type": "code",
   "execution_count": 20,
   "id": "3257d3a9",
   "metadata": {},
   "outputs": [
    {
     "data": {
      "text/plain": [
       "Lasso(alpha=1)"
      ]
     },
     "execution_count": 20,
     "metadata": {},
     "output_type": "execute_result"
    }
   ],
   "source": [
    "l1_model.fit(x_scaled,y)"
   ]
  },
  {
   "cell_type": "markdown",
   "id": "ea4a84de",
   "metadata": {},
   "source": [
    "#### Seeing as all of our coefficients are 0, we have underfit this model quite severly. The penalty was so large that it did not allow the model to actually fit. \n",
    "\n",
    "#### The next step is to find a different value of alpha. Alpha is a multiple of the penalty, so decreasing alpha will decrease the strength."
   ]
  },
  {
   "cell_type": "code",
   "execution_count": 21,
   "id": "8afecd58",
   "metadata": {},
   "outputs": [
    {
     "data": {
      "text/plain": [
       "array([ 0.,  0.,  0., -0., -0., -0., -0., -0.])"
      ]
     },
     "execution_count": 21,
     "metadata": {},
     "output_type": "execute_result"
    }
   ],
   "source": [
    "l1_model.coef_"
   ]
  },
  {
   "cell_type": "code",
   "execution_count": 26,
   "id": "b4f2b293",
   "metadata": {},
   "outputs": [
    {
     "data": {
      "text/plain": [
       "0.1"
      ]
     },
     "execution_count": 26,
     "metadata": {},
     "output_type": "execute_result"
    }
   ],
   "source": [
    "l1_model.aplha=0.1\n",
    "l1_model.aplha"
   ]
  },
  {
   "cell_type": "markdown",
   "id": "755d8b47",
   "metadata": {},
   "source": [
    "#### As we decrease alpha in the loop, we should expect the coefficients to grow to nearly the same values as our original linear model.\n",
    "\n",
    "#### L1 is displaying the behavior claimed that weak interactions are suppressed, while the strongest interactions are allowed to grow. Now, you'll see that the strong interactions are still not allowed to grow to their full strength. Their largest values are still when alpha is the smallest, and in fact, we could compare with how this happens that alpha equals 0"
   ]
  },
  {
   "cell_type": "code",
   "execution_count": 28,
   "id": "e723b127",
   "metadata": {},
   "outputs": [
    {
     "name": "stdout",
     "output_type": "stream",
     "text": [
      "1 [ 0.  0.  0. -0. -0. -0. -0. -0.]\n",
      "0.1 [ 0.70571337  0.10601099 -0.         -0.         -0.         -0.\n",
      " -0.01121267 -0.        ]\n",
      "0.01 [ 0.77722333  0.12486709 -0.12940585  0.16912537 -0.         -0.02944551\n",
      " -0.79543737 -0.75899738]\n",
      "0.001 [ 0.8244684   0.11967446 -0.25193711  0.29211349 -0.00315059 -0.03840844\n",
      " -0.88903624 -0.85906895]\n",
      "0.0001 [ 0.82910679  0.11884435 -0.26417261  0.30434164 -0.00436762 -0.03923458\n",
      " -0.89879503 -0.86938865]\n"
     ]
    }
   ],
   "source": [
    "alpha = 1\n",
    "for i in range(5):\n",
    "    l1_model.alpha=alpha\n",
    "    l1_model.fit(x_scaled,y)\n",
    "    print(alpha, l1_model.coef_)\n",
    "    alpha= alpha/10"
   ]
  },
  {
   "cell_type": "markdown",
   "id": "8d9aa023",
   "metadata": {},
   "source": [
    "#### The largest values are when alpha was it's smallest, and we can compare how this happens that alpha equals 0. We are still using linear regression, and adding in alphas to the first array below, the second array shows the original coefs. The values between the two line up pretty close."
   ]
  },
  {
   "cell_type": "code",
   "execution_count": 29,
   "id": "90912e63",
   "metadata": {},
   "outputs": [
    {
     "name": "stdout",
     "output_type": "stream",
     "text": [
      "1e-05 [ 0.8296193   0.11875165 -0.26552688  0.30569623 -0.004503   -0.03932627\n",
      " -0.89988565 -0.870541  ]\n"
     ]
    },
    {
     "name": "stderr",
     "output_type": "stream",
     "text": [
      "C:\\Users\\troyf\\AppData\\Local\\Temp/ipykernel_7028/681695498.py:2: UserWarning: With alpha=0, this algorithm does not converge well. You are advised to use the LinearRegression estimator\n",
      "  l1_model.fit(x_scaled,y)\n",
      "C:\\Users\\troyf\\anaconda3\\lib\\site-packages\\sklearn\\linear_model\\_coordinate_descent.py:530: UserWarning: Coordinate descent with no regularization may lead to unexpected results and is discouraged.\n",
      "  model = cd_fast.enet_coordinate_descent(\n",
      "C:\\Users\\troyf\\anaconda3\\lib\\site-packages\\sklearn\\linear_model\\_coordinate_descent.py:530: ConvergenceWarning: Objective did not converge. You might want to increase the number of iterations. Duality gap: 5410.99257742515, tolerance: 2.7483198193688505\n",
      "  model = cd_fast.enet_coordinate_descent(\n"
     ]
    }
   ],
   "source": [
    "l1_model.alpha = 0\n",
    "l1_model.fit(x_scaled,y)\n",
    "print(alpha, l1_model.coef_)"
   ]
  },
  {
   "cell_type": "code",
   "execution_count": 30,
   "id": "270020e7",
   "metadata": {},
   "outputs": [
    {
     "data": {
      "text/plain": [
       "array([ 0.8296193 ,  0.11875165, -0.26552688,  0.30569623, -0.004503  ,\n",
       "       -0.03932627, -0.89988565, -0.870541  ])"
      ]
     },
     "execution_count": 30,
     "metadata": {},
     "output_type": "execute_result"
    }
   ],
   "source": [
    "scaled_model.coef_"
   ]
  },
  {
   "cell_type": "markdown",
   "id": "c8ff36d5",
   "metadata": {},
   "source": [
    "#### How to determine what is our best fit? To do that, we are going to need to use a loss - get unbiased estimate by using cross validation. "
   ]
  },
  {
   "cell_type": "code",
   "execution_count": 36,
   "id": "d86ba44d",
   "metadata": {
    "scrolled": true
   },
   "outputs": [
    {
     "data": {
      "text/plain": [
       "array([0.54866323, 0.46820691, 0.55078434, 0.53698703, 0.66051406])"
      ]
     },
     "execution_count": 36,
     "metadata": {},
     "output_type": "execute_result"
    }
   ],
   "source": [
    "from sklearn.model_selection import cross_val_score\n",
    "cross_val_score(scaled_model, x_scaled, y)"
   ]
  },
  {
   "cell_type": "markdown",
   "id": "3debebfb",
   "metadata": {},
   "source": [
    "#### Using the same loop from above, but instead we are now using our cross val score as opposed to just the alpha. When using a loss, we want the lowest score possible, like golf. The first line outputted is negative, which is not good when working with a loss. It means that something is wrong.\n",
    "\n",
    "#### Another key feature is you'll notice these scores vary quite a bit.\n",
    "\n",
    "#### This could be a sign that our data set is not being adequately shuffled. Then there might be some order present in our data set. Although it's not entirely unheard of to see variation from run to run. What you want to see is the actual mean or average of these runs, but it's pretty clear that this one's the smallest, so we would start with our alpha of 0.1"
   ]
  },
  {
   "cell_type": "code",
   "execution_count": 38,
   "id": "74be4895",
   "metadata": {},
   "outputs": [
    {
     "name": "stdout",
     "output_type": "stream",
     "text": [
      "1 [-0.21613668 -0.02423671 -0.09329273 -0.07285357 -0.0393445 ]\n",
      "----------\n",
      "0.1 [0.45536374 0.4023948  0.47036257 0.30458657 0.52233135]\n",
      "----------\n",
      "0.01 [0.56682644 0.45494291 0.55254378 0.50602901 0.66847995]\n",
      "----------\n",
      "0.001 [0.55132766 0.46710065 0.55132522 0.53439773 0.66213492]\n",
      "----------\n",
      "0.0001 [0.54893833 0.46809859 0.55084209 0.53673338 0.66068491]\n",
      "----------\n"
     ]
    }
   ],
   "source": [
    "alpha = 1\n",
    "for i in range(5):\n",
    "    l1_model.alpha=alpha\n",
    "    print(alpha, cross_val_score(l1_model, x_scaled, y))\n",
    "    print(\"-\" * 10)\n",
    "    alpha= alpha/10"
   ]
  },
  {
   "cell_type": "markdown",
   "id": "1f5b370d",
   "metadata": {},
   "source": [
    "# REGULARIZATIN - L2 Ridge"
   ]
  },
  {
   "cell_type": "markdown",
   "id": "9f9ba8f2",
   "metadata": {},
   "source": [
    "#### We are again using alpha, as according to the documentation on sklearn. Alpha is a substitute term for what we would call lambda. "
   ]
  },
  {
   "cell_type": "code",
   "execution_count": 40,
   "id": "cf66f94b",
   "metadata": {},
   "outputs": [
    {
     "data": {
      "text/plain": [
       "Ridge(alpha=1)"
      ]
     },
     "execution_count": 40,
     "metadata": {},
     "output_type": "execute_result"
    }
   ],
   "source": [
    "from sklearn.linear_model import Ridge\n",
    "l2_model = Ridge(alpha=1)\n",
    "l2_model.fit(x_scaled,y)"
   ]
  },
  {
   "cell_type": "code",
   "execution_count": 41,
   "id": "fd92d8b2",
   "metadata": {},
   "outputs": [
    {
     "data": {
      "text/plain": [
       "0.6062326414700456"
      ]
     },
     "execution_count": 41,
     "metadata": {},
     "output_type": "execute_result"
    }
   ],
   "source": [
    "l2_model.score(x_scaled,y)"
   ]
  },
  {
   "cell_type": "markdown",
   "id": "b4ae0fb7",
   "metadata": {},
   "source": [
    "#### Looking at the variable importances below, we can see they're non-zero which means they are not terribly suppressed. We may need to look in both directions this time, we will start with low value of alpha and go high."
   ]
  },
  {
   "cell_type": "code",
   "execution_count": 42,
   "id": "9b751ea9",
   "metadata": {},
   "outputs": [
    {
     "data": {
      "text/plain": [
       "array([ 0.82959256,  0.11881684, -0.26539682,  0.30552458, -0.00448006,\n",
       "       -0.03932976, -0.89926646, -0.86991606])"
      ]
     },
     "execution_count": 42,
     "metadata": {},
     "output_type": "execute_result"
    }
   ],
   "source": [
    "l2_model.coef_"
   ]
  },
  {
   "cell_type": "markdown",
   "id": "aa9c5f6d",
   "metadata": {},
   "source": [
    "#### Looking at the outputs below, we see a minimal change from the numbers above, but now we have a starting point and can increase our alpha in a loop to see how it changes the results."
   ]
  },
  {
   "cell_type": "code",
   "execution_count": 43,
   "id": "0708b178",
   "metadata": {},
   "outputs": [
    {
     "data": {
      "text/plain": [
       "array([ 0.8296193 ,  0.11875165, -0.26552688,  0.30569623, -0.004503  ,\n",
       "       -0.03932627, -0.89988565, -0.870541  ])"
      ]
     },
     "execution_count": 43,
     "metadata": {},
     "output_type": "execute_result"
    }
   ],
   "source": [
    "l2_model = Ridge(alpha=1E-5)\n",
    "l2_model.fit(x_scaled,y)\n",
    "l2_model.coef_"
   ]
  },
  {
   "cell_type": "markdown",
   "id": "6f5598f6",
   "metadata": {},
   "source": [
    "#### As we go through, we see that as alpha is being increased, the coefficients start to decrease. In other words, alpha is starting to suppress the growth of the coefficients. The first one, which we're fairly familiar with has a fairly strong variable importance. And by the time we get to the end, you can see it's almost, magnitude is cut in half\n",
    "\n",
    "#### But you'll notice, none of these coefficients have yet been zeroed out. And this, of course, is that difference between L1 and L2 regularization. In that L1 causes certain weak interactions to become zero. You'll notice this weak interaction, while still being suppressed, has not been fully suppressed. And it's still non-zero. It's small, but still there. So L2 tends to keep all your variables, while of course, L1 will suppress certain variables."
   ]
  },
  {
   "cell_type": "code",
   "execution_count": 46,
   "id": "5e2e4420",
   "metadata": {},
   "outputs": [
    {
     "name": "stdout",
     "output_type": "stream",
     "text": [
      "1e-05 [ 0.8296193   0.11875165 -0.26552688  0.30569623 -0.004503   -0.03932627\n",
      " -0.89988565 -0.870541  ]\n",
      "----------\n",
      "0.0001 [ 0.8296193   0.11875166 -0.26552687  0.30569621 -0.004503   -0.03932627\n",
      " -0.89988559 -0.87054094]\n",
      "----------\n",
      "0.001 [ 0.82961928  0.11875172 -0.26552675  0.30569606 -0.00450298 -0.03932627\n",
      " -0.89988503 -0.87054038]\n",
      "----------\n",
      "0.01 [ 0.82961904  0.1187523  -0.26552558  0.30569451 -0.00450277 -0.0393263\n",
      " -0.89987946 -0.87053475]\n",
      "----------\n",
      "0.1 [ 0.82961664  0.11875818 -0.26551388  0.30567906 -0.00450071 -0.03932662\n",
      " -0.89982369 -0.87047846]\n",
      "----------\n",
      "1.0 [ 0.82959256  0.11881684 -0.26539682  0.30552458 -0.00448006 -0.03932976\n",
      " -0.89926646 -0.86991606]\n",
      "----------\n",
      "10.0 [ 0.8293461   0.11939823 -0.26422311  0.30398067 -0.00427544 -0.03936068\n",
      " -0.8937389  -0.86433656]\n",
      "----------\n",
      "100.0 [ 0.82639107  0.12472471 -0.25228369  0.28870558 -0.00239758 -0.03961935\n",
      " -0.84257736 -0.8126335 ]\n",
      "----------\n",
      "1000.0 [ 0.78246743  0.15068383 -0.15023828  0.17109626  0.00686803 -0.03970001\n",
      " -0.55289135 -0.51801317]\n",
      "----------\n",
      "10000.0 [ 0.52632452  0.11975532  0.03494657 -0.01933297  0.00138676 -0.02573968\n",
      " -0.1619308  -0.12171367]\n",
      "----------\n"
     ]
    }
   ],
   "source": [
    "alpha = 1E-5\n",
    "for i in range(10):\n",
    "    l2_model.alpha=alpha\n",
    "    l2_model.fit(x_scaled,y)\n",
    "    print(alpha, l2_model.coef_)\n",
    "    print(\"-\" * 10)\n",
    "    alpha = alpha * 10"
   ]
  },
  {
   "cell_type": "markdown",
   "id": "a0b0c737",
   "metadata": {},
   "source": [
    "#### Now we still don't know, of course, which one's the best fit because we haven't done our scoring, so let's do that now. \n",
    "\n",
    "#### So we see that we're actually getting a slightly better score as we've increased alpha. So when I say increased, our loss is starting to decrease. So that means that we actually have a little bit of work to do to tune the strength up even larger.\n",
    "\n",
    "#### Now, for general overfitting or preventing overfitting, we like to use L2. So in this case, we'd probably be using the ridge regression to find out our best fit"
   ]
  },
  {
   "cell_type": "code",
   "execution_count": 49,
   "id": "6dbdcbb1",
   "metadata": {},
   "outputs": [
    {
     "name": "stdout",
     "output_type": "stream",
     "text": [
      "1e-05 [0.54866323 0.46820691 0.55078434 0.53698703 0.66051406]\n",
      "----------\n",
      "0.0001 [0.54866324 0.46820691 0.55078434 0.53698702 0.66051406]\n",
      "----------\n",
      "0.001 [0.54866334 0.46820689 0.55078436 0.53698696 0.66051407]\n",
      "----------\n",
      "0.01 [0.54866426 0.46820668 0.55078452 0.53698632 0.66051415]\n",
      "----------\n",
      "0.1 [0.54867348 0.46820467 0.55078609 0.53697995 0.66051499]\n",
      "----------\n",
      "1.0 [0.54876544 0.4681845  0.55080175 0.53691622 0.66052317]\n",
      "----------\n",
      "10.0 [0.54966271 0.46798279 0.55095161 0.53627682 0.66058868]\n",
      "----------\n",
      "100.0 [0.55669091 0.46597036 0.55186109 0.52974249 0.65993628]\n",
      "----------\n",
      "1000.0 [0.55440687 0.44998446 0.53991768 0.47189205 0.62504649]\n",
      "----------\n",
      "10000.0 [0.37180782 0.38729253 0.40830662 0.2927889  0.45139779]\n",
      "----------\n"
     ]
    }
   ],
   "source": [
    "alpha = 1E-5\n",
    "for i in range(10):\n",
    "    l2_model.alpha=alpha\n",
    "    print(alpha, cross_val_score(l2_model,x_scaled,y))\n",
    "    print(\"-\" * 10)\n",
    "    alpha = alpha * 10"
   ]
  },
  {
   "cell_type": "code",
   "execution_count": null,
   "id": "42224854",
   "metadata": {},
   "outputs": [],
   "source": []
  }
 ],
 "metadata": {
  "kernelspec": {
   "display_name": "Python 3 (ipykernel)",
   "language": "python",
   "name": "python3"
  },
  "language_info": {
   "codemirror_mode": {
    "name": "ipython",
    "version": 3
   },
   "file_extension": ".py",
   "mimetype": "text/x-python",
   "name": "python",
   "nbconvert_exporter": "python",
   "pygments_lexer": "ipython3",
   "version": "3.9.7"
  }
 },
 "nbformat": 4,
 "nbformat_minor": 5
}
