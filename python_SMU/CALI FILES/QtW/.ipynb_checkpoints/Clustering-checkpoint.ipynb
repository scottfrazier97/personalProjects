{
 "cells": [
  {
   "cell_type": "code",
   "execution_count": 1,
   "id": "78dcbdfb",
   "metadata": {},
   "outputs": [],
   "source": [
    "from sklearn.datasets import fetch_20newsgroups\n",
    "from sklearn.feature_extraction.text import CountVectorizer"
   ]
  },
  {
   "cell_type": "code",
   "execution_count": 2,
   "id": "74014811",
   "metadata": {},
   "outputs": [],
   "source": [
    "# removing headers, footers, etc. to deal with just text\n",
    "newsgroups_train = fetch_20newsgroups(subset='train',\n",
    "                                      remove=('headers','footers', 'quotes')) \n",
    "newsgroups_train = fetch_20newsgroups(subset='test',\n",
    "                                      remove=('headers','footers', 'quotes'))"
   ]
  },
  {
   "cell_type": "markdown",
   "id": "d507645e",
   "metadata": {},
   "source": [
    "Because we're dealing with text data, how we're going to try and represent our data is the bag of words. In order, there's no real-- or what I'm trying to say is there's no real concept of order. We're going to look for the occurrence of a word and treat those as features. And so our count vectorizer is just going to count the words in a specific instance."
   ]
  },
  {
   "cell_type": "code",
   "execution_count": 3,
   "id": "9c0960bc",
   "metadata": {},
   "outputs": [
    {
     "data": {
      "text/plain": [
       "'I am a little confused on all of the models of the 88-89 bonnevilles.\\nI have heard of the LE SE LSE SSE SSEI. Could someone tell me the\\ndifferences are far as features or performance. I am also curious to\\nknow what the book value is for prefereably the 89 model. And how much\\nless than book value can you usually get them for. In other words how\\nmuch are they in demand this time of year. I have heard that the mid-spring\\nearly summer is the best time to buy.'"
      ]
     },
     "execution_count": 3,
     "metadata": {},
     "output_type": "execute_result"
    }
   ],
   "source": [
    "newsgroups_train.data[0]"
   ]
  },
  {
   "cell_type": "markdown",
   "id": "9ae876b8",
   "metadata": {},
   "source": [
    "Count vectorizer only starts with two letter words, so I is not included.\n",
    "\n",
    "Instantiating vectorizer, and fitting to newspaper data. Creates a vocabulary for us."
   ]
  },
  {
   "cell_type": "code",
   "execution_count": 4,
   "id": "39bbc0e8",
   "metadata": {},
   "outputs": [
    {
     "data": {
      "text/plain": [
       "CountVectorizer()"
      ]
     },
     "execution_count": 4,
     "metadata": {},
     "output_type": "execute_result"
    }
   ],
   "source": [
    "vectorizer = CountVectorizer()\n",
    "vectorizer.fit(newsgroups_train.data)"
   ]
  },
  {
   "cell_type": "markdown",
   "id": "c72a9d7e",
   "metadata": {},
   "source": [
    "The below cell produces indices of the words, not counts. Essentially one-hot encoded our vocab."
   ]
  },
  {
   "cell_type": "code",
   "execution_count": 5,
   "id": "a2d4e490",
   "metadata": {},
   "outputs": [
    {
     "data": {
      "text/plain": [
       "{'am': 11171,\n",
       " 'little': 39524,\n",
       " 'confused': 19380,\n",
       " 'on': 46954,\n",
       " 'all': 10989,\n",
       " 'of': 46671,\n",
       " 'the': 62245,\n",
       " 'models': 43322,\n",
       " '88': 7467,\n",
       " '89': 7517,\n",
       " 'bonnevilles': 15201,\n",
       " 'have': 31837,\n",
       " 'heard': 31987,\n",
       " 'le': 38799,\n",
       " 'se': 56730,\n",
       " 'lse': 39985,\n",
       " 'sse': 59442,\n",
       " 'ssei': 59444,\n",
       " 'could': 20106,\n",
       " 'someone': 58743,\n",
       " 'tell': 61935,\n",
       " 'me': 41870,\n",
       " 'differences': 22831,\n",
       " 'are': 12131,\n",
       " 'far': 27275,\n",
       " 'as': 12404,\n",
       " 'features': 27478,\n",
       " 'or': 47215,\n",
       " 'performance': 49013,\n",
       " 'also': 11107,\n",
       " 'curious': 20854,\n",
       " 'to': 62900,\n",
       " 'know': 37828,\n",
       " 'what': 67769,\n",
       " 'book': 15215,\n",
       " 'value': 65952,\n",
       " 'is': 35662,\n",
       " 'for': 28386,\n",
       " 'prefereably': 50685,\n",
       " 'model': 43308,\n",
       " 'and': 11430,\n",
       " 'how': 32989,\n",
       " 'much': 44076,\n",
       " 'less': 39052,\n",
       " 'than': 62219,\n",
       " 'can': 16636,\n",
       " 'you': 70187,\n",
       " 'usually': 65546,\n",
       " 'get': 29823,\n",
       " 'them': 62278,\n",
       " 'in': 34305,\n",
       " 'other': 47474,\n",
       " 'words': 68390,\n",
       " 'they': 62379,\n",
       " 'demand': 22070,\n",
       " 'this': 62428,\n",
       " 'time': 62702,\n",
       " 'year': 69964,\n",
       " 'that': 62235,\n",
       " 'mid': 42617,\n",
       " 'spring': 59286,\n",
       " 'early': 24650,\n",
       " 'summer': 60557,\n",
       " 'best': 14380,\n",
       " 'buy': 16186,\n",
       " 'not': 45874,\n",
       " 'familiar': 27234,\n",
       " 'at': 12678,\n",
       " 'with': 68185,\n",
       " 'format': 28484,\n",
       " 'these': 62364,\n",
       " 'face': 27069,\n",
       " 'thingies': 62406,\n",
       " 'but': 16147,\n",
       " 'after': 10524,\n",
       " 'seeing': 56871,\n",
       " 'some': 58734,\n",
       " 'folks': 28315,\n",
       " 'headers': 31950,\n",
       " 've': 66126,\n",
       " 'got': 30381,\n",
       " 'see': 56863,\n",
       " 'maybe': 41628,\n",
       " 'make': 41017,\n",
       " 'one': 46971,\n",
       " 'my': 44471,\n",
       " 'own': 47809,\n",
       " 'dpg': 23960,\n",
       " 'view': 66461,\n",
       " 'linux': 39445,\n",
       " 'box': 15401,\n",
       " 'which': 67826,\n",
       " 'displays': 23318,\n",
       " 'uncompressed': 64729,\n",
       " 'faces': 27078,\n",
       " 'managed': 41126,\n",
       " 'compile': 19038,\n",
       " 'un': 64616,\n",
       " 'compface': 19035,\n",
       " 'too': 63014,\n",
       " 'now': 45953,\n",
       " 'looking': 39795,\n",
       " 'seem': 56878,\n",
       " 'find': 27834,\n",
       " 'any': 11739,\n",
       " 'anyones': 11751,\n",
       " 'news': 45324,\n",
       " 'would': 68470,\n",
       " 'please': 49898,\n",
       " 'send': 57005,\n",
       " 'your': 70203,\n",
       " 'header': 31948,\n",
       " 'll': 39576,\n",
       " 'probably': 51009,\n",
       " 'swamped': 60959,\n",
       " 'handle': 31565,\n",
       " 'it': 35788,\n",
       " 'hope': 32856,\n",
       " 'word': 68382,\n",
       " 'yes': 70006,\n",
       " 'were': 67693,\n",
       " 'attacking': 12786,\n",
       " 'iraqis': 35571,\n",
       " 'drive': 24103,\n",
       " 'out': 47530,\n",
       " 'kuwait': 38154,\n",
       " 'country': 20156,\n",
       " 'whose': 67910,\n",
       " 'citizens': 18071,\n",
       " 'close': 18377,\n",
       " 'blood': 14957,\n",
       " 'business': 16134,\n",
       " 'ties': 62659,\n",
       " 'saudi': 56221,\n",
       " 'thinks': 62414,\n",
       " 'if': 33801,\n",
       " 'us': 65466,\n",
       " 'had': 31353,\n",
       " 'helped': 32147,\n",
       " 'swallowed': 60955,\n",
       " 'arabia': 12049,\n",
       " 'least': 38857,\n",
       " 'eastern': 24686,\n",
       " 'oilfields': 46795,\n",
       " 'no': 45675,\n",
       " 'muslim': 44288,\n",
       " 'was': 67385,\n",
       " 'doing': 23711,\n",
       " 'anything': 11754,\n",
       " 'help': 32146,\n",
       " 'liberate': 39191,\n",
       " 'protect': 51356,\n",
       " 'indeed': 34486,\n",
       " 'masses': 41469,\n",
       " 'demonstrating': 22123,\n",
       " 'favor': 27369,\n",
       " 'butcher': 16152,\n",
       " 'saddam': 55893,\n",
       " 'who': 67889,\n",
       " 'killed': 37595,\n",
       " 'lotsa': 39867,\n",
       " 'muslims': 44291,\n",
       " 'just': 36875,\n",
       " 'because': 14046,\n",
       " 'he': 31937,\n",
       " 'killing': 37604,\n",
       " 'raping': 52914,\n",
       " 'looting': 39824,\n",
       " 'relatively': 53852,\n",
       " 'rich': 54761,\n",
       " 'thumbing': 62560,\n",
       " 'his': 32524,\n",
       " 'nose': 45862,\n",
       " 'west': 67706,\n",
       " 'so': 58570,\n",
       " 'defended': 21860,\n",
       " 'rolled': 55165,\n",
       " 'back': 13429,\n",
       " 'iraqi': 35570,\n",
       " 'invasion': 35424,\n",
       " 'charge': 17547,\n",
       " 'think': 62409,\n",
       " 'very': 66298,\n",
       " 'good': 30321,\n",
       " 'idea': 33722,\n",
       " 'governments': 30416,\n",
       " 'an': 11349,\n",
       " 'official': 46711,\n",
       " 'religion': 53903,\n",
       " 'de': 21591,\n",
       " 'facto': 27109,\n",
       " 'jure': 36865,\n",
       " 'human': 33184,\n",
       " 'nature': 44908,\n",
       " 'like': 39327,\n",
       " 'ambitious': 11213,\n",
       " 'pious': 49652,\n",
       " 'will': 68007,\n",
       " 'always': 11166,\n",
       " 'be': 13978,\n",
       " 'ones': 46978,\n",
       " 'rise': 54892,\n",
       " 'power': 50449,\n",
       " 'there': 62331,\n",
       " 'many': 41259,\n",
       " 'people': 48954,\n",
       " 'world': 68425,\n",
       " 'really': 53197,\n",
       " 'leader': 38807,\n",
       " 'devout': 22609,\n",
       " 'slick': 58263,\n",
       " 'operator': 47099,\n",
       " 'sound': 58847,\n",
       " 'guys': 31075,\n",
       " 'angels': 11492,\n",
       " 'ilyess': 34024,\n",
       " 'clarinet': 18170,\n",
       " 'posting': 50377,\n",
       " 'edited': 24833,\n",
       " 'stuff': 60208,\n",
       " 'following': 28321,\n",
       " 'friday': 28808,\n",
       " 'new': 45284,\n",
       " 'york': 70179,\n",
       " 'times': 62715,\n",
       " 'reported': 54134,\n",
       " 'group': 30794,\n",
       " 'definitely': 21903,\n",
       " 'more': 43586,\n",
       " 'conservative': 19497,\n",
       " 'even': 26358,\n",
       " 'sheikh': 57446,\n",
       " 'baz': 13908,\n",
       " 'followers': 28320,\n",
       " 'house': 32969,\n",
       " 'saud': 56220,\n",
       " 'does': 23695,\n",
       " 'rule': 55513,\n",
       " 'conservatively': 19498,\n",
       " 'enough': 25688,\n",
       " 'nyt': 46225,\n",
       " 'besides': 14372,\n",
       " 'complaining': 19050,\n",
       " 'government': 30414,\n",
       " 'asserted': 12538,\n",
       " 'approx': 11990,\n",
       " '500': 5013,\n",
       " '000': 1,\n",
       " 'shiites': 57512,\n",
       " 'kingdom': 37645,\n",
       " 'apostates': 11853,\n",
       " 'under': 64779,\n",
       " 'islamic': 35708,\n",
       " 'law': 38678,\n",
       " 'brings': 15680,\n",
       " 'death': 21635,\n",
       " 'penalty': 48894,\n",
       " 'diplomatic': 22970,\n",
       " 'guy': 31072,\n",
       " 'bin': 14605,\n",
       " 'jibrin': 36431,\n",
       " 'isn': 35726,\n",
       " 'called': 16554,\n",
       " 'severe': 57231,\n",
       " 'punishment': 51688,\n",
       " '40': 4263,\n",
       " 'women': 68333,\n",
       " 'drove': 24140,\n",
       " 'public': 51599,\n",
       " 'while': 67830,\n",
       " 'protest': 51368,\n",
       " 'ban': 13608,\n",
       " 'driving': 24117,\n",
       " 'from': 28853,\n",
       " 'said': 55950,\n",
       " 'abdelhamoud': 9672,\n",
       " 'al': 10826,\n",
       " 'toweijri': 63192,\n",
       " 'should': 57622,\n",
       " 'fired': 27890,\n",
       " 'their': 62267,\n",
       " 'jobs': 36548,\n",
       " 'jailed': 36138,\n",
       " 'branded': 15511,\n",
       " 'prostitutes': 51349,\n",
       " 'want': 67306,\n",
       " 'happen': 31627,\n",
       " 'say': 56264,\n",
       " 'has': 31759,\n",
       " 'basis': 13820,\n",
       " 'qur': 52472,\n",
       " 'ahadith': 10646,\n",
       " 'etc': 26193,\n",
       " 'yet': 70011,\n",
       " 'only': 46991,\n",
       " 'falsely': 27216,\n",
       " 'choose': 17829,\n",
       " 'heroes': 32255,\n",
       " 'wisely': 68171,\n",
       " 'reflexively': 53620,\n",
       " 'rally': 52814,\n",
       " 'behind': 14148,\n",
       " 'anyone': 11750,\n",
       " 'hates': 31804,\n",
       " 'hate': 31797,\n",
       " 'allowed': 11048,\n",
       " 'work': 68394,\n",
       " 'tv': 63992,\n",
       " 'radio': 52721,\n",
       " 'immoral': 34120,\n",
       " 'neither': 45148,\n",
       " 'nor': 45807,\n",
       " 'most': 43671,\n",
       " 'favorite': 27375,\n",
       " 'earth': 24664,\n",
       " 'restrict': 54432,\n",
       " 'religious': 53909,\n",
       " 'political': 50128,\n",
       " 'reedom': 53551,\n",
       " 'lot': 39861,\n",
       " 'among': 11297,\n",
       " 'things': 62407,\n",
       " 'likely': 39332,\n",
       " 'replacements': 54104,\n",
       " 'going': 30279,\n",
       " 'worse': 68444,\n",
       " 'feeling': 27516,\n",
       " 'heat': 32011,\n",
       " 'lately': 38627,\n",
       " 'last': 38614,\n",
       " 'six': 58039,\n",
       " 'months': 43533,\n",
       " 'read': 53149,\n",
       " 'been': 14085,\n",
       " 'stepped': 59786,\n",
       " 'up': 65327,\n",
       " 'harassing': 31646,\n",
       " 'by': 16238,\n",
       " 'muttawain': 44326,\n",
       " 'police': 50112,\n",
       " 'western': 67711,\n",
       " 'fully': 28992,\n",
       " 'veiled': 66172,\n",
       " 'something': 58750,\n",
       " 'stupid': 60230,\n",
       " 'do': 23614,\n",
       " 'imo': 34140,\n",
       " 'sends': 57012,\n",
       " 'wrong': 68582,\n",
       " 'signals': 57808,\n",
       " 'about': 9745,\n",
       " 'morality': 43577,\n",
       " 'cracked': 20301,\n",
       " 'down': 23909,\n",
       " 'few': 27642,\n",
       " 'home': 32753,\n",
       " 'based': 13784,\n",
       " 'expartiate': 26669,\n",
       " 'gatherings': 29497,\n",
       " 'posted': 50365,\n",
       " 'rewards': 54641,\n",
       " 'owned': 47810,\n",
       " 'newspapers': 45346,\n",
       " 'offering': 46701,\n",
       " 'money': 43465,\n",
       " 'turns': 63961,\n",
       " 'expartiates': 26670,\n",
       " 'dare': 21361,\n",
       " 'worship': 68448,\n",
       " 'homes': 32770,\n",
       " 'secret': 56812,\n",
       " 'place': 49778,\n",
       " 'grown': 30810,\n",
       " 'intolerant': 35369,\n",
       " 'try': 63759,\n",
       " 'take': 61505,\n",
       " 'wind': 68055,\n",
       " 'sails': 55958,\n",
       " 'opposition': 47135,\n",
       " 'unislamic': 65008,\n",
       " 're': 53120,\n",
       " 'small': 58389,\n",
       " 'taste': 61667,\n",
       " 'overthrow': 47747,\n",
       " 'trying': 63762,\n",
       " 'long': 39772,\n",
       " 'run': 55539,\n",
       " 'rached': 52684,\n",
       " 'others': 47476,\n",
       " 'general': 29658,\n",
       " 'evil': 26405,\n",
       " 'zionists': 70745,\n",
       " 'puppet': 51702,\n",
       " 'crowd': 20577,\n",
       " 'spent': 59094,\n",
       " 'two': 64070,\n",
       " 'solid': 58697,\n",
       " 'arguing': 12174,\n",
       " 'such': 60446,\n",
       " 'thing': 62403,\n",
       " 'objective': 46437,\n",
       " 'moral': 43572,\n",
       " 'system': 61232,\n",
       " 'exists': 26635,\n",
       " 'elisabeth': 25224,\n",
       " 'let': 39061,\n",
       " 'set': 57185,\n",
       " 'record': 53426,\n",
       " 'straight': 60018,\n",
       " 'nth': 46044,\n",
       " 'yeast': 69972,\n",
       " 'connection': 19438,\n",
       " 'due': 24284,\n",
       " 'brainwashing': 15502,\n",
       " 'hated': 31798,\n",
       " 'okay': 46816,\n",
       " 'guess': 30948,\n",
       " 'why': 67921,\n",
       " 'quote': 52464,\n",
       " 'zinsser': 70740,\n",
       " 'microbiology': 42541,\n",
       " '20th': 2562,\n",
       " 'edition': 24838,\n",
       " 'candida': 16666,\n",
       " 'species': 59017,\n",
       " 'colonize': 18726,\n",
       " 'mucosal': 44082,\n",
       " 'surfaces': 60797,\n",
       " 'humans': 33196,\n",
       " 'during': 24357,\n",
       " 'birth': 14687,\n",
       " 'shortly': 57603,\n",
       " 'thereafter': 62334,\n",
       " 'risk': 54900,\n",
       " 'endogenous': 25563,\n",
       " 'infection': 34648,\n",
       " 'clearly': 18254,\n",
       " 'ever': 26372,\n",
       " 'present': 50793,\n",
       " 'candidiasis': 16671,\n",
       " 'occurs': 46572,\n",
       " 'worldwide': 68431,\n",
       " 'common': 18925,\n",
       " 'systemic': 61239,\n",
       " 'mycosis': 44492,\n",
       " 'neutrophils': 45271,\n",
       " 'play': 49866,\n",
       " 'main': 40972,\n",
       " 'role': 55158,\n",
       " 'preventing': 50867,\n",
       " 'low': 39904,\n",
       " 'neutrophil': 45269,\n",
       " 'count': 20122,\n",
       " 'sick': 57726,\n",
       " 'poor': 50221,\n",
       " 'diet': 22805,\n",
       " 'persistent': 49127,\n",
       " 'parasitic': 48344,\n",
       " 'infestation': 34661,\n",
       " 'third': 62418,\n",
       " 'residents': 54291,\n",
       " 'assessment': 12548,\n",
       " 'correct': 19990,\n",
       " 'dispute': 23341,\n",
       " 'discussion': 23180,\n",
       " 'blooms': 14980,\n",
       " 'without': 68201,\n",
       " 'responsible': 54398,\n",
       " 'local': 39668,\n",
       " 'sites': 58021,\n",
       " 'irritation': 35652,\n",
       " 'gi': 29912,\n",
       " 'tract': 63285,\n",
       " 'mouth': 43765,\n",
       " 'vagina': 65901,\n",
       " 'sinus': 57991,\n",
       " 'cavity': 17075,\n",
       " 'knocking': 37823,\n",
       " 'bacterial': 13480,\n",
       " 'competition': 19029,\n",
       " 'proposed': 51307,\n",
       " 'possible': 50351,\n",
       " 'trigger': 63603,\n",
       " 'again': 10546,\n",
       " 'however': 32995,\n",
       " 'factors': 27117,\n",
       " 'use': 65487,\n",
       " 'broad': 15707,\n",
       " 'spectrum': 59053,\n",
       " 'antibacterial': 11665,\n",
       " 'antibiotic': 11666,\n",
       " 'may': 41622,\n",
       " 'predispose': 50668,\n",
       " 'both': 15336,\n",
       " 'infections': 34649,\n",
       " 'addressing': 10195,\n",
       " 'term': 62037,\n",
       " 'better': 14406,\n",
       " 'nutrition': 46130,\n",
       " 'course': 20182,\n",
       " 'teach': 61796,\n",
       " 'covers': 20215,\n",
       " 'effect': 24919,\n",
       " 'treatment': 63522,\n",
       " 'well': 67666,\n",
       " 'cure': 20845,\n",
       " 'bad': 13484,\n",
       " 'detect': 22483,\n",
       " 'steve': 59819,\n",
       " 'dyer': 24448,\n",
       " 'noticed': 45904,\n",
       " 'faculty': 27126,\n",
       " 'rank': 52884,\n",
       " 'biochemist': 14639,\n",
       " 'microbiologist': 42540,\n",
       " 'classifed': 18195,\n",
       " 'fungus': 29037,\n",
       " 'according': 9928,\n",
       " 'point': 50072,\n",
       " 'dimorphism': 22927,\n",
       " 'capable': 16717,\n",
       " 'producing': 51091,\n",
       " 'cells': 17250,\n",
       " 'pseudohyphae': 51493,\n",
       " 'true': 63724,\n",
       " 'hyphae': 33403,\n",
       " 'makes': 41032,\n",
       " 'sense': 57025,\n",
       " 'greek': 30647,\n",
       " 'go': 30222,\n",
       " 'ahead': 10658,\n",
       " 'crucify': 20600,\n",
       " 'still': 59868,\n",
       " 'haven': 31840,\n",
       " 'able': 9714,\n",
       " 'figure': 27761,\n",
       " 'organism': 47292,\n",
       " 'bring': 15677,\n",
       " 'hostility': 32939,\n",
       " 'sci': 56489,\n",
       " 'med': 41943,\n",
       " 'must': 44292,\n",
       " 'admitt': 10290,\n",
       " 'sucked': 60449,\n",
       " 'into': 35365,\n",
       " 'mud': 44085,\n",
       " 'slinging': 58283,\n",
       " 'keep': 37336,\n",
       " 'hoping': 32864,\n",
       " 'asking': 12477,\n",
       " 'here': 32223,\n",
       " 'don': 23761,\n",
       " 'plain': 49796,\n",
       " 'simple': 57906,\n",
       " 'honest': 32810,\n",
       " 'beginning': 14120,\n",
       " 'wish': 68173,\n",
       " 'never': 45276,\n",
       " 'written': 68575,\n",
       " 'dishonest': 23211,\n",
       " 'dwindles': 24414,\n",
       " 'away': 13134,\n",
       " 'gathers': 29498,\n",
       " 'grow': 30805,\n",
       " 'proverbs': 51409,\n",
       " '13': 1282,\n",
       " '11': 1014,\n",
       " 'friend': 28814,\n",
       " 'mine': 42788,\n",
       " 'copy': 19908,\n",
       " 'computerised': 19161,\n",
       " 'hebrew': 32047,\n",
       " 'lexicon': 39114,\n",
       " 'perfect': 48994,\n",
       " 'processing': 51051,\n",
       " 'package': 48063,\n",
       " 'wordperfect': 68386,\n",
       " 'wiped': 68144,\n",
       " 'exe': 26566,\n",
       " 'file': 27773,\n",
       " 'she': 57424,\n",
       " 'restore': 54423,\n",
       " 'distributors': 23436,\n",
       " 'south': 58866,\n",
       " 'africa': 10516,\n",
       " 'appreciate': 11954,\n",
       " 'email': 25290,\n",
       " 'where': 67802,\n",
       " 'address': 10189,\n",
       " 'fortmann': 28542,\n",
       " 'superbowl': 60637,\n",
       " 'und': 64767,\n",
       " 'ac': 9827,\n",
       " 'za': 70521,\n",
       " 'shrike': 57664,\n",
       " 'thanks': 62226,\n",
       " 'hi': 32368,\n",
       " 'we': 67547,\n",
       " 'requirement': 54213,\n",
       " 'dynamically': 24458,\n",
       " 'closing': 18389,\n",
       " 'opening': 47074,\n",
       " 'different': 22834,\n",
       " 'display': 23309,\n",
       " 'servers': 57158,\n",
       " 'within': 68198,\n",
       " 'application': 11926,\n",
       " 'manner': 41204,\n",
       " 'associated': 12573,\n",
       " 'client': 18301,\n",
       " 'assumming': 12593,\n",
       " 'proper': 51270,\n",
       " 'cleanup': 18240,\n",
       " 'done': 23775,\n",
       " 'transition': 63407,\n",
       " 'anticipate': 11673,\n",
       " 'problems': 51028,\n",
       " 'lots': 39866,\n",
       " 'experience': 26709,\n",
       " 'scanning': 56342,\n",
       " 'images': 34042,\n",
       " 'altering': 11119,\n",
       " 'changing': 17493,\n",
       " 'negatives': 45103,\n",
       " 'deleted': 22005,\n",
       " 'jennifer': 36321,\n",
       " 'urso': 65456,\n",
       " 'oh': 46769,\n",
       " 'bitter': 14735,\n",
       " 'woman': 68326,\n",
       " 'utter': 65604,\n",
       " 'blahness': 14826,\n",
       " 'cheerful': 17651,\n",
       " 'undertones': 64847,\n",
       " 'aldus': 10895,\n",
       " 'photostyler': 49465,\n",
       " 'pc': 48698,\n",
       " 'turn': 63953,\n",
       " 'colour': 18755,\n",
       " 'black': 14800,\n",
       " 'white': 67865,\n",
       " 'image': 34030,\n",
       " 'negative': 45101,\n",
       " 'works': 68416,\n",
       " 'test': 62102,\n",
       " 'scanned': 56339,\n",
       " 'used': 65492,\n",
       " 'create': 20389,\n",
       " 'positive': 50326,\n",
       " 'looked': 39794,\n",
       " 'print': 50937,\n",
       " 'film': 27808,\n",
       " 'developers': 22565,\n",
       " 'gave': 29518,\n",
       " 'uploaded': 65363,\n",
       " 'windows': 68066,\n",
       " 'line': 39388,\n",
       " 'review': 54589,\n",
       " 'shareware': 57382,\n",
       " 'ftp': 28929,\n",
       " 'cica': 17960,\n",
       " 'indiana': 34519,\n",
       " 'edu': 24864,\n",
       " 'pub': 51594,\n",
       " 'win3': 68039,\n",
       " 'uploads': 65365,\n",
       " 'wolrs7': 68320,\n",
       " 'zip': 70746,\n",
       " 'magazine': 40878,\n",
       " 'contains': 19639,\n",
       " 'reviews': 54596,\n",
       " 'products': 51099,\n",
       " 'grabbed': 30473,\n",
       " 'bbs': 13932,\n",
       " 'graphics': 30555,\n",
       " 'systems': 61240,\n",
       " 'seen': 56884,\n",
       " 'drawing': 24043,\n",
       " 'routines': 55305,\n",
       " 'specify': 59028,\n",
       " 'color': 18730,\n",
       " 'drawpoint': 24050,\n",
       " 'drawline': 24045,\n",
       " 'x1': 68758,\n",
       " 'y1': 69733,\n",
       " 'x2': 68786,\n",
       " 'y2': 69743,\n",
       " 'fillrectangle': 27803,\n",
       " 'xsetforeground': 69456,\n",
       " 'current_color': 20863,\n",
       " 'xdrawpoint': 69043,\n",
       " 'split': 59182,\n",
       " 'functions': 29012,\n",
       " 'did': 22778,\n",
       " 'designers': 22382,\n",
       " 'decide': 21703,\n",
       " 'associate': 12572,\n",
       " 'object': 46430,\n",
       " 'being': 14155,\n",
       " 'drawn': 24047,\n",
       " 'instead': 35025,\n",
       " 'putting': 51777,\n",
       " 'newsgroup': 45336,\n",
       " 'generate': 29669,\n",
       " 'flames': 28028,\n",
       " 'adding': 10173,\n",
       " 'substance': 60370,\n",
       " 'issue': 35772,\n",
       " 'gestures': 29822,\n",
       " 'mentioned': 42149,\n",
       " 'feel': 27514,\n",
       " 'israel': 35758,\n",
       " 'offered': 46699,\n",
       " 'gesture': 29821,\n",
       " 'realistically': 53183,\n",
       " 'expect': 26671,\n",
       " 'presented': 50796,\n",
       " 'arabs': 12055,\n",
       " 'palestinians': 48177,\n",
       " 'way': 67469,\n",
       " 'rules': 55518,\n",
       " 'bent': 14298,\n",
       " 'arab': 12045,\n",
       " 'actions': 10074,\n",
       " 'israeli': 35759,\n",
       " 'deportations': 22249,\n",
       " 'side': 57740,\n",
       " 'example': 26487,\n",
       " 'accusation': 9963,\n",
       " 'thought': 62467,\n",
       " 'recommendation': 53394,\n",
       " 'mean': 41896,\n",
       " 'oughta': 47508,\n",
       " 'truck': 63717,\n",
       " '10': 790,\n",
       " 'pounds': 50429,\n",
       " 'crawfish': 20360,\n",
       " 'talk': 61529,\n",
       " 'rape': 52904,\n",
       " 'nothing': 45895,\n",
       " 'doesn': 23696,\n",
       " 'give': 30010,\n",
       " 'insight': 34966,\n",
       " 'overall': 47643,\n",
       " 'god': 30247,\n",
       " 'truth': 63751,\n",
       " 'dependent': 22216,\n",
       " 'solely': 58687,\n",
       " 'individual': 34559,\n",
       " 'individually': 34562,\n",
       " 'created': 20390,\n",
       " 'since': 57946,\n",
       " 'christians': 17882,\n",
       " 'failed': 27146,\n",
       " 'show': 57638,\n",
       " 'life': 39285,\n",
       " 'wy': 68716,\n",
       " 'ours': 47522,\n",
       " 'attempt': 12793,\n",
       " 'necessary': 45060,\n",
       " 'particularly': 48444,\n",
       " 'attractive': 12831,\n",
       " 'nerver': 45183,\n",
       " 'sure': 60789,\n",
       " 'told': 62953,\n",
       " 'bit': 14707,\n",
       " 'evidence': 26397,\n",
       " 'pointing': 50077,\n",
       " 'fact': 27104,\n",
       " 'military': 42715,\n",
       " 'conflict': 19358,\n",
       " 'vietnam': 66459,\n",
       " '25': 2823,\n",
       " 'years': 69970,\n",
       " 'ago': 10607,\n",
       " 'then': 62290,\n",
       " 'supernatural': 60679,\n",
       " 'diety': 22815,\n",
       " 'wants': 67313,\n",
       " 'live': 39537,\n",
       " 'certain': 17332,\n",
       " 'jesus': 36357,\n",
       " 'warned': 67347,\n",
       " 'against': 10549,\n",
       " 'means': 41904,\n",
       " 'warn': 67346,\n",
       " 'big': 14536,\n",
       " 'deal': 21612,\n",
       " 'first': 27914,\n",
       " 'choices': 17819,\n",
       " 'scantily': 56345,\n",
       " 'documented': 23671,\n",
       " 'total': 63127,\n",
       " 'malarky': 41058,\n",
       " 'unless': 65063,\n",
       " 'uses': 65512,\n",
       " 'bible': 14500,\n",
       " 'totally': 63136,\n",
       " 'circular': 18025,\n",
       " 'perhaps': 49025,\n",
       " 'imagination': 34050,\n",
       " 'ignorance': 33852,\n",
       " 'else': 25265,\n",
       " 'refer': 53574,\n",
       " 'plenty': 49914,\n",
       " 'documentation': 23670,\n",
       " 'disgusting': 23205,\n",
       " 'christian': 17876,\n",
       " 'attempts': 12796,\n",
       " 'manipulate': 41188,\n",
       " 'interpret': 35288,\n",
       " 'old': 46849,\n",
       " 'testament': 62104,\n",
       " 'filled': 27797,\n",
       " 'signs': 57827,\n",
       " 'coming': 18841,\n",
       " 'christ': 17865,\n",
       " 'every': 26384,\n",
       " 'reference': 53581,\n",
       " 'stick': 59845,\n",
       " 'wood': 68352,\n",
       " 'autmoatically': 12977,\n",
       " 'interpreted': 35293,\n",
       " 'cross': 20544,\n",
       " 'miscarriage': 42901,\n",
       " 'philology': 49388,\n",
       " 'skeptical': 58093,\n",
       " 'hearts': 32009,\n",
       " 'thank': 62221,\n",
       " 'goodness': 30326,\n",
       " 'irreconcilable': 35627,\n",
       " 'difference': 22829,\n",
       " 'glorify': 30140,\n",
       " 'exactly': 26463,\n",
       " 'tend': 61985,\n",
       " 'despise': 22422,\n",
       " 'snub': 58557,\n",
       " 'trust': 63742,\n",
       " 'belief': 14190,\n",
       " 'faith': 27178,\n",
       " 'knowledge': 37832,\n",
       " 'lucky': 40036,\n",
       " 'day': 21505,\n",
       " 'thinking': 62412,\n",
       " 'same': 56031,\n",
       " 'enkephalins': 25664,\n",
       " 'sign': 57803,\n",
       " 'right': 54828,\n",
       " 'knowing': 37829,\n",
       " 'religosity': 53912,\n",
       " 'conclusively': 19237,\n",
       " 'arrived': 12315,\n",
       " 'rather': 52969,\n",
       " 'seems': 56883,\n",
       " 'sudden': 60460,\n",
       " 'affliction': 10493,\n",
       " 'believe': 14193,\n",
       " 'willing': 68019,\n",
       " 'die': 22789,\n",
       " 'believed': 14194,\n",
       " 'question': 52383,\n",
       " 'suchg': 60447,\n",
       " 'attitude': 12817,\n",
       " 'reflective': 53612,\n",
       " '_correct_': 8859,\n",
       " 'healthy': 31980,\n",
       " 'reflect': 53607,\n",
       " 'fanaticism': 27248,\n",
       " 'case': 16939,\n",
       " 'expression': 26801,\n",
       " 'selfishness': 56941,\n",
       " 'adam': 10126,\n",
       " 'article': 12360,\n",
       " 'c68ubg': 16371,\n",
       " 'k2w': 36990,\n",
       " 'std': 59702,\n",
       " 'com': 18776,\n",
       " 'cfw': 17382,\n",
       " 'christopher': 17891,\n",
       " 'wroten': 68593,\n",
       " 'answer': 11625,\n",
       " 'eisa': 25046,\n",
       " 'bus': 16118,\n",
       " 'move': 43773,\n",
       " '32': 3551,\n",
       " 'bits': 14728,\n",
       " 'isa': 35669,\n",
       " '16': 1577,\n",
       " 'moves': 43779,\n",
       " 'speed': 59067,\n",
       " 'either': 25052,\n",
       " 'mhz': 42491,\n",
       " 'designs': 22385,\n",
       " 'data': 21428,\n",
       " 'cpu': 20276,\n",
       " '33mhz': 3657,\n",
       " 'moving': 43783,\n",
       " '32bit': 3599,\n",
       " '33': 3619,\n",
       " 'faster': 27328,\n",
       " 'fast': 27322,\n",
       " 'advantages': 10363,\n",
       " 'over': 47638,\n",
       " 'width': 67953,\n",
       " 'interrupts': 35315,\n",
       " 'mastering': 41480,\n",
       " 'impact': 34142,\n",
       " 'video': 66432,\n",
       " 'card': 16802,\n",
       " 'multiple': 44166,\n",
       " 'hard': 31660,\n",
       " 'drives': 24111,\n",
       " 'full': 28986,\n",
       " 'throttle': 62527,\n",
       " 'network': 45228,\n",
       " 'cards': 16819,\n",
       " 'cd': 17155,\n",
       " 'roms': 55193,\n",
       " 'iv': 35858,\n",
       " 'problem': 51023,\n",
       " 'printing': 50945,\n",
       " 'stylewriterii': 60247,\n",
       " 'iivx': 33925,\n",
       " '20': 2446,\n",
       " 'megs': 42032,\n",
       " 'ram': 52819,\n",
       " 'quark': 52330,\n",
       " 'fonts': 28344,\n",
       " 'couple': 20165,\n",
       " 'boxes': 15404,\n",
       " 'gradient': 30492,\n",
       " 'fills': 27804,\n",
       " 'disk': 23233,\n",
       " 'error': 26034,\n",
       " 'parts': 48466,\n",
       " 'letters': 39073,\n",
       " 'cut': 20919,\n",
       " 'off': 46681,\n",
       " 'happens': 31632,\n",
       " 'text': 62143,\n",
       " 'fill': 27796,\n",
       " 'adjecent': 10234,\n",
       " 'uneffected': 64882,\n",
       " 'ideas': 33730,\n",
       " 'hello': 32133,\n",
       " 'interested': 35212,\n",
       " 'those': 62462,\n",
       " 'devices': 22583,\n",
       " 'suggestions': 60497,\n",
       " 'advance': 10355,\n",
       " 'regards': 53680,\n",
       " 'silly': 57856,\n",
       " 'boy': 15409,\n",
       " 'zillions': 70729,\n",
       " 'messages': 42234,\n",
       " 'include': 34396,\n",
       " 'shipping': 57534,\n",
       " 'scsi': 56676,\n",
       " 'rom': 55175,\n",
       " 'version': 66280,\n",
       " 'maximegalon': 41606,\n",
       " 'gargantuabrain': 29434,\n",
       " '9000': 7872,\n",
       " 'ok': 46808,\n",
       " 'twin': 64046,\n",
       " 'cities': 18067,\n",
       " 'drop': 24130,\n",
       " 'round': 55284,\n",
       " 'grab': 30472,\n",
       " 'tenner': 62003,\n",
       " 'min': 42768,\n",
       " 'order': 47258,\n",
       " 'guarantees': 30926,\n",
       " 'purpose': 51735,\n",
       " 'look': 39793,\n",
       " 'newish': 45310,\n",
       " 'clean': 18227,\n",
       " 'technical': 61824,\n",
       " 'negotiations': 45120,\n",
       " '525': 5152,\n",
       " 'floppytape': 28170,\n",
       " 'part': 48413,\n",
       " '960273': 8140,\n",
       " '639': 5889,\n",
       " 'revision': 54605,\n",
       " '17': 1662,\n",
       " 'pin': 49614,\n",
       " 'floppy': 28168,\n",
       " 'style': 60242,\n",
       " 'connector': 19444,\n",
       " 'short': 57588,\n",
       " 'extended': 26817,\n",
       " 'items': 35806,\n",
       " 'cheers': 17656,\n",
       " 'mike': 42674,\n",
       " 'texas': 62140,\n",
       " 'legislative': 38949,\n",
       " 'bill': 14580,\n",
       " 'tracking': 63281,\n",
       " 'service': 57165,\n",
       " ...}"
      ]
     },
     "execution_count": 5,
     "metadata": {},
     "output_type": "execute_result"
    }
   ],
   "source": [
    "vectorizer.vocabulary_"
   ]
  },
  {
   "cell_type": "markdown",
   "id": "786b7fa5",
   "metadata": {},
   "source": [
    "Transforming the data\n",
    "\n",
    "So let's move forward and let's transform our data. Right now, we've just fit it. So we've got parameters to the vectorizer, but we haven't transformed our data. So let's go ahead and transform our data. So I'm just going to transform one row, and I'll use this vectorizer, this model, and we're going to transform some data. And we're going to use the newsgroup training data.\n",
    "\n",
    "We need to make sure we're using the data and not something else. Well, there are additional pieces to the newsgroup data. So we only want the first example, or example 0. So we'll close that off. And because the vectorizer stores or returns information in a sparse matrix form, that sparse matrix form is efficient when lots of the values are zero. And that's what we expect.\n",
    "\n",
    "However, we want to be able to inspect visually different portions, and it's difficult to do that with the sparse matrix format. So I'm going to do that by-- or get away from the sparse matrix and get a traditional looking matrix by casting it as an array."
   ]
  },
  {
   "cell_type": "code",
   "execution_count": 6,
   "id": "0fccad48",
   "metadata": {},
   "outputs": [],
   "source": [
    "sample = vectorizer.transform([newsgroups_train.data[0]]).toarray()"
   ]
  },
  {
   "cell_type": "markdown",
   "id": "08c40db9",
   "metadata": {},
   "source": [
    "So let's take a look at what this sample looks like. Let's take a look at the shape. And we see that the shape is it's actually a single column vector, or row vector, and it has over 101,000 elements to it, which means it's very, very large. Let's take a look at it visually, and we see that it's mostly zeros. This could be alarming, but we knew and I mentioned ahead of time that it could be or it should be a sparse matrix, because not every word occurs in every example."
   ]
  },
  {
   "cell_type": "code",
   "execution_count": 7,
   "id": "9eb8e1ea",
   "metadata": {},
   "outputs": [
    {
     "data": {
      "text/plain": [
       "(1, 71018)"
      ]
     },
     "execution_count": 7,
     "metadata": {},
     "output_type": "execute_result"
    }
   ],
   "source": [
    "sample.shape"
   ]
  },
  {
   "cell_type": "code",
   "execution_count": 8,
   "id": "4a1c95a9",
   "metadata": {},
   "outputs": [
    {
     "data": {
      "text/plain": [
       "array([[0, 0, 0, ..., 0, 0, 0]], dtype=int64)"
      ]
     },
     "execution_count": 8,
     "metadata": {},
     "output_type": "execute_result"
    }
   ],
   "source": [
    "sample"
   ]
  },
  {
   "cell_type": "markdown",
   "id": "41f1bb36",
   "metadata": {},
   "source": [
    "So as you can see, the count vectorizer transforms your text data into a bag of words model, in which the bag of words is just count of the occurrences of your words. Now, we obviously could do this manually, but the count vectorizer is extremely efficient. "
   ]
  },
  {
   "cell_type": "code",
   "execution_count": 9,
   "id": "b4c62b4c",
   "metadata": {},
   "outputs": [
    {
     "data": {
      "text/plain": [
       "2"
      ]
     },
     "execution_count": 9,
     "metadata": {},
     "output_type": "execute_result"
    }
   ],
   "source": [
    "sample[0][11171] #Number of the word \"am\" in the original text paragraph"
   ]
  },
  {
   "cell_type": "markdown",
   "id": "6731e9b6",
   "metadata": {},
   "source": [
    "#### DOCUMENT FREQUENCY - TFIDF Vectorizer\n",
    "\n",
    "Now, there's both a transformer and a vectorizer. The transformer goes if you've already got your accounts. The TF-IDF vectorizer does the counting for us. So although we already may have counts, in this case, I'm going to start with the raw text and show you how fast the vectorizer works to produce this TF-IDF document."
   ]
  },
  {
   "cell_type": "code",
   "execution_count": 10,
   "id": "5d9502c6",
   "metadata": {},
   "outputs": [],
   "source": [
    "from sklearn.feature_extraction.text import TfidfVectorizer"
   ]
  },
  {
   "cell_type": "code",
   "execution_count": 11,
   "id": "5eb4f021",
   "metadata": {},
   "outputs": [],
   "source": [
    "tf_vectors = TfidfVectorizer()"
   ]
  },
  {
   "cell_type": "markdown",
   "id": "4c74ec87",
   "metadata": {},
   "source": [
    "So this (BELOW) will produce a matrix of term frequency, inverse document frequency. So the first part, that term frequency, is just the counts, our bag of word models. So in each document or each post, the count of the vocabulary is recorded. Most words aren't there so there will be many 0's. But the words that are there will count out the number of occurrences.\n",
    "\n",
    "Now, to help improve our ability to discern between different types of documents, this adds an inverse document frequency. And what that means is it takes the count of the word, or the total occurrence of the word, in each document and divides that out. The key here is it helps with words that occur commonly. They will have a very common document frequency. And so their importance or their value will be lessened when we multiply by the inverse of the document frequency.\n",
    "\n",
    "Now, words that occur in some documents but not others will have a low document frequency. And as we divide by that, they will be transformed less. Or in other words, we're essentially dividing by the document frequency. So instead of dividing by a large number, we're dividing by a small number. This helps us distinguish between terms that occur in some documents and not others-- in other words, terms that can help us distinguish differences-- and terms that occur in everything, which don't help us determine the difference between certain classes. That's why a TF-IDF is a very popular source to start clustering and other unstructured data, as well as dealing with textual data."
   ]
  },
  {
   "cell_type": "code",
   "execution_count": 12,
   "id": "04c2373f",
   "metadata": {},
   "outputs": [],
   "source": [
    "new_vectors = tf_vectors.fit_transform(newsgroups_train.data)"
   ]
  },
  {
   "cell_type": "code",
   "execution_count": 13,
   "id": "a9ca53fc",
   "metadata": {},
   "outputs": [
    {
     "data": {
      "text/plain": [
       "array([[0., 0., 0., ..., 0., 0., 0.],\n",
       "       [0., 0., 0., ..., 0., 0., 0.],\n",
       "       [0., 0., 0., ..., 0., 0., 0.],\n",
       "       ...,\n",
       "       [0., 0., 0., ..., 0., 0., 0.],\n",
       "       [0., 0., 0., ..., 0., 0., 0.],\n",
       "       [0., 0., 0., ..., 0., 0., 0.]])"
      ]
     },
     "execution_count": 13,
     "metadata": {},
     "output_type": "execute_result"
    }
   ],
   "source": [
    "new_vectors.toarray()"
   ]
  },
  {
   "cell_type": "markdown",
   "id": "a577a57b",
   "metadata": {},
   "source": [
    "So remember, although the bag of words starts as the count vectorizer, the TF-IDF, or term frequency, inverse document frequency, is an improvement over the count vectorizer in that it helps establish features that are words represented as numbers. Those numbers are counts. But those counts are normalized to how often they appear in documents. And remember, common words will actually have a low occurrence as opposed to semi-common words that appear in some documents but not others, because those are the words that we want to look for as they will help us distinguish between different types or classes of documents. "
   ]
  },
  {
   "cell_type": "code",
   "execution_count": 14,
   "id": "8fff4f63",
   "metadata": {},
   "outputs": [
    {
     "data": {
      "text/plain": [
       "(7532, 71018)"
      ]
     },
     "execution_count": 14,
     "metadata": {},
     "output_type": "execute_result"
    }
   ],
   "source": [
    "#same number of vocab words as earlier, but now with 7.5 thousand instances\n",
    "new_vectors.shape"
   ]
  },
  {
   "cell_type": "markdown",
   "id": "2e92f9af",
   "metadata": {},
   "source": [
    "#### KNN - Relies on supervised, counts on data having labels"
   ]
  },
  {
   "cell_type": "markdown",
   "id": "4035c8ad",
   "metadata": {},
   "source": [
    "Now, we can choose the number of neighbors and all the different variables, and what we want to do is we'll have to try and tune it. But I'll start with the number of neighbors being 5."
   ]
  },
  {
   "cell_type": "code",
   "execution_count": 15,
   "id": "c5643588",
   "metadata": {},
   "outputs": [],
   "source": [
    "from sklearn.neighbors import KNeighborsClassifier\n",
    "knn = KNeighborsClassifier(n_neighbors=5)"
   ]
  },
  {
   "cell_type": "markdown",
   "id": "175f906a",
   "metadata": {},
   "source": [
    "So, let's make sure, probably spelled this wrong, there we are. All right, so let's go ahead and take a look, as we fit this. Now, we're going to use our new vectors that we did with our TF-IDF, and, of course, we'll need the targets, so we'll need the target. So let's see what happens."
   ]
  },
  {
   "cell_type": "code",
   "execution_count": 16,
   "id": "bc5d6bd4",
   "metadata": {},
   "outputs": [
    {
     "data": {
      "text/plain": [
       "KNeighborsClassifier()"
      ]
     },
     "execution_count": 16,
     "metadata": {},
     "output_type": "execute_result"
    }
   ],
   "source": [
    "knn.fit(new_vectors, newsgroups_train['target'])"
   ]
  },
  {
   "cell_type": "code",
   "execution_count": 17,
   "id": "b16790b5",
   "metadata": {},
   "outputs": [],
   "source": [
    "preds = knn.predict(new_vectors)"
   ]
  },
  {
   "cell_type": "markdown",
   "id": "db36f7f2",
   "metadata": {},
   "source": [
    "And it's actually-- so we didn't do too well. That illustrates some of the issues that you have with the KNN. We'll probably have to take a look. Now, we remember that the number of neighbors was 5, let's see if we can change that and see if it affects our accuracy."
   ]
  },
  {
   "cell_type": "code",
   "execution_count": 18,
   "id": "9d6fb38e",
   "metadata": {},
   "outputs": [
    {
     "data": {
      "text/plain": [
       "0.36311736590547"
      ]
     },
     "execution_count": 18,
     "metadata": {},
     "output_type": "execute_result"
    }
   ],
   "source": [
    "from sklearn.metrics import accuracy_score\n",
    "accuracy_score(newsgroups_train['target'], preds)"
   ]
  },
  {
   "cell_type": "code",
   "execution_count": 19,
   "id": "963a0f06",
   "metadata": {},
   "outputs": [],
   "source": [
    "knn = KNeighborsClassifier(n_neighbors=10)"
   ]
  },
  {
   "cell_type": "code",
   "execution_count": 20,
   "id": "47486790",
   "metadata": {},
   "outputs": [
    {
     "data": {
      "text/plain": [
       "KNeighborsClassifier(n_neighbors=10)"
      ]
     },
     "execution_count": 20,
     "metadata": {},
     "output_type": "execute_result"
    }
   ],
   "source": [
    "knn.fit(new_vectors, newsgroups_train['target'])"
   ]
  },
  {
   "cell_type": "code",
   "execution_count": 21,
   "id": "337021b9",
   "metadata": {},
   "outputs": [],
   "source": [
    "preds = knn.predict(new_vectors)"
   ]
  },
  {
   "cell_type": "markdown",
   "id": "2e8bd2b6",
   "metadata": {},
   "source": [
    "So you can see in this case, our accuracy went down, so we probably need to take a look at the other direction. So rather than hyperparameter tuning to find our final model, what we can do is just take it as an activity left to the student at this point to optimize your KNN."
   ]
  },
  {
   "cell_type": "code",
   "execution_count": 22,
   "id": "29667d7e",
   "metadata": {},
   "outputs": [
    {
     "data": {
      "text/plain": [
       "0.26925119490175253"
      ]
     },
     "execution_count": 22,
     "metadata": {},
     "output_type": "execute_result"
    }
   ],
   "source": [
    "accuracy_score(newsgroups_train['target'], preds)"
   ]
  },
  {
   "cell_type": "markdown",
   "id": "fa852209",
   "metadata": {},
   "source": [
    "DECREASING n_neighbors"
   ]
  },
  {
   "cell_type": "code",
   "execution_count": 23,
   "id": "a55c3c27",
   "metadata": {},
   "outputs": [],
   "source": [
    "knn = KNeighborsClassifier(n_neighbors=3)"
   ]
  },
  {
   "cell_type": "code",
   "execution_count": 24,
   "id": "5dc9e73b",
   "metadata": {},
   "outputs": [
    {
     "data": {
      "text/plain": [
       "KNeighborsClassifier(n_neighbors=3)"
      ]
     },
     "execution_count": 24,
     "metadata": {},
     "output_type": "execute_result"
    }
   ],
   "source": [
    "knn.fit(new_vectors, newsgroups_train['target'])"
   ]
  },
  {
   "cell_type": "code",
   "execution_count": 25,
   "id": "36e13a99",
   "metadata": {},
   "outputs": [],
   "source": [
    "preds = knn.predict(new_vectors)"
   ]
  },
  {
   "cell_type": "code",
   "execution_count": 26,
   "id": "498aa741",
   "metadata": {},
   "outputs": [
    {
     "data": {
      "text/plain": [
       "0.7338024429102497"
      ]
     },
     "execution_count": 26,
     "metadata": {},
     "output_type": "execute_result"
    }
   ],
   "source": [
    "accuracy_score(newsgroups_train['target'], preds)"
   ]
  },
  {
   "cell_type": "markdown",
   "id": "303326c2",
   "metadata": {},
   "source": [
    "#### DBSCAN - Unsupervised learning algo - Clustering"
   ]
  },
  {
   "cell_type": "code",
   "execution_count": 27,
   "id": "41ab574a",
   "metadata": {},
   "outputs": [],
   "source": [
    "from sklearn.cluster import DBSCAN"
   ]
  },
  {
   "cell_type": "markdown",
   "id": "e2af9f11",
   "metadata": {},
   "source": [
    "So we need to create our classifier, which we'll just call db, so let's go ahead and hit our important hyperparameters. So the first one is the distance. So this is the distance between points that would consider them the same cluster. This is the one we're going to have to tune the most to get our best results."
   ]
  },
  {
   "cell_type": "code",
   "execution_count": 28,
   "id": "a67df240",
   "metadata": {},
   "outputs": [],
   "source": [
    "#DEFAULT HYPERPARAMETERS\n",
    "db = DBSCAN(eps=0.5, min_samples=5)"
   ]
  },
  {
   "cell_type": "markdown",
   "id": "e7765bcd",
   "metadata": {},
   "source": [
    "So, what we see as we got out were things that are all negative 1, which is telling us that our distance is probably a little bit too far. But let's check and make sure that we're not just seeing the ends, so we'll assign our predictions to a preds variable. We'll let it run quickly again."
   ]
  },
  {
   "cell_type": "code",
   "execution_count": 29,
   "id": "8ceedb7b",
   "metadata": {},
   "outputs": [],
   "source": [
    "preds = db.fit_predict(new_vectors)"
   ]
  },
  {
   "cell_type": "markdown",
   "id": "2cf72e1d",
   "metadata": {},
   "source": [
    "So now that we've got our preds(ABOVE), let's see if we can find a max value. So there are one or two clusters in here. But we know that there should roughly be 20(BECAUSE THERE IS 20 TOPICS IN THE NEWSGROUP), and most of the data look like it was outliers. We can see that by either putting this into a DataFrame or we may be lucky with our NumPy-- because this is an array-- to do the value counts."
   ]
  },
  {
   "cell_type": "code",
   "execution_count": 30,
   "id": "e8ae7e86",
   "metadata": {},
   "outputs": [
    {
     "data": {
      "text/plain": [
       "0"
      ]
     },
     "execution_count": 30,
     "metadata": {},
     "output_type": "execute_result"
    }
   ],
   "source": [
    "max(preds)"
   ]
  },
  {
   "cell_type": "code",
   "execution_count": 32,
   "id": "323d546e",
   "metadata": {},
   "outputs": [],
   "source": [
    "import pandas as pd\n",
    "x = pd.DataFrame(preds)"
   ]
  },
  {
   "cell_type": "markdown",
   "id": "7f4094f2",
   "metadata": {},
   "source": [
    "All right, so let's look at the value counts--So what we see here is we've actually got two clusters. but the majority of the data is classified as an outlier. What that's saying is our EPS was probably a little large. Let's see if we can maybe drop it down to size."
   ]
  },
  {
   "cell_type": "code",
   "execution_count": 33,
   "id": "3ccd8f4a",
   "metadata": {},
   "outputs": [
    {
     "data": {
      "text/plain": [
       "-1    7308\n",
       " 0     224\n",
       "Name: 0, dtype: int64"
      ]
     },
     "execution_count": 33,
     "metadata": {},
     "output_type": "execute_result"
    }
   ],
   "source": [
    "x[0].value_counts()"
   ]
  },
  {
   "cell_type": "code",
   "execution_count": 34,
   "id": "989f0638",
   "metadata": {},
   "outputs": [],
   "source": [
    "db = DBSCAN(eps=5, min_samples=5)"
   ]
  },
  {
   "cell_type": "code",
   "execution_count": 35,
   "id": "5c878484",
   "metadata": {},
   "outputs": [],
   "source": [
    "preds = db.fit_predict(new_vectors)"
   ]
  },
  {
   "cell_type": "markdown",
   "id": "3ed006e2",
   "metadata": {},
   "source": [
    "Now it looks like we've got actually got the opposite problem in that all the data is in a single cluster. So we've located the region where the EPS needs to be tuned. Further tuning can help us determine a number of clusters that we want. And we know our target is roughly 20, and that's because there's 20 topics in the news group.\n",
    "\n",
    "But if you're in unstructured and you're trying to create features, keep in mind how many features or values you want to create out of your clusters. So typically, we would want something in the 20 to 100 range. And now, once we refine our EPS between 0.5 and 5, we'll eventually settle on a number of clusters."
   ]
  },
  {
   "cell_type": "code",
   "execution_count": 36,
   "id": "a858fd1a",
   "metadata": {},
   "outputs": [
    {
     "data": {
      "text/plain": [
       "0    7532\n",
       "Name: 0, dtype: int64"
      ]
     },
     "execution_count": 36,
     "metadata": {},
     "output_type": "execute_result"
    }
   ],
   "source": [
    "x = pd.DataFrame(preds)\n",
    "x[0].value_counts()"
   ]
  },
  {
   "cell_type": "markdown",
   "id": "63c4c084",
   "metadata": {},
   "source": [
    "#### K-MEANS CLUSTERING - unstructured - finding relationships"
   ]
  },
  {
   "cell_type": "markdown",
   "id": "92678b80",
   "metadata": {},
   "source": [
    "The number of clusters has to be decided ahead of time."
   ]
  },
  {
   "cell_type": "code",
   "execution_count": 39,
   "id": "ba464334",
   "metadata": {},
   "outputs": [],
   "source": [
    "from sklearn.cluster import KMeans\n",
    "kmeans = KMeans(n_clusters=20, tol=0.0001, max_iter=300)"
   ]
  },
  {
   "cell_type": "code",
   "execution_count": 40,
   "id": "1e5eecf3",
   "metadata": {},
   "outputs": [
    {
     "data": {
      "text/plain": [
       "array([ 8, 10,  1, ..., 10,  1,  6])"
      ]
     },
     "execution_count": 40,
     "metadata": {},
     "output_type": "execute_result"
    }
   ],
   "source": [
    "kmeans.fit_predict(new_vectors)"
   ]
  },
  {
   "cell_type": "markdown",
   "id": "ae90bef6",
   "metadata": {},
   "source": [
    "So while the numbers won't match up exactly because, remember, these are assigned labels, and those assigned labels have meanings.\n",
    "\n",
    "So 7 may be the car news group and 4 may be the Sci-fi news group. Of course, in clustering, the clustering has no idea which cluster is which. So there may be a one-to-one correspondence that says in the clustering, cluster 12 in the clustering is actually target 7. Now this is because we have supervised data and we're trying to find unsupervised structure."
   ]
  },
  {
   "cell_type": "code",
   "execution_count": 41,
   "id": "62463ca3",
   "metadata": {},
   "outputs": [
    {
     "data": {
      "text/plain": [
       "array([ 7,  5,  0, ...,  9,  6, 15])"
      ]
     },
     "execution_count": 41,
     "metadata": {},
     "output_type": "execute_result"
    }
   ],
   "source": [
    "newsgroups_train['target']"
   ]
  },
  {
   "cell_type": "markdown",
   "id": "63d5564e",
   "metadata": {},
   "source": [
    "We don't know at the end what the correspondence is either. So that's why it's really difficult for us at this point, until we actually find a match up of what cluster would go to what. So at this point, we will finish our k-means tutorial.\n",
    "\n",
    "A reminder, we did guess initially on the clusters, but we had a fairly educated guess because we knew there were 20 classes. In reality, what we would do is look at the dispersion of the centers. In other words, we would measure the distance to the points in the cluster as a lost metric and try and find where that stop decreasing-- known as the elbow method.\n",
    "\n",
    "Once that has stopped decreasing, that would tell us the proper number of clusters that it optimizes our problem. But for now, we used k-means to demonstrate that we could cluster and that it did find some structure features within our data.\n",
    "\n",
    "And remember, that the labels found by k-means definitely do not correspond to your supervised labels because k-means has no concept of what your individual original targets were. "
   ]
  },
  {
   "cell_type": "code",
   "execution_count": null,
   "id": "f3410b6d",
   "metadata": {},
   "outputs": [],
   "source": []
  }
 ],
 "metadata": {
  "kernelspec": {
   "display_name": "Python 3",
   "language": "python",
   "name": "python3"
  },
  "language_info": {
   "codemirror_mode": {
    "name": "ipython",
    "version": 3
   },
   "file_extension": ".py",
   "mimetype": "text/x-python",
   "name": "python",
   "nbconvert_exporter": "python",
   "pygments_lexer": "ipython3",
   "version": "3.8.8"
  }
 },
 "nbformat": 4,
 "nbformat_minor": 5
}
